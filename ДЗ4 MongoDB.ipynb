{
 "cells": [
  {
   "cell_type": "code",
   "execution_count": 36,
   "id": "d308b8d7",
   "metadata": {},
   "outputs": [],
   "source": [
    "import pymongo"
   ]
  },
  {
   "cell_type": "code",
   "execution_count": 44,
   "id": "41451671",
   "metadata": {},
   "outputs": [],
   "source": [
    "import requests\n",
    "from pymongo import MongoClient"
   ]
  },
  {
   "cell_type": "code",
   "execution_count": 45,
   "id": "20ca3196",
   "metadata": {},
   "outputs": [],
   "source": [
    "client = MongoClient('mongodb://localhost:27017/')"
   ]
  },
  {
   "cell_type": "code",
   "execution_count": 46,
   "id": "b0031438",
   "metadata": {},
   "outputs": [
    {
     "name": "stdout",
     "output_type": "stream",
     "text": [
      "['admin', 'config', 'local']\n"
     ]
    }
   ],
   "source": [
    "print(client.list_database_names())"
   ]
  },
  {
   "cell_type": "code",
   "execution_count": 78,
   "id": "cdf9fcd0",
   "metadata": {},
   "outputs": [],
   "source": [
    "db = client.quotes"
   ]
  },
  {
   "cell_type": "code",
   "execution_count": 80,
   "id": "0ae0422b",
   "metadata": {},
   "outputs": [
    {
     "data": {
      "text/plain": [
       "200"
      ]
     },
     "execution_count": 80,
     "metadata": {},
     "output_type": "execute_result"
    }
   ],
   "source": [
    "url = 'https://quotes.toscrape.com/api/quotes?page=1'\n",
    "r = requests.get(url)\n",
    "r.status_code"
   ]
  },
  {
   "cell_type": "code",
   "execution_count": 81,
   "id": "fbb45898",
   "metadata": {},
   "outputs": [
    {
     "data": {
      "text/plain": [
       "{'has_next': True,\n",
       " 'page': 1,\n",
       " 'quotes': [{'author': {'goodreads_link': '/author/show/9810.Albert_Einstein',\n",
       "    'name': 'Albert Einstein',\n",
       "    'slug': 'Albert-Einstein'},\n",
       "   'tags': ['change', 'deep-thoughts', 'thinking', 'world'],\n",
       "   'text': '“The world as we have created it is a process of our thinking. It cannot be changed without changing our thinking.”'},\n",
       "  {'author': {'goodreads_link': '/author/show/1077326.J_K_Rowling',\n",
       "    'name': 'J.K. Rowling',\n",
       "    'slug': 'J-K-Rowling'},\n",
       "   'tags': ['abilities', 'choices'],\n",
       "   'text': '“It is our choices, Harry, that show what we truly are, far more than our abilities.”'},\n",
       "  {'author': {'goodreads_link': '/author/show/9810.Albert_Einstein',\n",
       "    'name': 'Albert Einstein',\n",
       "    'slug': 'Albert-Einstein'},\n",
       "   'tags': ['inspirational', 'life', 'live', 'miracle', 'miracles'],\n",
       "   'text': '“There are only two ways to live your life. One is as though nothing is a miracle. The other is as though everything is a miracle.”'},\n",
       "  {'author': {'goodreads_link': '/author/show/1265.Jane_Austen',\n",
       "    'name': 'Jane Austen',\n",
       "    'slug': 'Jane-Austen'},\n",
       "   'tags': ['aliteracy', 'books', 'classic', 'humor'],\n",
       "   'text': '“The person, be it gentleman or lady, who has not pleasure in a good novel, must be intolerably stupid.”'},\n",
       "  {'author': {'goodreads_link': '/author/show/82952.Marilyn_Monroe',\n",
       "    'name': 'Marilyn Monroe',\n",
       "    'slug': 'Marilyn-Monroe'},\n",
       "   'tags': ['be-yourself', 'inspirational'],\n",
       "   'text': \"“Imperfection is beauty, madness is genius and it's better to be absolutely ridiculous than absolutely boring.”\"},\n",
       "  {'author': {'goodreads_link': '/author/show/9810.Albert_Einstein',\n",
       "    'name': 'Albert Einstein',\n",
       "    'slug': 'Albert-Einstein'},\n",
       "   'tags': ['adulthood', 'success', 'value'],\n",
       "   'text': '“Try not to become a man of success. Rather become a man of value.”'},\n",
       "  {'author': {'goodreads_link': '/author/show/7617.Andr_Gide',\n",
       "    'name': 'André Gide',\n",
       "    'slug': 'Andre-Gide'},\n",
       "   'tags': ['life', 'love'],\n",
       "   'text': '“It is better to be hated for what you are than to be loved for what you are not.”'},\n",
       "  {'author': {'goodreads_link': '/author/show/3091287.Thomas_A_Edison',\n",
       "    'name': 'Thomas A. Edison',\n",
       "    'slug': 'Thomas-A-Edison'},\n",
       "   'tags': ['edison', 'failure', 'inspirational', 'paraphrased'],\n",
       "   'text': \"“I have not failed. I've just found 10,000 ways that won't work.”\"},\n",
       "  {'author': {'goodreads_link': '/author/show/44566.Eleanor_Roosevelt',\n",
       "    'name': 'Eleanor Roosevelt',\n",
       "    'slug': 'Eleanor-Roosevelt'},\n",
       "   'tags': ['misattributed-eleanor-roosevelt'],\n",
       "   'text': \"“A woman is like a tea bag; you never know how strong it is until it's in hot water.”\"},\n",
       "  {'author': {'goodreads_link': '/author/show/7103.Steve_Martin',\n",
       "    'name': 'Steve Martin',\n",
       "    'slug': 'Steve-Martin'},\n",
       "   'tags': ['humor', 'obvious', 'simile'],\n",
       "   'text': '“A day without sunshine is like, you know, night.”'}],\n",
       " 'tag': None,\n",
       " 'top_ten_tags': [['love', 14],\n",
       "  ['inspirational', 13],\n",
       "  ['life', 13],\n",
       "  ['humor', 12],\n",
       "  ['books', 11],\n",
       "  ['reading', 7],\n",
       "  ['friendship', 5],\n",
       "  ['friends', 4],\n",
       "  ['truth', 4],\n",
       "  ['simile', 3]]}"
      ]
     },
     "execution_count": 81,
     "metadata": {},
     "output_type": "execute_result"
    }
   ],
   "source": [
    "r.json()"
   ]
  },
  {
   "cell_type": "code",
   "execution_count": 82,
   "id": "b7055cdb",
   "metadata": {},
   "outputs": [
    {
     "data": {
      "text/plain": [
       "10"
      ]
     },
     "execution_count": 82,
     "metadata": {},
     "output_type": "execute_result"
    }
   ],
   "source": [
    "quotes = r.json()['quotes']\n",
    "len(quotes)"
   ]
  },
  {
   "cell_type": "code",
   "execution_count": 83,
   "id": "6a026bd4",
   "metadata": {},
   "outputs": [
    {
     "data": {
      "text/plain": [
       "[{'author': {'goodreads_link': '/author/show/9810.Albert_Einstein',\n",
       "   'name': 'Albert Einstein',\n",
       "   'slug': 'Albert-Einstein'},\n",
       "  'tags': ['change', 'deep-thoughts', 'thinking', 'world'],\n",
       "  'text': '“The world as we have created it is a process of our thinking. It cannot be changed without changing our thinking.”'},\n",
       " {'author': {'goodreads_link': '/author/show/1077326.J_K_Rowling',\n",
       "   'name': 'J.K. Rowling',\n",
       "   'slug': 'J-K-Rowling'},\n",
       "  'tags': ['abilities', 'choices'],\n",
       "  'text': '“It is our choices, Harry, that show what we truly are, far more than our abilities.”'},\n",
       " {'author': {'goodreads_link': '/author/show/9810.Albert_Einstein',\n",
       "   'name': 'Albert Einstein',\n",
       "   'slug': 'Albert-Einstein'},\n",
       "  'tags': ['inspirational', 'life', 'live', 'miracle', 'miracles'],\n",
       "  'text': '“There are only two ways to live your life. One is as though nothing is a miracle. The other is as though everything is a miracle.”'},\n",
       " {'author': {'goodreads_link': '/author/show/1265.Jane_Austen',\n",
       "   'name': 'Jane Austen',\n",
       "   'slug': 'Jane-Austen'},\n",
       "  'tags': ['aliteracy', 'books', 'classic', 'humor'],\n",
       "  'text': '“The person, be it gentleman or lady, who has not pleasure in a good novel, must be intolerably stupid.”'},\n",
       " {'author': {'goodreads_link': '/author/show/82952.Marilyn_Monroe',\n",
       "   'name': 'Marilyn Monroe',\n",
       "   'slug': 'Marilyn-Monroe'},\n",
       "  'tags': ['be-yourself', 'inspirational'],\n",
       "  'text': \"“Imperfection is beauty, madness is genius and it's better to be absolutely ridiculous than absolutely boring.”\"},\n",
       " {'author': {'goodreads_link': '/author/show/9810.Albert_Einstein',\n",
       "   'name': 'Albert Einstein',\n",
       "   'slug': 'Albert-Einstein'},\n",
       "  'tags': ['adulthood', 'success', 'value'],\n",
       "  'text': '“Try not to become a man of success. Rather become a man of value.”'},\n",
       " {'author': {'goodreads_link': '/author/show/7617.Andr_Gide',\n",
       "   'name': 'André Gide',\n",
       "   'slug': 'Andre-Gide'},\n",
       "  'tags': ['life', 'love'],\n",
       "  'text': '“It is better to be hated for what you are than to be loved for what you are not.”'},\n",
       " {'author': {'goodreads_link': '/author/show/3091287.Thomas_A_Edison',\n",
       "   'name': 'Thomas A. Edison',\n",
       "   'slug': 'Thomas-A-Edison'},\n",
       "  'tags': ['edison', 'failure', 'inspirational', 'paraphrased'],\n",
       "  'text': \"“I have not failed. I've just found 10,000 ways that won't work.”\"},\n",
       " {'author': {'goodreads_link': '/author/show/44566.Eleanor_Roosevelt',\n",
       "   'name': 'Eleanor Roosevelt',\n",
       "   'slug': 'Eleanor-Roosevelt'},\n",
       "  'tags': ['misattributed-eleanor-roosevelt'],\n",
       "  'text': \"“A woman is like a tea bag; you never know how strong it is until it's in hot water.”\"},\n",
       " {'author': {'goodreads_link': '/author/show/7103.Steve_Martin',\n",
       "   'name': 'Steve Martin',\n",
       "   'slug': 'Steve-Martin'},\n",
       "  'tags': ['humor', 'obvious', 'simile'],\n",
       "  'text': '“A day without sunshine is like, you know, night.”'}]"
      ]
     },
     "execution_count": 83,
     "metadata": {},
     "output_type": "execute_result"
    }
   ],
   "source": [
    "quotes"
   ]
  },
  {
   "cell_type": "code",
   "execution_count": 84,
   "id": "6eabc07f",
   "metadata": {},
   "outputs": [],
   "source": [
    "db_quotes = db.all_quotes.find()\n",
    "for quote in db_quotes:\n",
    "    print(quote)"
   ]
  },
  {
   "cell_type": "code",
   "execution_count": 85,
   "id": "6d0edf71",
   "metadata": {},
   "outputs": [
    {
     "data": {
      "text/plain": [
       "<pymongo.results.InsertManyResult at 0x20add6d8a90>"
      ]
     },
     "execution_count": 85,
     "metadata": {},
     "output_type": "execute_result"
    }
   ],
   "source": [
    "db.all_quotes.insert_many(quotes)"
   ]
  },
  {
   "cell_type": "code",
   "execution_count": 86,
   "id": "3a104b38",
   "metadata": {},
   "outputs": [
    {
     "data": {
      "text/plain": [
       "[{'_id': ObjectId('6268319440ba3000ed0528d2'),\n",
       "  'author': {'goodreads_link': '/author/show/9810.Albert_Einstein',\n",
       "   'name': 'Albert Einstein',\n",
       "   'slug': 'Albert-Einstein'},\n",
       "  'tags': ['change', 'deep-thoughts', 'thinking', 'world'],\n",
       "  'text': '“The world as we have created it is a process of our thinking. It cannot be changed without changing our thinking.”'},\n",
       " {'_id': ObjectId('6268319440ba3000ed0528d3'),\n",
       "  'author': {'goodreads_link': '/author/show/1077326.J_K_Rowling',\n",
       "   'name': 'J.K. Rowling',\n",
       "   'slug': 'J-K-Rowling'},\n",
       "  'tags': ['abilities', 'choices'],\n",
       "  'text': '“It is our choices, Harry, that show what we truly are, far more than our abilities.”'},\n",
       " {'_id': ObjectId('6268319440ba3000ed0528d4'),\n",
       "  'author': {'goodreads_link': '/author/show/9810.Albert_Einstein',\n",
       "   'name': 'Albert Einstein',\n",
       "   'slug': 'Albert-Einstein'},\n",
       "  'tags': ['inspirational', 'life', 'live', 'miracle', 'miracles'],\n",
       "  'text': '“There are only two ways to live your life. One is as though nothing is a miracle. The other is as though everything is a miracle.”'},\n",
       " {'_id': ObjectId('6268319440ba3000ed0528d5'),\n",
       "  'author': {'goodreads_link': '/author/show/1265.Jane_Austen',\n",
       "   'name': 'Jane Austen',\n",
       "   'slug': 'Jane-Austen'},\n",
       "  'tags': ['aliteracy', 'books', 'classic', 'humor'],\n",
       "  'text': '“The person, be it gentleman or lady, who has not pleasure in a good novel, must be intolerably stupid.”'},\n",
       " {'_id': ObjectId('6268319440ba3000ed0528d6'),\n",
       "  'author': {'goodreads_link': '/author/show/82952.Marilyn_Monroe',\n",
       "   'name': 'Marilyn Monroe',\n",
       "   'slug': 'Marilyn-Monroe'},\n",
       "  'tags': ['be-yourself', 'inspirational'],\n",
       "  'text': \"“Imperfection is beauty, madness is genius and it's better to be absolutely ridiculous than absolutely boring.”\"},\n",
       " {'_id': ObjectId('6268319440ba3000ed0528d7'),\n",
       "  'author': {'goodreads_link': '/author/show/9810.Albert_Einstein',\n",
       "   'name': 'Albert Einstein',\n",
       "   'slug': 'Albert-Einstein'},\n",
       "  'tags': ['adulthood', 'success', 'value'],\n",
       "  'text': '“Try not to become a man of success. Rather become a man of value.”'},\n",
       " {'_id': ObjectId('6268319440ba3000ed0528d8'),\n",
       "  'author': {'goodreads_link': '/author/show/7617.Andr_Gide',\n",
       "   'name': 'André Gide',\n",
       "   'slug': 'Andre-Gide'},\n",
       "  'tags': ['life', 'love'],\n",
       "  'text': '“It is better to be hated for what you are than to be loved for what you are not.”'},\n",
       " {'_id': ObjectId('6268319440ba3000ed0528d9'),\n",
       "  'author': {'goodreads_link': '/author/show/3091287.Thomas_A_Edison',\n",
       "   'name': 'Thomas A. Edison',\n",
       "   'slug': 'Thomas-A-Edison'},\n",
       "  'tags': ['edison', 'failure', 'inspirational', 'paraphrased'],\n",
       "  'text': \"“I have not failed. I've just found 10,000 ways that won't work.”\"},\n",
       " {'_id': ObjectId('6268319440ba3000ed0528da'),\n",
       "  'author': {'goodreads_link': '/author/show/44566.Eleanor_Roosevelt',\n",
       "   'name': 'Eleanor Roosevelt',\n",
       "   'slug': 'Eleanor-Roosevelt'},\n",
       "  'tags': ['misattributed-eleanor-roosevelt'],\n",
       "  'text': \"“A woman is like a tea bag; you never know how strong it is until it's in hot water.”\"},\n",
       " {'_id': ObjectId('6268319440ba3000ed0528db'),\n",
       "  'author': {'goodreads_link': '/author/show/7103.Steve_Martin',\n",
       "   'name': 'Steve Martin',\n",
       "   'slug': 'Steve-Martin'},\n",
       "  'tags': ['humor', 'obvious', 'simile'],\n",
       "  'text': '“A day without sunshine is like, you know, night.”'}]"
      ]
     },
     "execution_count": 86,
     "metadata": {},
     "output_type": "execute_result"
    }
   ],
   "source": [
    "db_quotes = list(db.all_quotes.find())\n",
    "db_quotes"
   ]
  },
  {
   "cell_type": "code",
   "execution_count": 87,
   "id": "50f90d0b",
   "metadata": {},
   "outputs": [
    {
     "data": {
      "text/plain": [
       "[{'_id': ObjectId('6268319440ba3000ed0528d4'),\n",
       "  'author': {'goodreads_link': '/author/show/9810.Albert_Einstein',\n",
       "   'name': 'Albert Einstein',\n",
       "   'slug': 'Albert-Einstein'},\n",
       "  'tags': ['inspirational', 'life', 'live', 'miracle', 'miracles'],\n",
       "  'text': '“There are only two ways to live your life. One is as though nothing is a miracle. The other is as though everything is a miracle.”'},\n",
       " {'_id': ObjectId('6268319440ba3000ed0528d8'),\n",
       "  'author': {'goodreads_link': '/author/show/7617.Andr_Gide',\n",
       "   'name': 'André Gide',\n",
       "   'slug': 'Andre-Gide'},\n",
       "  'tags': ['life', 'love'],\n",
       "  'text': '“It is better to be hated for what you are than to be loved for what you are not.”'}]"
      ]
     },
     "execution_count": 87,
     "metadata": {},
     "output_type": "execute_result"
    }
   ],
   "source": [
    "books_quote = list(db.all_quotes.find({'tags': 'life'}))\n",
    "books_quote"
   ]
  }
 ],
 "metadata": {
  "kernelspec": {
   "display_name": "Python 3",
   "language": "python",
   "name": "python3"
  },
  "language_info": {
   "codemirror_mode": {
    "name": "ipython",
    "version": 3
   },
   "file_extension": ".py",
   "mimetype": "text/x-python",
   "name": "python",
   "nbconvert_exporter": "python",
   "pygments_lexer": "ipython3",
   "version": "3.8.8"
  }
 },
 "nbformat": 4,
 "nbformat_minor": 5
}
