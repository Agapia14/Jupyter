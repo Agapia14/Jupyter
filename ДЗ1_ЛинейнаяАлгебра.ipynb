{
 "cells": [
  {
   "cell_type": "markdown",
   "id": "3ac705ab",
   "metadata": {},
   "source": [
    "\n",
    "Урок 1. Линейное пространство"
   ]
  },
  {
   "cell_type": "markdown",
   "id": "4a200347",
   "metadata": {},
   "source": [
    "1. Исследовать на линейную зависимость:\n",
    "f1(x)=ex,f2(x)=1,f3(x)=x+1,f4(x)=x−ex."
   ]
  },
  {
   "cell_type": "markdown",
   "id": "75edca66",
   "metadata": {},
   "source": [
    "Для того, чтобы некоторое множество элементов линейного пространства было линейно зависимым, необходимо и достаточно, чтобы один из этих элементов являлся линейной комбинацией остальных.\n",
    "f4(x)=f3(x)−f2(x)−f1(x) = x−ex=x+1−1−ex = x−ex\n",
    "Так как f4(x)=x−ex является линейной комбинацией f1(x)=ex,f2(x)=1,f3(x)=x+1, то f1(x),f2(x),f3(x),f4(x) линейной зависимы.\n"
   ]
  },
  {
   "cell_type": "markdown",
   "id": "573a3e5d",
   "metadata": {},
   "source": [
    "2. Исследовать на линейную зависимость:\n",
    "f1(x)=2,f2(x)=x,f3(x)=x2,f4(x)=(x+1)2.\n"
   ]
  },
  {
   "cell_type": "markdown",
   "id": "bd7633ff",
   "metadata": {},
   "source": [
    "Разложим f4(x) по формуле квадрата суммы:\n",
    "f4(x)=(x+1)2=x2+2x+1\n",
    "Выразим f4(x) через линейную комбиницаю𝑓1(𝑥)=2, 𝑓2(𝑥)=𝑥, 𝑓3(𝑥)=𝑥2:\n",
    "f4(x) = 1∗f3(x)+2∗f2(x)+1/2∗f1(x) = x2+2x+1\n",
    "Для того, чтобы некоторое множество элементов линейного пространства было линейно зависимым, необходимо и достаточно, чтобы один из этих элементов являлся линейной комбинацией остальных.\n",
    "Так как f4(x) является линейной комбинацией f1(x)=2,f2(x)=x,f3(x)=x2, то f1(x),f2(x),f3(x),f4(x) линейно зависимы.\n"
   ]
  },
  {
   "cell_type": "markdown",
   "id": "0f6e9117",
   "metadata": {},
   "source": [
    "3. Найти координаты вектора x=(2,3,5)∈R3 в базисе b1=(0,0,10), b2=(2,0,0), b3=(0,1,0)."
   ]
  },
  {
   "cell_type": "markdown",
   "id": "37b054a2",
   "metadata": {},
   "source": [
    "(2,3,5)=a1(0,0,10)+a2(2,0,0)+a3(0,1,0)\n",
    "2a2=2 --> a2=1\n",
    "a3=3\n",
    "10a1=5 -- > a1=2\n",
    "x=(2,3,5)∈R3 вбазисе b1=(0,0,10), b2=(2,0,0), b3=(0,1,0):\n",
    "2(0,0,10)+(2,0,0)+3(0,1,0) = 2b1+b2+3b3\n",
    "Координатами вектора x в базисе b1, b2, b3 являются: 2, 1, 3.\n"
   ]
  },
  {
   "cell_type": "markdown",
   "id": "ef4427ce",
   "metadata": {},
   "source": [
    "4. Найти координаты вектора 3x2−2x+2∈R3[x]:\n",
    "а) в базисе 1, x, x2;\n",
    "б) в базисе x2, x−1, 1.\n"
   ]
  },
  {
   "cell_type": "markdown",
   "id": "08952f8f",
   "metadata": {},
   "source": [
    "а) в базисе 1, x, x2:\n",
    "e1 = 1, e2 = x, e3 = x2\n",
    "3x2−2x+2 = 2−2x+3x2 = 2e1−2e2+3e3\n",
    "Ответ: (2, -2, 3)\n",
    "б) в базисе x2, x−1, 1:\n",
    "e1 = x2, e2 = x−1, e3 = 1\n",
    "3x2−2x+2 = 3x2−2(x−1)+0 = 3e1−2e2+0e3\n",
    "Ответ: (3, -2, 0)\n"
   ]
  },
  {
   "cell_type": "markdown",
   "id": "6d8208fd",
   "metadata": {},
   "source": [
    "5. Установить, является ли линейным подпространством:\n",
    "а) совокупность всех векторов трехмерного пространства, у которых по крайней мере одна из первых двух координат равна нулю;\n",
    "б) все векторы, являющиеся линейными комбинациями данных векторов {u1,u2,...,un}.\n"
   ]
  },
  {
   "cell_type": "markdown",
   "id": "c3dc1f1f",
   "metadata": {},
   "source": [
    "Подмножество L линейного пространства V является его подпространством тогда и только тогда, когда для любых элементов u,v∈L илюбого α∈R выполняютсяусловия:\n",
    "1) u+v∈L;2) α⋅u∈L.\n",
    "а) совокупность всех векторов трехмерного пространства, у которых по крайней мере одна из первых двух координат равна нулю:\n",
    "x = (0, a, b)\n",
    "y = (c, 0, d)\n",
    "x + y = (c, a, b + d)\n",
    "kx = k(0, a, b) = (0, ka, kb)\n",
    "ky = k(c, 0, d) = (kc, 0, kd)\n",
    "Не выполняется условие 1) u+v∈L, полученный вектор (c, a, b + d) непринадлежит совокупностисовокупности всех векторов трехмерного пространства, у которых покрайней мере одна из первых двух координат равна нулю. Подпространство не является линейным.\n",
    "б) все векторы, являющиеся линейными комбинациями данных векторов {u1,u2,...,un}:\n",
    "Совокупность всех векторов, являющихся линейными комбинациями данных векторов {u1,u2,...,un} является линейная оболочка.\n",
    "x = a1u1+b1u2+...+z1un\n",
    "y = a2u1+b2u2+...+z2un\n",
    "x + y = (a1+a2)u1+(b1+b2)u2+(z1+z2)un\n",
    "kx = ka1u1+kb1u2+...+kz1un\n",
    "ky = ka2u1+kb2u2+...+kz2un\n",
    "Условия 1) u+v∈L и 2) α⋅u∈L выполняются. Подпространство является линейным.\n"
   ]
  },
  {
   "cell_type": "code",
   "execution_count": 1,
   "id": "dba4c061",
   "metadata": {},
   "outputs": [],
   "source": [
    "import numpy as np\n",
    "from scipy import linalg"
   ]
  },
  {
   "cell_type": "markdown",
   "id": "0d382410",
   "metadata": {},
   "source": [
    "1. Найти скалярное произведение векторов x,y∈R:\n",
    "а) x=(0,−3,6), y=(−4,7,9);\n",
    "б) x=(7,−4,0,1), y=(−3,1,11,2).\n"
   ]
  },
  {
   "cell_type": "code",
   "execution_count": 2,
   "id": "e7fa0f60",
   "metadata": {},
   "outputs": [
    {
     "name": "stdout",
     "output_type": "stream",
     "text": [
      "x=[ 0 -3  6]\n",
      "y=[-4  7  9]\n",
      "Скалярное произведение x и y: 33\n"
     ]
    }
   ],
   "source": [
    "# а)  𝑥=(0,−3,6), 𝑦=(−4,7,9)\n",
    "\n",
    "x = np.array([0, -3, 6])\n",
    "y = np.array([-4, 7, 9])\n",
    "\n",
    "print(f'x={x}')\n",
    "print(f'y={y}')\n",
    "print(f'Скалярное произведение x и y: {np.dot(x, y)}')"
   ]
  },
  {
   "cell_type": "code",
   "execution_count": 3,
   "id": "4e91ebd4",
   "metadata": {},
   "outputs": [
    {
     "name": "stdout",
     "output_type": "stream",
     "text": [
      "x=[ 7 -4  0  1]\n",
      "y=[-3  1 11  2]\n",
      "Скалярное произведение x и y: -23\n"
     ]
    }
   ],
   "source": [
    "# б)  𝑥=(7,−4,0,1), 𝑦=(−3,1,11,2)\n",
    "\n",
    "x = np.array([7, -4, 0, 1])\n",
    "y = np.array([-3, 1, 11, 2])\n",
    "\n",
    "print(f'x={x}')\n",
    "print(f'y={y}')\n",
    "print(f'Скалярное произведение x и y: {np.dot(x, y)}')"
   ]
  },
  {
   "cell_type": "markdown",
   "id": "04926390",
   "metadata": {},
   "source": [
    "2. Найти нормы векторов (4,2,4) и (12,3,4) и угол между ними."
   ]
  },
  {
   "cell_type": "code",
   "execution_count": 4,
   "id": "dd9f67cf",
   "metadata": {},
   "outputs": [
    {
     "name": "stdout",
     "output_type": "stream",
     "text": [
      "a=[4 2 4]\n",
      "b=[12  3  4]\n",
      "l2 норма вектора a: 6.0\n",
      "l2 норма вектора b: 13.0\n",
      "Косинус угла между a и b: 0.90\n",
      "Угол между a и b: 0.46\n"
     ]
    }
   ],
   "source": [
    "a = np.array([4, 2, 4])\n",
    "b = np.array([12, 3, 4])\n",
    "\n",
    "print(f'a={a}')\n",
    "print(f'b={b}')\n",
    "print(f'l2 норма вектора a: {linalg.norm(a, ord=2)}')\n",
    "print(f'l2 норма вектора b: {linalg.norm(b, ord=2)}')\n",
    "\n",
    "cos_phi = np.dot(a, b) / linalg.norm(a, ord=2) / linalg.norm(b, ord=2)\n",
    "\n",
    "print(f'Косинус угла между a и b: {cos_phi:.2f}')\n",
    "print(f'Угол между a и b: {np.arccos(cos_phi):.2f}')"
   ]
  },
  {
   "cell_type": "markdown",
   "id": "eb78105c",
   "metadata": {},
   "source": [
    "3. Будет ли линейное пространство евклидовым, если за скалярное произведение принять:\n",
    "а) произведение длин векторов;\n",
    "б) утроенное обычное скалярное произведение векторов?\n"
   ]
  },
  {
   "cell_type": "code",
   "execution_count": 5,
   "id": "29fcf4d7",
   "metadata": {},
   "outputs": [
    {
     "name": "stdout",
     "output_type": "stream",
     "text": [
      "1) (x,y)=(y,x): True\n",
      "2) (kx,y)=k(x, y): True\n",
      "3) (x1+x2,y)=(x1,y) + (x2,y): False\n",
      "4) (x,x)>=0, (x,x)=0 <-> x=0: True, True\n"
     ]
    }
   ],
   "source": [
    "# а) произведение длин векторов\n",
    "\n",
    "# определим скалярное произведение как произведение длин векторов:\n",
    "def scalar_product(a, b, ord=2):\n",
    "    return linalg.norm(a, ord=ord) * linalg.norm(b, ord=ord)\n",
    "\n",
    "# проверим аксиомы:\n",
    "a = np.array([4, 2, 4])\n",
    "b = np.array([12, 3, 4])\n",
    "print(f'1) (x,y)=(y,x): {scalar_product(a, b) == scalar_product(b, a)}')\n",
    "k = 42\n",
    "print(f'2) (kx,y)=k(x, y): {scalar_product(k * a, b) == k * scalar_product(a, b)}')\n",
    "a1 = np.array([0, -3, 6])\n",
    "a2 = np.array([-4, 7, 9])\n",
    "print(f'3) (x1+x2,y)=(x1,y) + (x2,y): {scalar_product(a1 + a2, b) == scalar_product(a1, b) + scalar_product(a2, b)}')\n",
    "print(f'4) (x,x)>=0, (x,x)=0 <-> x=0: {scalar_product(x, x) >= 0}, {scalar_product((0, 0, 0), (0, 0, 0)) == 0.0}')\n",
    "\n",
    "# так как 3 аксиома не выполняется, то если за скалярное произведение принять произведение длин векторов,\n",
    "# то такое линейное пространство не будет являться евклидовым"
   ]
  },
  {
   "cell_type": "code",
   "execution_count": 6,
   "id": "08e8e8a4",
   "metadata": {},
   "outputs": [
    {
     "name": "stdout",
     "output_type": "stream",
     "text": [
      "1) (x,y)=(y,x): True\n",
      "2) (kx,y)=k(x, y): True\n",
      "3) (x1+x2,y)=(x1,y) + (x2,y): True\n",
      "4) (x,x)>=0, (x,x)=0 <-> x=0: True, True\n"
     ]
    }
   ],
   "source": [
    "# б) утроенное обычное скалярное произведение векторов\n",
    "\n",
    "# определим скалярное произведение как утроенное обычное скалярное произведение векторов:\n",
    "def scalar_product(a, b):\n",
    "    return 3 * np.dot(a, b)\n",
    "\n",
    "# проверим аксиомы:\n",
    "a = np.array([4, 2, 4])\n",
    "b = np.array([12, 3, 4])\n",
    "print(f'1) (x,y)=(y,x): {scalar_product(a, b) == scalar_product(b, a)}')\n",
    "k = 42\n",
    "print(f'2) (kx,y)=k(x, y): {scalar_product(k * a, b) == k * scalar_product(a, b)}')\n",
    "a1 = np.array([0, -3, 6])\n",
    "a2 = np.array([-4, 7, 9])\n",
    "print(f'3) (x1+x2,y)=(x1,y) + (x2,y): {scalar_product(a1 + a2, b) == scalar_product(a1, b) + scalar_product(a2, b)}')\n",
    "print(f'4) (x,x)>=0, (x,x)=0 <-> x=0: {scalar_product(x, x) >= 0}, {scalar_product((0, 0, 0), (0, 0, 0)) == 0.0}')\n",
    "\n",
    "# так как все аксиомы выполняется, то если за скалярное произведение принять утроенное обычное скалярное произведение векторов,\n",
    "# то такое линейное пространство будет являться евклидовым"
   ]
  },
  {
   "cell_type": "markdown",
   "id": "3222cdd1",
   "metadata": {},
   "source": [
    "4. Какие из нижеперечисленных векторов образуют ортонормированный базис в линейном пространстве R3:\n",
    "а) (1,0,0),(0,0,1);\n",
    "б) (1/2–√,−1/2–√,0),(1/2–√,1/2–√,0),(0,0,1);\n",
    "в) (1/2,−1/2,0),(0,1/2,1/2),(0,0,1);\n",
    "г) (1,0,0),(0,1,0),(0,0,1)?\n"
   ]
  },
  {
   "cell_type": "code",
   "execution_count": 7,
   "id": "c1018da3",
   "metadata": {},
   "outputs": [
    {
     "name": "stdout",
     "output_type": "stream",
     "text": [
      "(a,b) = 0\n",
      "(a,a) = 1\n",
      "(b,b) = 1\n"
     ]
    }
   ],
   "source": [
    "# а)\n",
    "\n",
    "a, b, = (1, 0, 0), (0, 0, 1)\n",
    "\n",
    "print(f'(a,b) = {np.round(np.dot(a, b), 4)}')\n",
    "print(f'(a,a) = {np.round(np.dot(a, a), 4)}')\n",
    "print(f'(b,b) = {np.round(np.dot(b, b), )}')\n",
    "\n",
    "# Ответ: да"
   ]
  },
  {
   "cell_type": "code",
   "execution_count": 8,
   "id": "5385fd8c",
   "metadata": {},
   "outputs": [
    {
     "name": "stdout",
     "output_type": "stream",
     "text": [
      "(a,b) = 0.0\n",
      "(a,c) = 0.0\n",
      "(b,c) = 0.0\n",
      "(a,a) = 1.0\n",
      "(b,b) = 1.0\n",
      "(c,c) = 1\n"
     ]
    }
   ],
   "source": [
    "# б)\n",
    "\n",
    "a, b, c = (1/np.sqrt(2), -1/np.sqrt(2), 0), (1/np.sqrt(2), 1/np.sqrt(2), 0), (0, 0, 1)\n",
    "\n",
    "print(f'(a,b) = {np.round(np.dot(a, b), 4)}')\n",
    "print(f'(a,c) = {np.round(np.dot(a, c), 4)}')\n",
    "print(f'(b,c) = {np.round(np.dot(b, c), 4)}')\n",
    "print(f'(a,a) = {np.round(np.dot(a, a), 4)}')\n",
    "print(f'(b,b) = {np.round(np.dot(b, b), 4)}')\n",
    "print(f'(c,c) = {np.round(np.dot(c, c), 4)}')\n",
    "\n",
    "# Ответ: да"
   ]
  },
  {
   "cell_type": "code",
   "execution_count": 9,
   "id": "05d2acea",
   "metadata": {},
   "outputs": [
    {
     "name": "stdout",
     "output_type": "stream",
     "text": [
      "(a,b) = -0.25\n",
      "(a,c) = 0.0\n",
      "(b,c) = 0.5\n",
      "(a,a) = 0.5\n",
      "(b,b) = 0.5\n",
      "(c,c) = 1\n"
     ]
    }
   ],
   "source": [
    "# в)\n",
    "\n",
    "a, b, c = (1/2, -1/2, 0), (0, 1/2, 1/2), (0, 0, 1)\n",
    "\n",
    "print(f'(a,b) = {np.round(np.dot(a, b), 4)}')\n",
    "print(f'(a,c) = {np.round(np.dot(a, c), 4)}')\n",
    "print(f'(b,c) = {np.round(np.dot(b, c), 4)}')\n",
    "print(f'(a,a) = {np.round(np.dot(a, a), 4)}')\n",
    "print(f'(b,b) = {np.round(np.dot(b, b), 4)}')\n",
    "print(f'(c,c) = {np.round(np.dot(c, c), 4)}')\n",
    "\n",
    "# Ответ: нет"
   ]
  },
  {
   "cell_type": "code",
   "execution_count": 10,
   "id": "f8b7d308",
   "metadata": {},
   "outputs": [
    {
     "name": "stdout",
     "output_type": "stream",
     "text": [
      "(a,b) = 0\n",
      "(a,c) = 0\n",
      "(b,c) = 0\n",
      "(a,a) = 1\n",
      "(b,b) = 1\n",
      "(c,c) = 1\n"
     ]
    }
   ],
   "source": [
    "# г)\n",
    "\n",
    "a, b, c = (1, 0, 0), (0, 1, 0), (0, 0, 1)\n",
    "\n",
    "print(f'(a,b) = {np.round(np.dot(a, b), 4)}')\n",
    "print(f'(a,c) = {np.round(np.dot(a, c), 4)}')\n",
    "print(f'(b,c) = {np.round(np.dot(b, c), 4)}')\n",
    "print(f'(a,a) = {np.round(np.dot(a, a), 4)}')\n",
    "print(f'(b,b) = {np.round(np.dot(b, b), 4)}')\n",
    "print(f'(c,c) = {np.round(np.dot(c, c), 4)}')\n",
    "\n",
    "# Ответ: да"
   ]
  }
 ],
 "metadata": {
  "kernelspec": {
   "display_name": "Python 3",
   "language": "python",
   "name": "python3"
  },
  "language_info": {
   "codemirror_mode": {
    "name": "ipython",
    "version": 3
   },
   "file_extension": ".py",
   "mimetype": "text/x-python",
   "name": "python",
   "nbconvert_exporter": "python",
   "pygments_lexer": "ipython3",
   "version": "3.8.8"
  }
 },
 "nbformat": 4,
 "nbformat_minor": 5
}
