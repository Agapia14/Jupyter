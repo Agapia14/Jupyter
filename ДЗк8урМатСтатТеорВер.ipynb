{
 "cells": [
  {
   "cell_type": "code",
   "execution_count": 1,
   "id": "c8e03380",
   "metadata": {},
   "outputs": [],
   "source": [
    "import numpy as np\n",
    "import pandas as pd\n",
    "from scipy import stats"
   ]
  },
  {
   "cell_type": "markdown",
   "id": "a00c4d71",
   "metadata": {},
   "source": [
    "Провести дисперсионный анализ для определения того, есть ли различия среднего роста среди взрослых футболистов, хоккеистов и штангистов. Даны значения роста в трех группах случайно выбранных спортсменов:\n",
    "football_players = [173, 175, 180, 178, 177, 185, 183, 182]\n",
    "hockey_players = [177, 179, 180, 188, 177, 172, 171, 184, 180]\n",
    "lifters = [172, 173, 169, 177, 166, 180, 178, 177, 172, 166, 170]"
   ]
  },
  {
   "cell_type": "code",
   "execution_count": 2,
   "id": "3565e1d5",
   "metadata": {},
   "outputs": [],
   "source": [
    "football_players = np.array([173, 175, 180, 178, 177, 185, 183, 182])\n",
    "hockey_players= np.array([177, 179, 180, 188, 177, 172, 171, 184, 180])\n",
    "lifters = np.array([172, 173, 169, 177, 166, 180, 178, 177, 172, 166, 170])"
   ]
  },
  {
   "cell_type": "code",
   "execution_count": 3,
   "id": "cc02b1fa",
   "metadata": {},
   "outputs": [
    {
     "name": "stdout",
     "output_type": "stream",
     "text": [
      "Cреднее значение по каждой выборке равно для футболистов 179.125, для хоккеистов 178.66666666666666, для штангистов 172.72727272727272\n"
     ]
    }
   ],
   "source": [
    "fp_mean = football_players.mean()\n",
    "hp_mean = hockey_players.mean()\n",
    "lf_mean = lifters.mean()\n",
    "print(f'Cреднее значение по каждой выборке равно для футболистов {fp_mean}, для хоккеистов {hp_mean}, для штангистов {lf_mean}')"
   ]
  },
  {
   "cell_type": "code",
   "execution_count": 4,
   "id": "7983f839",
   "metadata": {},
   "outputs": [
    {
     "name": "stdout",
     "output_type": "stream",
     "text": [
      "Cреднее значение по всем наблюдениям 176.46428571428572\n"
     ]
    }
   ],
   "source": [
    "height = np.concatenate([football_players, hockey_players, lifters])\n",
    "height_mean = height.mean()\n",
    "print(f'Cреднее значение по всем наблюдениям {height_mean}')"
   ]
  },
  {
   "cell_type": "code",
   "execution_count": 5,
   "id": "94e5b04d",
   "metadata": {},
   "outputs": [
    {
     "data": {
      "text/plain": [
       "(253.9074675324678, 577.0568181818182)"
      ]
     },
     "execution_count": 5,
     "metadata": {},
     "output_type": "execute_result"
    }
   ],
   "source": [
    "S2_F = football_players.shape[0] * (fp_mean - height_mean) ** 2 + hockey_players.shape[0] * (hp_mean - height_mean) ** 2 + lifters.shape[0] * (lf_mean - height_mean) ** 2\n",
    "S2_res = ((football_players - fp_mean)**2).sum() + ((hockey_players - hp_mean) ** 2).sum() + ((lifters - lf_mean) ** 2).sum()\n",
    "\n",
    "S2_F, S2_res"
   ]
  },
  {
   "cell_type": "markdown",
   "id": "33cf33b2",
   "metadata": {},
   "source": [
    "Проверим правильность вычислений сопоставлением сумм квадратов отклонений:"
   ]
  },
  {
   "cell_type": "code",
   "execution_count": 6,
   "id": "2b3026d3",
   "metadata": {},
   "outputs": [
    {
     "data": {
      "text/plain": [
       "(830.964285714286, 830.9642857142854)"
      ]
     },
     "execution_count": 6,
     "metadata": {},
     "output_type": "execute_result"
    }
   ],
   "source": [
    "S2_F + S2_res, ((height - height_mean) ** 2).sum()"
   ]
  },
  {
   "cell_type": "code",
   "execution_count": 7,
   "id": "a7f96a90",
   "metadata": {},
   "outputs": [
    {
     "data": {
      "text/plain": [
       "(126.9537337662339, 23.08227272727273)"
      ]
     },
     "execution_count": 7,
     "metadata": {},
     "output_type": "execute_result"
    }
   ],
   "source": [
    "k = 3\n",
    "n = football_players.shape[0] + hockey_players.shape[0] + lifters.shape[0]\n",
    "\n",
    "sigma2_F = S2_F / (k - 1)\n",
    "sigma2_res = S2_res / (n - k)\n",
    "\n",
    "sigma2_F, sigma2_res"
   ]
  },
  {
   "cell_type": "code",
   "execution_count": 8,
   "id": "a7a6f330",
   "metadata": {},
   "outputs": [
    {
     "data": {
      "text/plain": [
       "(5.500053450812598, 3.3851899614491687)"
      ]
     },
     "execution_count": 8,
     "metadata": {},
     "output_type": "execute_result"
    }
   ],
   "source": [
    "T = sigma2_F / sigma2_res\n",
    "\n",
    "alpha = 0.05\n",
    "F_crit = stats.f.ppf(1 - alpha, (k - 1), (n - k))\n",
    "\n",
    "T, F_crit"
   ]
  },
  {
   "cell_type": "markdown",
   "id": "9a1b5e9b",
   "metadata": {},
   "source": [
    "T &gt; F_{crit} => отличие среднего роста среди взрослых футболистов, хоккеистов и штангистов является статистически значимым."
   ]
  }
 ],
 "metadata": {
  "kernelspec": {
   "display_name": "Python 3",
   "language": "python",
   "name": "python3"
  },
  "language_info": {
   "codemirror_mode": {
    "name": "ipython",
    "version": 3
   },
   "file_extension": ".py",
   "mimetype": "text/x-python",
   "name": "python",
   "nbconvert_exporter": "python",
   "pygments_lexer": "ipython3",
   "version": "3.8.8"
  }
 },
 "nbformat": 4,
 "nbformat_minor": 5
}
