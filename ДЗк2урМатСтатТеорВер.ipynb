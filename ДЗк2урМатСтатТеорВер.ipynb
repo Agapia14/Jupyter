{
 "cells": [
  {
   "cell_type": "markdown",
   "id": "82aec2cc",
   "metadata": {},
   "source": [
    "Контрольная работа состоит из пяти вопросов. На каждый вопрос приведено четыре варианта ответа, один из которых правильный. Составьте закон распределения числа правильных ответов при простом угадывании. Найдите M(X), D(X)."
   ]
  },
  {
   "cell_type": "markdown",
   "id": "2d7a1027",
   "metadata": {},
   "source": [
    "Решение:\n",
    "Возможные значения случайной величины (в нашем случае правильных ответов) при простом угадывании при пяти вопросах: х1=0; х2=1;  х3=2; х4=3; х5=4; х6=5\n",
    "\n",
    ". В задании пять вопросов, а значит мы имееем 5 независимых испытаний. Вероятность правильно угадать ответ из четырех вопросов равна р=1/4\n",
    " \n",
    "\n",
    "Биномиальный закон распределения описывается формулой Бернулли:\n",
    "\n",
    "где n = 5, k = 4, p = P(+), q = 1 - p"
   ]
  },
  {
   "cell_type": "code",
   "execution_count": 4,
   "id": "2821a5ff",
   "metadata": {},
   "outputs": [],
   "source": [
    "import numpy as np\n",
    "from math import factorial"
   ]
  },
  {
   "cell_type": "code",
   "execution_count": 5,
   "id": "a8057f51",
   "metadata": {},
   "outputs": [
    {
     "name": "stdout",
     "output_type": "stream",
     "text": [
      "P(X=0) = 0.2373046875\n",
      "P(X=1) = 0.3955078125\n",
      "P(X=2) = 0.263671875\n",
      "P(X=3) = 0.087890625\n",
      "P(X=4) = 0.0146484375\n",
      "P(X=5) = 0.0009765625\n",
      "Сумма всех вероятностей: 1.0\n",
      "Матожидание: 1.25\n",
      "Дисперсия: 0.9375\n"
     ]
    }
   ],
   "source": [
    "N = 5\n",
    "PA = 0.25\n",
    "\n",
    "def combinations(n, k):\n",
    "    return int(factorial(n) / (factorial(k) * factorial(n - k)))\n",
    "\n",
    "def P(x):\n",
    "    return combinations(N, x)*(PA)**x*(1 - PA)**(N-x)\n",
    "\n",
    "def M(x, p):\n",
    "    spam = 0\n",
    "    for i in range(len(x)):\n",
    "        spam += x[i]*p[i]\n",
    "    return spam\n",
    "\n",
    "def D(x, p):\n",
    "    m = M(x, p)\n",
    "    return  M((x - m)**2,p)\n",
    "\n",
    "def init_p(X):\n",
    "    p = []\n",
    "    for i in X:\n",
    "        p.append(P(i))\n",
    "    return p\n",
    "\n",
    "def print_p(X, p, start, end):\n",
    "    for i in X:\n",
    "        if i>=start and i<=end:\n",
    "            print(f'P(X={i}) = {p[i]}')\n",
    "\n",
    "X = np.arange(N+1)\n",
    "p = init_p(X)\n",
    "print_p(X,p,0, len(X)-1)\n",
    "print(f'Сумма всех вероятностей: {np.sum(p)}')\n",
    "m = M(X, p)\n",
    "print(f'Матожидание: {m}')\n",
    "d = D(X, p)\n",
    "print(f'Дисперсия: {d}')"
   ]
  },
  {
   "cell_type": "markdown",
   "id": "e02b3359",
   "metadata": {},
   "source": [
    "Производятся выстрелы по мишени. Вероятность попадания в мишень при одном выстреле равна 0.01. Сколько выстрелов нужно сделать чтобы быть уверенным с вероятностью 0.9, что хотя бы 6 раз будет совершено попадание?\n",
    "Подсказка: 1) \"Вероятность попасть k раз при n выстрелах\" - на какое распределение это похоже? 2) А если нам нужна вероятность P(X >= k), а не P(X = k)? 3) Здесь предстоит немножко покодить.\n",
    "\n"
   ]
  },
  {
   "cell_type": "code",
   "execution_count": 6,
   "id": "bbf4298b",
   "metadata": {},
   "outputs": [
    {
     "name": "stdout",
     "output_type": "stream",
     "text": [
      "Чтобы быть уверенным с вероятностью 0.9001760722801236, что хотя бы 10 раз будет совершено попадание, необходимо сделать не менее 1421 выстрелов\n"
     ]
    }
   ],
   "source": [
    "def puasson(a, k):\n",
    "    return a ** k * np.exp(-a)/factorial(k)\n",
    "\n",
    "\n",
    "def sum_P(n):\n",
    "    p_ = 0\n",
    "    for i in range(10, n + 1):\n",
    "        p_ += puasson(0.01 * n, i)\n",
    "        if puasson(0.01 * n, i) < 10**(-10):\n",
    "            break # вклад в сумму минимален\n",
    "    return p_\n",
    "\n",
    "n = 100\n",
    "while sum_P(n) < 0.9:\n",
    "    n +=1\n",
    "print(f'Чтобы быть уверенным с вероятностью {sum_P(n)}, что хотя бы 10 раз будет совершено попадание, необходимо сделать не менее {n} выстрелов')"
   ]
  }
 ],
 "metadata": {
  "kernelspec": {
   "display_name": "Python 3",
   "language": "python",
   "name": "python3"
  },
  "language_info": {
   "codemirror_mode": {
    "name": "ipython",
    "version": 3
   },
   "file_extension": ".py",
   "mimetype": "text/x-python",
   "name": "python",
   "nbconvert_exporter": "python",
   "pygments_lexer": "ipython3",
   "version": "3.8.8"
  }
 },
 "nbformat": 4,
 "nbformat_minor": 5
}
