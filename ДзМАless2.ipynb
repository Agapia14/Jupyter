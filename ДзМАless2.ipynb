{
 "cells": [
  {
   "cell_type": "markdown",
   "id": "63209fd8",
   "metadata": {},
   "source": [
    "Тема \"Введение в математический анализ\" -- №2 (анализ высказываний)"
   ]
  },
  {
   "cell_type": "markdown",
   "id": "05b63a86",
   "metadata": {},
   "source": [
    "Ɐ y∈[0;1] : sgn (y)=1"
   ]
  },
  {
   "cell_type": "markdown",
   "id": "49007ba4",
   "metadata": {},
   "source": [
    "для любого y принадлежащего интервалу [0; 1] сигнум у равен 1"
   ]
  },
  {
   "cell_type": "markdown",
   "id": "a6411462",
   "metadata": {},
   "source": [
    "Отрицание"
   ]
  },
  {
   "cell_type": "markdown",
   "id": "3439a3d4",
   "metadata": {},
   "source": [
    "∃ y ∉[0;1] : sgn (y) ≠1"
   ]
  },
  {
   "cell_type": "markdown",
   "id": "b194ebf1",
   "metadata": {},
   "source": [
    "По определению сигнума: sgn(y) = 1 при y > 0 следовательно высказывание ложно"
   ]
  },
  {
   "cell_type": "markdown",
   "id": "e6a60dbb",
   "metadata": {},
   "source": [
    "Ɐ n ∈N>2:∃x,y,z ∈N: xn= yn + zn"
   ]
  },
  {
   "cell_type": "markdown",
   "id": "1f0874b0",
   "metadata": {},
   "source": [
    "Для любого n принадлежащего множеству натуральных чисел и больше 2 существуют такие x, y и z принадлежащие множеству натуральных чисел для которых xn= yn + zn"
   ]
  },
  {
   "cell_type": "markdown",
   "id": "b88494a9",
   "metadata": {},
   "source": [
    "Отрицание "
   ]
  },
  {
   "cell_type": "markdown",
   "id": "a4c92aea",
   "metadata": {},
   "source": [
    "∃n∈N⩽2: Ɐx,y,z ∈N: xn≠  yn + zn"
   ]
  },
  {
   "cell_type": "markdown",
   "id": "94b53e92",
   "metadata": {},
   "source": [
    "Высказывание ложно"
   ]
  },
  {
   "cell_type": "markdown",
   "id": "b85f0f5c",
   "metadata": {},
   "source": [
    "Ɐx∈R∃X∈R:X>x"
   ]
  },
  {
   "cell_type": "markdown",
   "id": "4894a318",
   "metadata": {},
   "source": [
    "Для любого x принадлежащего множеству вещественных чисел существует X принадлежащее множеству вещественных чисел такое что X > x"
   ]
  },
  {
   "cell_type": "markdown",
   "id": "0136ea3d",
   "metadata": {},
   "source": [
    "Отрицание"
   ]
  },
  {
   "cell_type": "markdown",
   "id": "64aeea53",
   "metadata": {},
   "source": [
    "∃x∈RⱯX∈R:X⩽x"
   ]
  },
  {
   "cell_type": "markdown",
   "id": "823a3cfc",
   "metadata": {},
   "source": [
    "Высказывание истинно"
   ]
  },
  {
   "cell_type": "markdown",
   "id": "bd617ab4",
   "metadata": {},
   "source": [
    "Ɐx∈C∄y∈C:x>y||x<y"
   ]
  },
  {
   "cell_type": "markdown",
   "id": "13aef6ae",
   "metadata": {},
   "source": [
    "Для любого x принадлежащего множеству комплексных чисел не существует такого y принадлежащего множеству комплексных чисел такого что x>y или x<y"
   ]
  },
  {
   "cell_type": "markdown",
   "id": "950bed1e",
   "metadata": {},
   "source": [
    "Отрицание"
   ]
  },
  {
   "cell_type": "markdown",
   "id": "9650c38b",
   "metadata": {},
   "source": [
    "∃x∈C∃y∈C: x>y, x<y"
   ]
  },
  {
   "cell_type": "markdown",
   "id": "7503aff0",
   "metadata": {},
   "source": [
    "Ɐy∈[0;π/2] ∃Ɛ>0:sin y<sin(y+ Ɛ)"
   ]
  },
  {
   "cell_type": "markdown",
   "id": "72e02d0c",
   "metadata": {},
   "source": [
    "Отрицание"
   ]
  },
  {
   "cell_type": "markdown",
   "id": "960c7e83",
   "metadata": {},
   "source": [
    "∃y∈[0;π/2] Ɐ Ɛ>0: sin y >= sin (y+ Ɛ)"
   ]
  },
  {
   "cell_type": "markdown",
   "id": "0065c6c4",
   "metadata": {},
   "source": [
    "Ɐy∈[0;π)∃Ɛ>0:cos y>cos(y+ Ɛ)"
   ]
  },
  {
   "cell_type": "markdown",
   "id": "0e0802c7",
   "metadata": {},
   "source": [
    "∃x:x∉{N,Z,Q,R,C}"
   ]
  },
  {
   "cell_type": "markdown",
   "id": "9228f792",
   "metadata": {},
   "source": [
    "Существует х не принадлежащее к множеству натуральных, целых, рациональных, вещественных и комплексных чисел."
   ]
  },
  {
   "cell_type": "markdown",
   "id": "5d346501",
   "metadata": {},
   "source": [
    "Отрицание"
   ]
  },
  {
   "cell_type": "markdown",
   "id": "feae297f",
   "metadata": {},
   "source": [
    "Ɐ x:x∈{N,Z,Q,R,C}"
   ]
  },
  {
   "cell_type": "markdown",
   "id": "1f93f22c",
   "metadata": {},
   "source": [
    "Если учесть информацию про гиперкомплексные числа, то высказывание истинно."
   ]
  },
  {
   "cell_type": "markdown",
   "id": "aee4145c",
   "metadata": {},
   "source": [
    "Тема “Множество”\n",
    "1.\tДаны три множества a,b и с. Необходимо выполнить все изученные виды бинарных операций над всеми комбинациями множеств.\n",
    "2.\t*Выполнитьзадание 1 на языке Python"
   ]
  },
  {
   "cell_type": "code",
   "execution_count": 1,
   "id": "0f7ac281",
   "metadata": {},
   "outputs": [],
   "source": [
    "#Зададим множества А,В,С. Не обязательно числовые\n",
    "A = {1, 2, 3, 4, 5, \"десять\", \"двадцать\"}\n",
    "B = {4, 5, 6, 7, 8, \"десять\", \"тридцать\"}\n",
    "C = {3, 7, 9, 22, 4, \"три\", \"пять\"}"
   ]
  },
  {
   "cell_type": "code",
   "execution_count": 2,
   "id": "3e9a67c6",
   "metadata": {},
   "outputs": [
    {
     "name": "stdout",
     "output_type": "stream",
     "text": [
      "{'три', 1, 2, 3, 4, 5, 6, 'двадцать', 7, 8, 'пять', 9, 'тридцать', 22, 'десять'}\n"
     ]
    }
   ],
   "source": [
    "# Объединение множеств\n",
    "print( A | B | C)"
   ]
  },
  {
   "cell_type": "code",
   "execution_count": 3,
   "id": "fbe008ca",
   "metadata": {},
   "outputs": [
    {
     "name": "stdout",
     "output_type": "stream",
     "text": [
      "{4}\n"
     ]
    }
   ],
   "source": [
    "# Пересечение множеств\n",
    "print(A & B & C)"
   ]
  },
  {
   "cell_type": "code",
   "execution_count": 4,
   "id": "762a8cc1",
   "metadata": {},
   "outputs": [
    {
     "name": "stdout",
     "output_type": "stream",
     "text": [
      "{1, 2, 'двадцать'}\n"
     ]
    }
   ],
   "source": [
    "# Разность\n",
    "print (A - B - C)"
   ]
  },
  {
   "cell_type": "code",
   "execution_count": 5,
   "id": "6c5515c8",
   "metadata": {},
   "outputs": [
    {
     "name": "stdout",
     "output_type": "stream",
     "text": [
      "{'три', 1, 2, 4, 6, 'двадцать', 8, 9, 'тридцать', 22, 'пять'}\n"
     ]
    }
   ],
   "source": [
    "# Симметричная разность\n",
    "print( A ^ B ^ C)"
   ]
  }
 ],
 "metadata": {
  "kernelspec": {
   "display_name": "Python 3",
   "language": "python",
   "name": "python3"
  },
  "language_info": {
   "codemirror_mode": {
    "name": "ipython",
    "version": 3
   },
   "file_extension": ".py",
   "mimetype": "text/x-python",
   "name": "python",
   "nbconvert_exporter": "python",
   "pygments_lexer": "ipython3",
   "version": "3.8.8"
  }
 },
 "nbformat": 4,
 "nbformat_minor": 5
}
