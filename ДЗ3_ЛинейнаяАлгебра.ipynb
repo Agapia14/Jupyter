{
 "cells": [
  {
   "cell_type": "code",
   "execution_count": 1,
   "id": "1e871577",
   "metadata": {},
   "outputs": [],
   "source": [
    "import numpy as np"
   ]
  },
  {
   "cell_type": "markdown",
   "id": "a132b608",
   "metadata": {},
   "source": [
    "1. Найти собственные векторы и собственные значения для линейного оператора, заданного матрицей\n",
    " "
   ]
  },
  {
   "cell_type": "code",
   "execution_count": 2,
   "id": "98900321",
   "metadata": {},
   "outputs": [
    {
     "name": "stdout",
     "output_type": "stream",
     "text": [
      "A:\n",
      "[[-1 -6]\n",
      " [ 2  6]]\n",
      "\n"
     ]
    }
   ],
   "source": [
    "A = np.array([[-1, -6], [2, 6]])\n",
    "\n",
    "print(f'A:\\n{A}\\n')"
   ]
  },
  {
   "cell_type": "markdown",
   "id": "44dede7d",
   "metadata": {},
   "source": [
    "v1 = (-2, 1)\n",
    "v2 = (3/2, -1)"
   ]
  },
  {
   "cell_type": "code",
   "execution_count": 3,
   "id": "085534fb",
   "metadata": {},
   "outputs": [
    {
     "name": "stdout",
     "output_type": "stream",
     "text": [
      "A:\n",
      "[[-1 -6]\n",
      " [ 2  6]]\n",
      "\n",
      "Собственные значения:\n",
      "[2 3]\n",
      "\n",
      "Собственные векторы:\n",
      "[-2  1], [ 1.5 -1. ]\n",
      "\n",
      "Нормированные собственные векторы:\n",
      "[-0.89442719  0.4472136 ], [ 0.83205029 -0.5547002 ]\n",
      "\n"
     ]
    }
   ],
   "source": [
    "v1 = np.array([-2, 1])\n",
    "v2 = np.array([3/2, -1])\n",
    "\n",
    "n1 = np.linalg.norm(v1)\n",
    "n2 = np.linalg.norm(v2)\n",
    "\n",
    "print(f'A:\\n{A}\\n')\n",
    "print(f'Собственные значения:\\n{np.array([2, 3])}\\n')\n",
    "print(f'Собственные векторы:\\n{v1}, {v2}\\n')\n",
    "print(f'Нормированные собственные векторы:\\n{v1/n1}, {v2/n2}\\n')"
   ]
  },
  {
   "cell_type": "code",
   "execution_count": 4,
   "id": "58f50e01",
   "metadata": {},
   "outputs": [
    {
     "name": "stdout",
     "output_type": "stream",
     "text": [
      "A:\n",
      "[[-1 -6]\n",
      " [ 2  6]]\n",
      "\n",
      "Собственные значения:\n",
      "[2. 3.]\n",
      "\n",
      "Собственные векторы:\n",
      "[-0.89442719  0.4472136 ], [ 0.83205029 -0.5547002 ]\n",
      "\n"
     ]
    }
   ],
   "source": [
    "w, v = np.linalg.eig(A)\n",
    "\n",
    "print(f'A:\\n{A}\\n')\n",
    "print(f'Собственные значения:\\n{w}\\n')\n",
    "print(f'Собственные векторы:\\n{v[:, 0]}, {v[:, 1]}\\n')"
   ]
  },
  {
   "cell_type": "markdown",
   "id": "5a17a363",
   "metadata": {},
   "source": [
    "2. Дан оператор поворота на 180 градусов, задаваемый матрицей\n",
    " \n",
    "Показать, что любой вектор является для него собственным."
   ]
  },
  {
   "cell_type": "code",
   "execution_count": 5,
   "id": "16873607",
   "metadata": {},
   "outputs": [
    {
     "name": "stdout",
     "output_type": "stream",
     "text": [
      "A:\n",
      "[[-1  0]\n",
      " [ 0 -1]]\n",
      "\n"
     ]
    }
   ],
   "source": [
    "A = np.array([[-1, 0], [0, -1]])\n",
    "\n",
    "print(f'A:\\n{A}\\n')"
   ]
  },
  {
   "cell_type": "code",
   "execution_count": 6,
   "id": "2c90c2f2",
   "metadata": {},
   "outputs": [
    {
     "name": "stdout",
     "output_type": "stream",
     "text": [
      "A:\n",
      "[[-1  0]\n",
      " [ 0 -1]]\n",
      "\n",
      "Собственные значения:\n",
      "[-1. -1.]\n",
      "\n",
      "Собственные векторы:\n",
      "[1. 0.], [0. 1.]\n",
      "\n"
     ]
    }
   ],
   "source": [
    "w, v = np.linalg.eig(A)\n",
    "\n",
    "print(f'A:\\n{A}\\n')\n",
    "print(f'Собственные значения:\\n{w}\\n')\n",
    "print(f'Собственные векторы:\\n{v[:, 0]}, {v[:, 1]}\\n')"
   ]
  },
  {
   "cell_type": "markdown",
   "id": "cc201ec2",
   "metadata": {},
   "source": [
    "Собственным вектором линейного оператора A (матрицы A) называется ненулевой вектор x такой, что Ax = λx.\n",
    "Для единичной матрицы E любой вектор x является собственным, с собственным числом, равным 1, так как Ex = x.\n",
    "Так как матрица A диагональная, тогда собственные значения: λ 1=-1, λ 2=-1\n",
    "А=-1Е\n",
    "-1Ех=λ х\n",
    "-1х=λ х\n",
    "λ =-1\n",
    "\n",
    "Таким образом, любой ненулевой вектор х является собственным для линейного оператора А=-1Е"
   ]
  },
  {
   "cell_type": "code",
   "execution_count": 7,
   "id": "a4e93c66",
   "metadata": {},
   "outputs": [
    {
     "name": "stdout",
     "output_type": "stream",
     "text": [
      "1.0\n"
     ]
    }
   ],
   "source": [
    "x = np.array([np.random.randint(1, 999), np.random.randint(1, 999)])\n",
    "\n",
    "trials = []\n",
    "\n",
    "n = 100000\n",
    "\n",
    "for _ in range(n):\n",
    "    trial = np.array_equal(np.dot(A, x), -1 * x)\n",
    "    trials.append(trial)\n",
    "    \n",
    "print(np.sum(trials) / n)"
   ]
  },
  {
   "cell_type": "markdown",
   "id": "9f993d97",
   "metadata": {},
   "source": [
    "3. Пусть линейный оператор задан матрицей\n",
    "A=(1/−1;1/3).\n",
    "\n",
    "Установить, является ли вектор x=(1,1) собственным вектором этого линейного оператора.\n",
    "(1/−1;1/3) (1/1)=λ (1/1)\n",
    "\n",
    " {1+1=1*λ⇒ {λ=2\n",
    " {-1+3=1*λ⇒{λ=2\n",
    " Ответ: вектор x=(1,1) является собственным вектором линейного оператора A, а его собственное значения составляет λ=2."
   ]
  },
  {
   "cell_type": "markdown",
   "id": "a2f5e79f",
   "metadata": {},
   "source": [
    "4. Пусть линейный оператор задан матрицей\n",
    "\n",
    "A=(0/3/0; 3/0/0; 0/0/3) \n",
    "\n",
    "Установить, является ли вектор x=(3,−3,−4) собственным вектором этого линейного оператора.\n",
    "(0/3/0; 3/0/0; 0/0/3) (3/-3/-4)= λ(3/-3/-4)\n",
    "⇒ {3λ=-9              {λ=-3\n",
    "   {-3λ=-9         ⇒   {λ=-3 \n",
    "   {-4λ=-12            {λ=3\n",
    "   \n",
    "Ответ: вектор x=(3,−3,−4) не является собственным вектором линейного оператора A."
   ]
  }
 ],
 "metadata": {
  "kernelspec": {
   "display_name": "Python 3",
   "language": "python",
   "name": "python3"
  },
  "language_info": {
   "codemirror_mode": {
    "name": "ipython",
    "version": 3
   },
   "file_extension": ".py",
   "mimetype": "text/x-python",
   "name": "python",
   "nbconvert_exporter": "python",
   "pygments_lexer": "ipython3",
   "version": "3.8.8"
  }
 },
 "nbformat": 4,
 "nbformat_minor": 5
}
