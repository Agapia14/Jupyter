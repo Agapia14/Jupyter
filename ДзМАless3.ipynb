{
 "cells": [
  {
   "cell_type": "markdown",
   "id": "07850050",
   "metadata": {},
   "source": [
    "Тема 3. Последовательность"
   ]
  },
  {
   "cell_type": "code",
   "execution_count": 5,
   "id": "feffcf6b",
   "metadata": {},
   "outputs": [],
   "source": [
    "import numpy as np\n",
    "import random\n",
    "import math\n",
    "import itertools\n",
    "from sympy import factorial"
   ]
  },
  {
   "cell_type": "markdown",
   "id": "b77c8007",
   "metadata": {},
   "source": [
    "1. Даны 4 последовательности. \n",
    "Необходимо:\n",
    "исследовать их на монотонность;\n",
    "исследовать на ограниченность;\n",
    "найти пятый по счету член."
   ]
  },
  {
   "cell_type": "code",
   "execution_count": 6,
   "id": "e791ac6b",
   "metadata": {},
   "outputs": [],
   "source": [
    "def monotony(sequence):\n",
    "    for i in range(1, len(sequence)):\n",
    "        if sequence[i] > sequence[i-1]:\n",
    "            return 'Последовательность монотонно возрастает'\n",
    "        elif sequence[i] < sequence[i-1]:\n",
    "            return 'Последовательность монотонно убывает'\n",
    "        else:\n",
    "            return 'Последовательность не изменяетя'"
   ]
  },
  {
   "cell_type": "code",
   "execution_count": 7,
   "id": "13ce519b",
   "metadata": {},
   "outputs": [
    {
     "name": "stdout",
     "output_type": "stream",
     "text": [
      "Последовательность монотонно возрастает\n",
      "Перывые 10 элементов последовательности 2 ^ n - n: \n",
      "[1, 2, 5, 12, 27, 58, 121, 248, 503, 1014]\n",
      "Пятый по счету член последовательности 2 ^ n - n: 27\n"
     ]
    }
   ],
   "source": [
    "# a: 2 ** n - n\n",
    "# n = 1, +oo\n",
    "\n",
    "# последовательность ограничена снизу числом 1\n",
    "\n",
    "def f1(n):\n",
    "    return 2 ** n - n\n",
    "\n",
    "ns = list(range(1, 11, 1))\n",
    "elements = list(map(f1, ns))\n",
    "\n",
    "print(monotony(elements))\n",
    "print(f'Перывые 10 элементов последовательности 2 ^ n - n: \\n{elements}')\n",
    "print(f'Пятый по счету член последовательности 2 ^ n - n: {f1(ns[4])}')"
   ]
  },
  {
   "cell_type": "code",
   "execution_count": 8,
   "id": "c4e850f8",
   "metadata": {},
   "outputs": [
    {
     "name": "stdout",
     "output_type": "stream",
     "text": [
      "Последовательность монотонно убывает\n",
      "Перывые 10 элементов последовательности 1 / (n - 1): \n",
      "[1.0, 0.5, 0.3333333333333333, 0.25, 0.2, 0.16666666666666666, 0.14285714285714285, 0.125, 0.1111111111111111, 0.1]\n",
      "Пятый по счету член последовательности 1 / (n - 1): 0.2\n"
     ]
    }
   ],
   "source": [
    "# b: 1 / (n - 1)\n",
    "# n = 2, +oo\n",
    "\n",
    "# последовательность ограничена сверху числом 1\n",
    "\n",
    "def f2(n):\n",
    "    return 1 / (n - 1)\n",
    "\n",
    "ns = list(range(2, 12, 1))\n",
    "elements = list(map(f2, ns))\n",
    "\n",
    "print(monotony(elements))\n",
    "print(f'Перывые 10 элементов последовательности 1 / (n - 1): \\n{elements}')\n",
    "print(f'Пятый по счету член последовательности 1 / (n - 1): {f2(ns[4])}')"
   ]
  },
  {
   "cell_type": "code",
   "execution_count": 9,
   "id": "cda2b4a2",
   "metadata": {},
   "outputs": [
    {
     "name": "stdout",
     "output_type": "stream",
     "text": [
      "Последовательность монотонно возрастает\n",
      "Перывые 10 элементов последовательности -1 ^ n + sqrt(2 * n): \n",
      "[0.41421356237309515, 1.0, 1.4494897427831779, 1.8284271247461903, 2.1622776601683795, 2.4641016151377544, 2.7416573867739413, 3.0, 3.2426406871192848, 3.4721359549995796]\n",
      "Пятый по счету член последовательности -1 ^ n + sqrt(2 * n): 2.1622776601683795\n"
     ]
    }
   ],
   "source": [
    "# b: -1 ** n + sqrt(2 * n)\n",
    "# n = 1, +oo\n",
    "\n",
    "# последовательность ограничена снизу числом -1\n",
    "\n",
    "def f3(n):\n",
    "    return -1 ** n + math.sqrt(2 * n)\n",
    "\n",
    "ns = list(range(1, 11, 1))\n",
    "elements = list(map(f3, ns))\n",
    "\n",
    "print(monotony(elements))\n",
    "print(f'Перывые 10 элементов последовательности -1 ^ n + sqrt(2 * n): \\n{elements}')\n",
    "print(f'Пятый по счету член последовательности -1 ^ n + sqrt(2 * n): {f3(ns[4])}')"
   ]
  },
  {
   "cell_type": "code",
   "execution_count": 10,
   "id": "7ed30038",
   "metadata": {
    "scrolled": true
   },
   "outputs": [
    {
     "name": "stdout",
     "output_type": "stream",
     "text": [
      "Последовательность монотонно убывает\n",
      "Перывые 10 элементов последовательности (-1) ^ (2 * n) + 1 / (n ^ 2): \n",
      "[2.0, 1.25, 1.1111111111111112, 1.0625, 1.04, 1.0277777777777777, 1.0204081632653061, 1.015625, 1.0123456790123457, 1.01]\n",
      "Пятый по счету член последовательности (-1) ^ (2 * n) + 1 / (n ^ 2): 1.04\n"
     ]
    }
   ],
   "source": [
    "# b: (-1) ** (2 * n) + 1 / (n ** 2)\n",
    "# n = 1, +oo\n",
    "\n",
    "# последовательность ограничена сверху числом 2\n",
    "\n",
    "def f4(n):\n",
    "    return (-1) ** (2 * n) + 1 / (n ** 2)\n",
    "\n",
    "ns = list(range(1, 11, 1))\n",
    "elements = list(map(f4, ns))\n",
    "\n",
    "print(monotony(elements))\n",
    "print(f'Перывые 10 элементов последовательности (-1) ^ (2 * n) + 1 / (n ^ 2): \\n{elements}')\n",
    "print(f'Пятый по счету член последовательности (-1) ^ (2 * n) + 1 / (n ^ 2): {f4(ns[4])}')"
   ]
  },
  {
   "cell_type": "markdown",
   "id": "e7703926",
   "metadata": {},
   "source": [
    "2.  a1 = 128, a(n+1) - a(n) = 6, найти 12-й член заданной неявно последовательности"
   ]
  },
  {
   "cell_type": "code",
   "execution_count": 11,
   "id": "0293c8c2",
   "metadata": {},
   "outputs": [
    {
     "name": "stdout",
     "output_type": "stream",
     "text": [
      "a12: 194\n"
     ]
    }
   ],
   "source": [
    "a1 = 128\n",
    "d = 6\n",
    "\n",
    "# a(n) = a1 + (n - 1) * d\n",
    "\n",
    "a12 = a1 + (12 - 1) * d\n",
    "\n",
    "print(f'a12: {a12}')"
   ]
  },
  {
   "cell_type": "code",
   "execution_count": 12,
   "id": "47c78ce5",
   "metadata": {},
   "outputs": [
    {
     "name": "stdout",
     "output_type": "stream",
     "text": [
      "a12: 194\n"
     ]
    }
   ],
   "source": [
    "a1 = 128\n",
    "d = 6\n",
    "\n",
    "a12 = a1\n",
    "for _ in range(11):\n",
    "    a12 += d\n",
    "    \n",
    "print(f'a12: {a12}')"
   ]
  },
  {
   "cell_type": "markdown",
   "id": "43a371eb",
   "metadata": {},
   "source": [
    "3. На языке Python предложить алгоритм вычисляющий численно предел с точностью e=10^(-7)"
   ]
  },
  {
   "cell_type": "markdown",
   "id": "baf1a5b7",
   "metadata": {},
   "source": [
    "4. Предложить оптимизацию алгоритма,полученного в задании 3, ускоряющую его сходимость."
   ]
  },
  {
   "cell_type": "code",
   "execution_count": 13,
   "id": "0eae449d",
   "metadata": {},
   "outputs": [],
   "source": [
    "# n / (n! ** (1 / n))\n",
    "# n = 1, +oo\n",
    "\n",
    "def f(n):\n",
    "    return n / pow(factorial(n), 1 / n)"
   ]
  },
  {
   "cell_type": "code",
   "execution_count": 14,
   "id": "1bfa2d4e",
   "metadata": {},
   "outputs": [
    {
     "name": "stdout",
     "output_type": "stream",
     "text": [
      "n_iter: 11779\n",
      "f(n) = 2.71698832372746\n",
      "Wall time: 1min 18s\n"
     ]
    }
   ],
   "source": [
    "%%time\n",
    "eps = 10 ** -7\n",
    "i = 1\n",
    "n = 1\n",
    "x0 = f(n)\n",
    "while True:\n",
    "    i += 1\n",
    "    n += 1\n",
    "    x1 = f(n)\n",
    "    if abs(x0 - x1) <= eps:\n",
    "        break\n",
    "    x0 = x1\n",
    "print(f'n_iter: {i}')\n",
    "print(f'f(n) = {x0}')"
   ]
  },
  {
   "cell_type": "code",
   "execution_count": 15,
   "id": "ae7416ff",
   "metadata": {},
   "outputs": [
    {
     "name": "stdout",
     "output_type": "stream",
     "text": [
      "n_iter: 363\n",
      "f(n) = 2.71742440882372\n",
      "Wall time: 4 s\n"
     ]
    }
   ],
   "source": [
    "%%time\n",
    "eps = 10 ** -7\n",
    "i = 1\n",
    "n = 1\n",
    "x0 = f(n)\n",
    "while True:\n",
    "    i += 1\n",
    "    n += random.randint(1, 100)\n",
    "    x1 = f(n)\n",
    "    if abs(x0 - x1) <= eps:\n",
    "        break\n",
    "    x0 = x1\n",
    "print(f'n_iter: {i}')\n",
    "print(f'f(n) = {x0}')"
   ]
  }
 ],
 "metadata": {
  "kernelspec": {
   "display_name": "Python 3",
   "language": "python",
   "name": "python3"
  },
  "language_info": {
   "codemirror_mode": {
    "name": "ipython",
    "version": 3
   },
   "file_extension": ".py",
   "mimetype": "text/x-python",
   "name": "python",
   "nbconvert_exporter": "python",
   "pygments_lexer": "ipython3",
   "version": "3.8.8"
  }
 },
 "nbformat": 4,
 "nbformat_minor": 5
}
