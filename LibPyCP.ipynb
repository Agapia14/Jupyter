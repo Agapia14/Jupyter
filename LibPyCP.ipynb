{
 "cells": [
  {
   "cell_type": "markdown",
   "id": "6ed018e3",
   "metadata": {},
   "source": [
    "Курсовой проект по предмету \"Библиотеки Python\""
   ]
  },
  {
   "cell_type": "markdown",
   "id": "db212e03",
   "metadata": {},
   "source": [
    "Тема проекта: «Предсказание цен на недвижимость (квартиры)»"
   ]
  },
  {
   "cell_type": "markdown",
   "id": "5af9bdf4",
   "metadata": {},
   "source": [
    "Материалы к проекту (файлы): train.csv test.csv"
   ]
  },
  {
   "cell_type": "markdown",
   "id": "45b83ee5",
   "metadata": {},
   "source": [
    "Задание: Используя данные из обучающего датасета (train.csv), построить модель для предсказания цен на недвижимость (квартиры). С помощью полученной модели, предсказать цены для квартир из тестового датасета (test.csv).\n",
    "\n"
   ]
  },
  {
   "cell_type": "markdown",
   "id": "4b3cd47f",
   "metadata": {},
   "source": [
    "Целевая переменная: Price"
   ]
  },
  {
   "cell_type": "markdown",
   "id": "df19c8e2",
   "metadata": {},
   "source": [
    "Метрика качества: R2 - коэффициент детерминации (sklearn.metrics.r2_score)"
   ]
  },
  {
   "cell_type": "code",
   "execution_count": 1,
   "id": "ab4ad4a9",
   "metadata": {},
   "outputs": [],
   "source": [
    "import pandas as pd\n",
    "import numpy as np\n",
    "import matplotlib.pyplot as plt\n",
    "import seaborn as sns\n",
    "import warnings\n",
    "\n",
    "%matplotlib inline\n",
    "%config InlineBackend.figure_format = 'svg'\n",
    "\n",
    "plt.style.use('fivethirtyeight')\n",
    "warnings.filterwarnings('ignore')"
   ]
  },
  {
   "cell_type": "markdown",
   "id": "224e0662",
   "metadata": {},
   "source": [
    "импортируем данные для обучения модели"
   ]
  },
  {
   "cell_type": "code",
   "execution_count": 2,
   "id": "4736d98e",
   "metadata": {},
   "outputs": [],
   "source": [
    "data = pd.read_csv('train.csv', index_col=0, encoding='utf-8')"
   ]
  },
  {
   "cell_type": "markdown",
   "id": "eb73d2df",
   "metadata": {},
   "source": [
    "выведем на экран первые 5 записей и убедимся в успешном импорте данных"
   ]
  },
  {
   "cell_type": "code",
   "execution_count": 3,
   "id": "2259004b",
   "metadata": {},
   "outputs": [
    {
     "data": {
      "text/html": [
       "<div>\n",
       "<style scoped>\n",
       "    .dataframe tbody tr th:only-of-type {\n",
       "        vertical-align: middle;\n",
       "    }\n",
       "\n",
       "    .dataframe tbody tr th {\n",
       "        vertical-align: top;\n",
       "    }\n",
       "\n",
       "    .dataframe thead th {\n",
       "        text-align: right;\n",
       "    }\n",
       "</style>\n",
       "<table border=\"1\" class=\"dataframe\">\n",
       "  <thead>\n",
       "    <tr style=\"text-align: right;\">\n",
       "      <th></th>\n",
       "      <th>DistrictId</th>\n",
       "      <th>Rooms</th>\n",
       "      <th>Square</th>\n",
       "      <th>LifeSquare</th>\n",
       "      <th>KitchenSquare</th>\n",
       "      <th>Floor</th>\n",
       "      <th>HouseFloor</th>\n",
       "      <th>HouseYear</th>\n",
       "      <th>Ecology_1</th>\n",
       "      <th>Ecology_2</th>\n",
       "      <th>Ecology_3</th>\n",
       "      <th>Social_1</th>\n",
       "      <th>Social_2</th>\n",
       "      <th>Social_3</th>\n",
       "      <th>Healthcare_1</th>\n",
       "      <th>Helthcare_2</th>\n",
       "      <th>Shops_1</th>\n",
       "      <th>Shops_2</th>\n",
       "      <th>Price</th>\n",
       "    </tr>\n",
       "    <tr>\n",
       "      <th>Id</th>\n",
       "      <th></th>\n",
       "      <th></th>\n",
       "      <th></th>\n",
       "      <th></th>\n",
       "      <th></th>\n",
       "      <th></th>\n",
       "      <th></th>\n",
       "      <th></th>\n",
       "      <th></th>\n",
       "      <th></th>\n",
       "      <th></th>\n",
       "      <th></th>\n",
       "      <th></th>\n",
       "      <th></th>\n",
       "      <th></th>\n",
       "      <th></th>\n",
       "      <th></th>\n",
       "      <th></th>\n",
       "      <th></th>\n",
       "    </tr>\n",
       "  </thead>\n",
       "  <tbody>\n",
       "    <tr>\n",
       "      <th>11809</th>\n",
       "      <td>27</td>\n",
       "      <td>3.0</td>\n",
       "      <td>115.027311</td>\n",
       "      <td>NaN</td>\n",
       "      <td>10.0</td>\n",
       "      <td>4</td>\n",
       "      <td>10.0</td>\n",
       "      <td>2014</td>\n",
       "      <td>0.075424</td>\n",
       "      <td>B</td>\n",
       "      <td>B</td>\n",
       "      <td>11</td>\n",
       "      <td>3097</td>\n",
       "      <td>0</td>\n",
       "      <td>NaN</td>\n",
       "      <td>0</td>\n",
       "      <td>0</td>\n",
       "      <td>B</td>\n",
       "      <td>305018.871089</td>\n",
       "    </tr>\n",
       "    <tr>\n",
       "      <th>3013</th>\n",
       "      <td>22</td>\n",
       "      <td>1.0</td>\n",
       "      <td>39.832524</td>\n",
       "      <td>23.169223</td>\n",
       "      <td>8.0</td>\n",
       "      <td>7</td>\n",
       "      <td>8.0</td>\n",
       "      <td>1966</td>\n",
       "      <td>0.118537</td>\n",
       "      <td>B</td>\n",
       "      <td>B</td>\n",
       "      <td>30</td>\n",
       "      <td>6207</td>\n",
       "      <td>1</td>\n",
       "      <td>1183.0</td>\n",
       "      <td>1</td>\n",
       "      <td>0</td>\n",
       "      <td>B</td>\n",
       "      <td>177734.553407</td>\n",
       "    </tr>\n",
       "    <tr>\n",
       "      <th>8215</th>\n",
       "      <td>1</td>\n",
       "      <td>3.0</td>\n",
       "      <td>78.342215</td>\n",
       "      <td>47.671972</td>\n",
       "      <td>10.0</td>\n",
       "      <td>2</td>\n",
       "      <td>17.0</td>\n",
       "      <td>1988</td>\n",
       "      <td>0.025609</td>\n",
       "      <td>B</td>\n",
       "      <td>B</td>\n",
       "      <td>33</td>\n",
       "      <td>5261</td>\n",
       "      <td>0</td>\n",
       "      <td>240.0</td>\n",
       "      <td>3</td>\n",
       "      <td>1</td>\n",
       "      <td>B</td>\n",
       "      <td>282078.720850</td>\n",
       "    </tr>\n",
       "    <tr>\n",
       "      <th>2352</th>\n",
       "      <td>1</td>\n",
       "      <td>1.0</td>\n",
       "      <td>40.409907</td>\n",
       "      <td>NaN</td>\n",
       "      <td>1.0</td>\n",
       "      <td>10</td>\n",
       "      <td>22.0</td>\n",
       "      <td>1977</td>\n",
       "      <td>0.007122</td>\n",
       "      <td>B</td>\n",
       "      <td>B</td>\n",
       "      <td>1</td>\n",
       "      <td>264</td>\n",
       "      <td>0</td>\n",
       "      <td>NaN</td>\n",
       "      <td>0</td>\n",
       "      <td>1</td>\n",
       "      <td>B</td>\n",
       "      <td>168106.007630</td>\n",
       "    </tr>\n",
       "    <tr>\n",
       "      <th>13866</th>\n",
       "      <td>94</td>\n",
       "      <td>2.0</td>\n",
       "      <td>64.285067</td>\n",
       "      <td>38.562517</td>\n",
       "      <td>9.0</td>\n",
       "      <td>16</td>\n",
       "      <td>16.0</td>\n",
       "      <td>1972</td>\n",
       "      <td>0.282798</td>\n",
       "      <td>B</td>\n",
       "      <td>B</td>\n",
       "      <td>33</td>\n",
       "      <td>8667</td>\n",
       "      <td>2</td>\n",
       "      <td>NaN</td>\n",
       "      <td>0</td>\n",
       "      <td>6</td>\n",
       "      <td>B</td>\n",
       "      <td>343995.102962</td>\n",
       "    </tr>\n",
       "  </tbody>\n",
       "</table>\n",
       "</div>"
      ],
      "text/plain": [
       "       DistrictId  Rooms      Square  LifeSquare  KitchenSquare  Floor  \\\n",
       "Id                                                                       \n",
       "11809          27    3.0  115.027311         NaN           10.0      4   \n",
       "3013           22    1.0   39.832524   23.169223            8.0      7   \n",
       "8215            1    3.0   78.342215   47.671972           10.0      2   \n",
       "2352            1    1.0   40.409907         NaN            1.0     10   \n",
       "13866          94    2.0   64.285067   38.562517            9.0     16   \n",
       "\n",
       "       HouseFloor  HouseYear  Ecology_1 Ecology_2 Ecology_3  Social_1  \\\n",
       "Id                                                                      \n",
       "11809        10.0       2014   0.075424         B         B        11   \n",
       "3013          8.0       1966   0.118537         B         B        30   \n",
       "8215         17.0       1988   0.025609         B         B        33   \n",
       "2352         22.0       1977   0.007122         B         B         1   \n",
       "13866        16.0       1972   0.282798         B         B        33   \n",
       "\n",
       "       Social_2  Social_3  Healthcare_1  Helthcare_2  Shops_1 Shops_2  \\\n",
       "Id                                                                      \n",
       "11809      3097         0           NaN            0        0       B   \n",
       "3013       6207         1        1183.0            1        0       B   \n",
       "8215       5261         0         240.0            3        1       B   \n",
       "2352        264         0           NaN            0        1       B   \n",
       "13866      8667         2           NaN            0        6       B   \n",
       "\n",
       "               Price  \n",
       "Id                    \n",
       "11809  305018.871089  \n",
       "3013   177734.553407  \n",
       "8215   282078.720850  \n",
       "2352   168106.007630  \n",
       "13866  343995.102962  "
      ]
     },
     "execution_count": 3,
     "metadata": {},
     "output_type": "execute_result"
    }
   ],
   "source": [
    "data.head()"
   ]
  },
  {
   "cell_type": "markdown",
   "id": "85e9a7aa",
   "metadata": {},
   "source": [
    "выведем информацию о данных и проверим наличие пропусков"
   ]
  },
  {
   "cell_type": "code",
   "execution_count": 4,
   "id": "1ab921e8",
   "metadata": {},
   "outputs": [
    {
     "name": "stdout",
     "output_type": "stream",
     "text": [
      "<class 'pandas.core.frame.DataFrame'>\n",
      "Int64Index: 10000 entries, 11809 to 7202\n",
      "Data columns (total 19 columns):\n",
      " #   Column         Non-Null Count  Dtype  \n",
      "---  ------         --------------  -----  \n",
      " 0   DistrictId     10000 non-null  int64  \n",
      " 1   Rooms          10000 non-null  float64\n",
      " 2   Square         10000 non-null  float64\n",
      " 3   LifeSquare     7887 non-null   float64\n",
      " 4   KitchenSquare  10000 non-null  float64\n",
      " 5   Floor          10000 non-null  int64  \n",
      " 6   HouseFloor     10000 non-null  float64\n",
      " 7   HouseYear      10000 non-null  int64  \n",
      " 8   Ecology_1      10000 non-null  float64\n",
      " 9   Ecology_2      10000 non-null  object \n",
      " 10  Ecology_3      10000 non-null  object \n",
      " 11  Social_1       10000 non-null  int64  \n",
      " 12  Social_2       10000 non-null  int64  \n",
      " 13  Social_3       10000 non-null  int64  \n",
      " 14  Healthcare_1   5202 non-null   float64\n",
      " 15  Helthcare_2    10000 non-null  int64  \n",
      " 16  Shops_1        10000 non-null  int64  \n",
      " 17  Shops_2        10000 non-null  object \n",
      " 18  Price          10000 non-null  float64\n",
      "dtypes: float64(8), int64(8), object(3)\n",
      "memory usage: 1.5+ MB\n"
     ]
    }
   ],
   "source": [
    "data.info()"
   ]
  },
  {
   "cell_type": "code",
   "execution_count": 5,
   "id": "3c3cfd33",
   "metadata": {},
   "outputs": [],
   "source": [
    "from sklearn.model_selection import train_test_split, cross_val_score, RandomizedSearchCV\n",
    "from sklearn.preprocessing import StandardScaler, MinMaxScaler, RobustScaler\n",
    "from sklearn.linear_model import LinearRegression, Lasso, Ridge, ElasticNet\n",
    "from sklearn.neighbors import KNeighborsRegressor\n",
    "from sklearn.tree import DecisionTreeRegressor\n",
    "from sklearn.ensemble import RandomForestRegressor\n",
    "from sklearn.metrics import r2_score, mean_squared_error"
   ]
  },
  {
   "cell_type": "markdown",
   "id": "d02e8df5",
   "metadata": {},
   "source": [
    "проведем минимальную чистку и предобработку данных\n",
    "построим несколько моделей и оценим качество на отложенной выборке по метрике R^2\n",
    "из построенных модель выберем baseline модель с наилучшим качеством"
   ]
  },
  {
   "cell_type": "markdown",
   "id": "59f5e966",
   "metadata": {},
   "source": [
    "заполним пропуски нулями"
   ]
  },
  {
   "cell_type": "code",
   "execution_count": 6,
   "id": "e1008a4a",
   "metadata": {},
   "outputs": [],
   "source": [
    "cleared_data = data.fillna(0)"
   ]
  },
  {
   "cell_type": "code",
   "execution_count": 7,
   "id": "d649e532",
   "metadata": {},
   "outputs": [],
   "source": [
    "X = cleared_data.drop(labels=['Price'], axis=1)\n",
    "X = pd.get_dummies(data=X, columns=['DistrictId', 'Ecology_2', 'Ecology_3', 'Shops_2'], drop_first=True)\n",
    "y = cleared_data['Price'].values"
   ]
  },
  {
   "cell_type": "code",
   "execution_count": 8,
   "id": "a97fd6b5",
   "metadata": {},
   "outputs": [],
   "source": [
    "X_train, X_valid, y_train, y_valid = train_test_split(X, y, test_size=0.3, random_state=42, shuffle=True)"
   ]
  },
  {
   "cell_type": "code",
   "execution_count": 9,
   "id": "330c9032",
   "metadata": {},
   "outputs": [],
   "source": [
    "scaler = StandardScaler()\n",
    "\n",
    "X_train_scaled = scaler.fit_transform(X_train)\n",
    "X_valid_scaled = scaler.transform(X_valid)"
   ]
  },
  {
   "cell_type": "code",
   "execution_count": 11,
   "id": "bdc9912b",
   "metadata": {},
   "outputs": [
    {
     "name": "stdout",
     "output_type": "stream",
     "text": [
      "lr: \n",
      "\ttrain: 0.6573 \n",
      "\tvalid: 0.6184\n",
      "knn: \n",
      "\ttrain: 0.7467 \n",
      "\tvalid: 0.5918\n",
      "dt: \n",
      "\ttrain: 1.0 \n",
      "\tvalid: 0.4644\n",
      "rf: \n",
      "\ttrain: 0.962 \n",
      "\tvalid: 0.7343\n"
     ]
    }
   ],
   "source": [
    "model_dict = {\n",
    "   'lr': LinearRegression(),\n",
    "#    'lasso': Lasso(random_state=42),\n",
    "#    'ridge': Ridge(random_state=42),\n",
    "#    'enet': ElasticNet(random_state=42),\n",
    "   'knn': KNeighborsRegressor(),\n",
    "   'dt': DecisionTreeRegressor(random_state=42),\n",
    "   'rf': RandomForestRegressor(random_state=42)\n",
    "}\n",
    "\n",
    "score_list = []\n",
    "\n",
    "for model in model_dict:\n",
    "    model_dict[model].fit(X_train_scaled, y_train)\n",
    "    y_pred_train = model_dict[model].predict(X_train_scaled)\n",
    "    y_pred_valid = model_dict[model].predict(X_valid_scaled)\n",
    "    score_train = r2_score(y_train, y_pred_train)\n",
    "    score_valid = r2_score(y_valid, y_pred_valid)\n",
    "    score_list.append((score_train, score_valid))\n",
    "\n",
    "for model, scores in zip(model_dict.keys(), score_list):\n",
    "    print(f'{model}: \\n\\ttrain: {np.round(scores[0], 4)} \\n\\tvalid: {np.round(scores[1], 4)}')"
   ]
  },
  {
   "cell_type": "markdown",
   "id": "33a51ec9",
   "metadata": {},
   "source": [
    "с минимальной педобработкой данных лучший результат \"из коробки\" показала модель RandomForest\n",
    "baseline R^2 = 0.7343\n",
    "попробуем очистить и обработать имеющиеся данные\n",
    "продолжим работать с моделью RandomForest"
   ]
  },
  {
   "cell_type": "markdown",
   "id": "98d45e27",
   "metadata": {},
   "source": [
    "очистим данные\n"
   ]
  },
  {
   "cell_type": "code",
   "execution_count": 12,
   "id": "891820f6",
   "metadata": {},
   "outputs": [],
   "source": [
    "cleared_data = data[data['Rooms'] < 10]\n",
    "cleared_data = cleared_data[cleared_data['Square'] < 250]\n",
    "cleared_data = cleared_data[cleared_data['HouseFloor'] < 100]"
   ]
  },
  {
   "cell_type": "markdown",
   "id": "ffe5875a",
   "metadata": {},
   "source": [
    "напишем функцию для предобработки данных"
   ]
  },
  {
   "cell_type": "code",
   "execution_count": 13,
   "id": "a2fd9b6f",
   "metadata": {},
   "outputs": [],
   "source": [
    "def preproc(df_input, dummy_features=None):\n",
    "    \n",
    "    df_output = df_input.copy()\n",
    "        \n",
    "    Square = dict(df_output.groupby('Rooms')['Square'].median())\n",
    "    idx = (df_output['Square'] < 15) & (df_output['Rooms'] < 2)\n",
    "    df_output.loc[idx, 'Square'] = df_output.loc[idx, 'Rooms'].apply(lambda x: Square[x])\n",
    "    \n",
    "    idx = (df_output['Square'] < 30) & (df_output['Rooms'] > 1)\n",
    "    df_output.loc[idx, 'Square'] = df_output.loc[idx, 'Rooms'].apply(lambda x: Square[x])\n",
    "    \n",
    "    idx = (df_output['Square'] < df_output['LifeSquare'])\n",
    "    df_output.loc[idx, 'Square'] = df_output.loc[idx, 'LifeSquare']\n",
    "\n",
    "    LifeSquare = dict(df_output.groupby('Rooms')['LifeSquare'].median())\n",
    "    idx = (df_output['LifeSquare'].isnull())\n",
    "    df_output.loc[idx, 'LifeSquare'] = df_output.loc[idx, 'Rooms'].apply(lambda x: LifeSquare[x])\n",
    "\n",
    "    idx = (df_output['Rooms'] < 1)\n",
    "    df_output.loc[idx, 'KitchenSquare'] = 0.0\n",
    "    \n",
    "    KitchenSquare = dict(df_output.groupby('Rooms')['KitchenSquare'].median())\n",
    "    idx = (df_output['Rooms'] > 0)\n",
    "    df_output.loc[idx, 'KitchenSquare'] = df_output.loc[idx, 'Rooms'].apply(lambda x: KitchenSquare[x])\n",
    "    \n",
    "    idx = (df_output['HouseFloor'] < df_output['Floor'])\n",
    "    df_output.loc[idx, 'HouseFloor'] = df_output.loc[idx, 'Floor']\n",
    "    \n",
    "    idx = (df_output['HouseYear'] >= 2019)\n",
    "    df_output.loc[idx, 'HouseYear'] = 2019\n",
    "   \n",
    "    df_output['Healthcare_1'].fillna(df_output['Healthcare_1'].median(), inplace=True)\n",
    "    \n",
    "    df_output['Ecology_2'] = df_output['Ecology_2'].apply(lambda x: 1 if x == 'A' else 0)\n",
    "    df_output['Ecology_3'] = df_output['Ecology_3'].apply(lambda x: 1 if x == 'A' else 0)\n",
    "    df_output['Shops_2'] = df_output['Shops_2'].apply(lambda x: 1 if x == 'A' else 0)\n",
    "    \n",
    "    if dummy_features != None:\n",
    "        df_output = pd.get_dummies(data=df_output, columns=dummy_features, drop_first=True)\n",
    "    \n",
    "    return df_output"
   ]
  },
  {
   "cell_type": "markdown",
   "id": "3312b0bf",
   "metadata": {},
   "source": [
    "предобработаем данные для использования в модели"
   ]
  },
  {
   "cell_type": "code",
   "execution_count": 14,
   "id": "421f3d5b",
   "metadata": {},
   "outputs": [],
   "source": [
    "processed_data = preproc(cleared_data, dummy_features=None)"
   ]
  },
  {
   "cell_type": "code",
   "execution_count": 15,
   "id": "b004bb4c",
   "metadata": {},
   "outputs": [],
   "source": [
    "X = processed_data.drop(labels=['DistrictId', 'Price'], axis=1)\n",
    "y = processed_data['Price'].values"
   ]
  },
  {
   "cell_type": "code",
   "execution_count": 16,
   "id": "d20cf88a",
   "metadata": {},
   "outputs": [],
   "source": [
    "X_train, X_valid, y_train, y_valid = train_test_split(X, y, test_size=0.3, random_state=42, shuffle=True)"
   ]
  },
  {
   "cell_type": "code",
   "execution_count": 17,
   "id": "f90f524b",
   "metadata": {},
   "outputs": [],
   "source": [
    "scaler = MinMaxScaler()\n",
    "\n",
    "X_train_scaled = scaler.fit_transform(X_train)\n",
    "X_valid_scaled = scaler.transform(X_valid)"
   ]
  },
  {
   "cell_type": "markdown",
   "id": "68a74689",
   "metadata": {},
   "source": [
    "проведем настройку гиперпараметров модели с помощью RandomizedSearchCV"
   ]
  },
  {
   "cell_type": "code",
   "execution_count": 18,
   "id": "d1bda523",
   "metadata": {},
   "outputs": [
    {
     "name": "stdout",
     "output_type": "stream",
     "text": [
      "Fitting 10 folds for each of 50 candidates, totalling 500 fits\n",
      "0.7250705411570675\n",
      "{'n_estimators': 400, 'min_samples_split': 5, 'min_samples_leaf': 1, 'max_features': 0.5, 'max_depth': 26}\n"
     ]
    }
   ],
   "source": [
    "rf = RandomForestRegressor(random_state=42, n_jobs=-1)\n",
    "\n",
    "random_grid = {\n",
    "    'n_estimators': np.arange(200, 501, 20),\n",
    "    'max_depth': np.arange(2, 51, 2),\n",
    "    'max_features': [0.5, 0.6, 0.7, 0.8, 0.9],\n",
    "    'min_samples_leaf': [1, 2, 4],\n",
    "    'min_samples_split': [2, 5, 10]\n",
    "}\n",
    "\n",
    "random_search = RandomizedSearchCV(\n",
    "    estimator=rf,\n",
    "    param_distributions=random_grid,\n",
    "    n_iter=50,\n",
    "    scoring='r2',\n",
    "    cv=10,\n",
    "    verbose=2,\n",
    "    random_state=42,\n",
    "    n_jobs=-1\n",
    ")\n",
    "\n",
    "random_search.fit(X_train_scaled, y_train)\n",
    "\n",
    "print(random_search.best_score_)\n",
    "print(random_search.best_params_)"
   ]
  },
  {
   "cell_type": "markdown",
   "id": "b87e663e",
   "metadata": {},
   "source": [
    "измерим качество подобранной модели на отложенной выборке"
   ]
  },
  {
   "cell_type": "code",
   "execution_count": 19,
   "id": "ce2c799a",
   "metadata": {},
   "outputs": [
    {
     "name": "stdout",
     "output_type": "stream",
     "text": [
      "train: 0.9385\n",
      "valid: 0.7167\n"
     ]
    }
   ],
   "source": [
    "y_pred_train = random_search.best_estimator_.predict(X_train_scaled)\n",
    "y_pred_valid = random_search.best_estimator_.predict(X_valid_scaled)\n",
    "\n",
    "score_train = r2_score(y_train, y_pred_train)\n",
    "score_valid = r2_score(y_valid, y_pred_valid)\n",
    "\n",
    "print(f'train: {np.round(score_train, 4)}\\nvalid: {np.round(score_valid, 4)}')"
   ]
  },
  {
   "cell_type": "markdown",
   "id": "fbac6b64",
   "metadata": {},
   "source": [
    "обучим подобранную модель на всех тренировочных данных\n"
   ]
  },
  {
   "cell_type": "code",
   "execution_count": 20,
   "id": "bc553aac",
   "metadata": {},
   "outputs": [
    {
     "name": "stdout",
     "output_type": "stream",
     "text": [
      "cv mean: 0.7333\n",
      "cv std:  0.0259\n"
     ]
    }
   ],
   "source": [
    "scaler = MinMaxScaler()\n",
    "\n",
    "X_scaled = scaler.fit_transform(X)\n",
    "\n",
    "model = RandomForestRegressor(\n",
    "    n_estimators=400,\n",
    "    max_depth=26,\n",
    "    max_features=0.5,\n",
    "    min_samples_leaf=1,\n",
    "    min_samples_split=5,\n",
    "    random_state=42,\n",
    "    n_jobs=-1\n",
    ")\n",
    "\n",
    "model.fit(X_scaled, y)\n",
    "\n",
    "scores = cross_val_score(model, X_scaled, y, scoring='r2', cv=10, n_jobs=-1)\n",
    "\n",
    "print(f'cv mean: {np.round(np.mean(scores), 4)}')\n",
    "print(f'cv std:  {np.round(np.std(scores), 4)}')"
   ]
  },
  {
   "cell_type": "markdown",
   "id": "2ab395c2",
   "metadata": {},
   "source": [
    " загрузим неразмеченные данные для предсказания"
   ]
  },
  {
   "cell_type": "code",
   "execution_count": 21,
   "id": "ff11b779",
   "metadata": {},
   "outputs": [],
   "source": [
    "new_data = pd.read_csv('test.csv', index_col=0, encoding='utf-8')"
   ]
  },
  {
   "cell_type": "markdown",
   "id": "49435cdc",
   "metadata": {},
   "source": [
    "убедимся, что данные загрузились"
   ]
  },
  {
   "cell_type": "code",
   "execution_count": 22,
   "id": "c79130ee",
   "metadata": {},
   "outputs": [
    {
     "data": {
      "text/html": [
       "<div>\n",
       "<style scoped>\n",
       "    .dataframe tbody tr th:only-of-type {\n",
       "        vertical-align: middle;\n",
       "    }\n",
       "\n",
       "    .dataframe tbody tr th {\n",
       "        vertical-align: top;\n",
       "    }\n",
       "\n",
       "    .dataframe thead th {\n",
       "        text-align: right;\n",
       "    }\n",
       "</style>\n",
       "<table border=\"1\" class=\"dataframe\">\n",
       "  <thead>\n",
       "    <tr style=\"text-align: right;\">\n",
       "      <th></th>\n",
       "      <th>DistrictId</th>\n",
       "      <th>Rooms</th>\n",
       "      <th>Square</th>\n",
       "      <th>LifeSquare</th>\n",
       "      <th>KitchenSquare</th>\n",
       "      <th>Floor</th>\n",
       "      <th>HouseFloor</th>\n",
       "      <th>HouseYear</th>\n",
       "      <th>Ecology_1</th>\n",
       "      <th>Ecology_2</th>\n",
       "      <th>Ecology_3</th>\n",
       "      <th>Social_1</th>\n",
       "      <th>Social_2</th>\n",
       "      <th>Social_3</th>\n",
       "      <th>Healthcare_1</th>\n",
       "      <th>Helthcare_2</th>\n",
       "      <th>Shops_1</th>\n",
       "      <th>Shops_2</th>\n",
       "    </tr>\n",
       "    <tr>\n",
       "      <th>Id</th>\n",
       "      <th></th>\n",
       "      <th></th>\n",
       "      <th></th>\n",
       "      <th></th>\n",
       "      <th></th>\n",
       "      <th></th>\n",
       "      <th></th>\n",
       "      <th></th>\n",
       "      <th></th>\n",
       "      <th></th>\n",
       "      <th></th>\n",
       "      <th></th>\n",
       "      <th></th>\n",
       "      <th></th>\n",
       "      <th></th>\n",
       "      <th></th>\n",
       "      <th></th>\n",
       "      <th></th>\n",
       "    </tr>\n",
       "  </thead>\n",
       "  <tbody>\n",
       "    <tr>\n",
       "      <th>4567</th>\n",
       "      <td>44</td>\n",
       "      <td>1.0</td>\n",
       "      <td>36.847630</td>\n",
       "      <td>19.094182</td>\n",
       "      <td>5.0</td>\n",
       "      <td>5</td>\n",
       "      <td>9.0</td>\n",
       "      <td>1970</td>\n",
       "      <td>0.036122</td>\n",
       "      <td>B</td>\n",
       "      <td>B</td>\n",
       "      <td>24</td>\n",
       "      <td>4378</td>\n",
       "      <td>0</td>\n",
       "      <td>1036.0</td>\n",
       "      <td>1</td>\n",
       "      <td>1</td>\n",
       "      <td>B</td>\n",
       "    </tr>\n",
       "    <tr>\n",
       "      <th>5925</th>\n",
       "      <td>62</td>\n",
       "      <td>1.0</td>\n",
       "      <td>42.493907</td>\n",
       "      <td>42.568133</td>\n",
       "      <td>10.0</td>\n",
       "      <td>7</td>\n",
       "      <td>17.0</td>\n",
       "      <td>2017</td>\n",
       "      <td>0.072158</td>\n",
       "      <td>B</td>\n",
       "      <td>B</td>\n",
       "      <td>2</td>\n",
       "      <td>629</td>\n",
       "      <td>1</td>\n",
       "      <td>NaN</td>\n",
       "      <td>0</td>\n",
       "      <td>0</td>\n",
       "      <td>A</td>\n",
       "    </tr>\n",
       "    <tr>\n",
       "      <th>960</th>\n",
       "      <td>27</td>\n",
       "      <td>2.0</td>\n",
       "      <td>59.463678</td>\n",
       "      <td>NaN</td>\n",
       "      <td>9.0</td>\n",
       "      <td>19</td>\n",
       "      <td>19.0</td>\n",
       "      <td>1977</td>\n",
       "      <td>0.211401</td>\n",
       "      <td>B</td>\n",
       "      <td>B</td>\n",
       "      <td>9</td>\n",
       "      <td>1892</td>\n",
       "      <td>0</td>\n",
       "      <td>NaN</td>\n",
       "      <td>0</td>\n",
       "      <td>1</td>\n",
       "      <td>B</td>\n",
       "    </tr>\n",
       "    <tr>\n",
       "      <th>3848</th>\n",
       "      <td>23</td>\n",
       "      <td>3.0</td>\n",
       "      <td>49.646030</td>\n",
       "      <td>33.893825</td>\n",
       "      <td>6.0</td>\n",
       "      <td>2</td>\n",
       "      <td>2.0</td>\n",
       "      <td>1965</td>\n",
       "      <td>0.014073</td>\n",
       "      <td>B</td>\n",
       "      <td>B</td>\n",
       "      <td>2</td>\n",
       "      <td>475</td>\n",
       "      <td>0</td>\n",
       "      <td>NaN</td>\n",
       "      <td>0</td>\n",
       "      <td>0</td>\n",
       "      <td>B</td>\n",
       "    </tr>\n",
       "    <tr>\n",
       "      <th>746</th>\n",
       "      <td>74</td>\n",
       "      <td>1.0</td>\n",
       "      <td>53.837056</td>\n",
       "      <td>NaN</td>\n",
       "      <td>1.0</td>\n",
       "      <td>8</td>\n",
       "      <td>17.0</td>\n",
       "      <td>1977</td>\n",
       "      <td>0.309479</td>\n",
       "      <td>B</td>\n",
       "      <td>B</td>\n",
       "      <td>35</td>\n",
       "      <td>7715</td>\n",
       "      <td>4</td>\n",
       "      <td>990.0</td>\n",
       "      <td>0</td>\n",
       "      <td>6</td>\n",
       "      <td>B</td>\n",
       "    </tr>\n",
       "  </tbody>\n",
       "</table>\n",
       "</div>"
      ],
      "text/plain": [
       "      DistrictId  Rooms     Square  LifeSquare  KitchenSquare  Floor  \\\n",
       "Id                                                                     \n",
       "4567          44    1.0  36.847630   19.094182            5.0      5   \n",
       "5925          62    1.0  42.493907   42.568133           10.0      7   \n",
       "960           27    2.0  59.463678         NaN            9.0     19   \n",
       "3848          23    3.0  49.646030   33.893825            6.0      2   \n",
       "746           74    1.0  53.837056         NaN            1.0      8   \n",
       "\n",
       "      HouseFloor  HouseYear  Ecology_1 Ecology_2 Ecology_3  Social_1  \\\n",
       "Id                                                                     \n",
       "4567         9.0       1970   0.036122         B         B        24   \n",
       "5925        17.0       2017   0.072158         B         B         2   \n",
       "960         19.0       1977   0.211401         B         B         9   \n",
       "3848         2.0       1965   0.014073         B         B         2   \n",
       "746         17.0       1977   0.309479         B         B        35   \n",
       "\n",
       "      Social_2  Social_3  Healthcare_1  Helthcare_2  Shops_1 Shops_2  \n",
       "Id                                                                    \n",
       "4567      4378         0        1036.0            1        1       B  \n",
       "5925       629         1           NaN            0        0       A  \n",
       "960       1892         0           NaN            0        1       B  \n",
       "3848       475         0           NaN            0        0       B  \n",
       "746       7715         4         990.0            0        6       B  "
      ]
     },
     "execution_count": 22,
     "metadata": {},
     "output_type": "execute_result"
    }
   ],
   "source": [
    "new_data.head()"
   ]
  },
  {
   "cell_type": "markdown",
   "id": "521e6529",
   "metadata": {},
   "source": [
    "обработаем новые данные тем же спопосбом, что и данные на которых обучали модель"
   ]
  },
  {
   "cell_type": "code",
   "execution_count": 23,
   "id": "d8bac1d7",
   "metadata": {},
   "outputs": [],
   "source": [
    "processed_new_data = preproc(new_data, dummy_features=None)"
   ]
  },
  {
   "cell_type": "code",
   "execution_count": 24,
   "id": "ce9ca895",
   "metadata": {},
   "outputs": [],
   "source": [
    "X_new = processed_new_data.drop(labels=['DistrictId'], axis=1)"
   ]
  },
  {
   "cell_type": "markdown",
   "id": "b413c0c6",
   "metadata": {},
   "source": [
    "масштабируем новые данные подготовленным на тренировочных данных объектом класса MinMaxScaler"
   ]
  },
  {
   "cell_type": "code",
   "execution_count": 25,
   "id": "dbd15029",
   "metadata": {},
   "outputs": [],
   "source": [
    "X_new_scaled = scaler.transform(X_new)"
   ]
  },
  {
   "cell_type": "markdown",
   "id": "e12b3176",
   "metadata": {},
   "source": [
    "предскажем цены квартир для новых наблюдений"
   ]
  },
  {
   "cell_type": "code",
   "execution_count": 26,
   "id": "740c21e9",
   "metadata": {},
   "outputs": [],
   "source": [
    "y_pred_new = model.predict(X_new_scaled)"
   ]
  },
  {
   "cell_type": "markdown",
   "id": "ff2ef7fa",
   "metadata": {},
   "source": [
    "запишем id объекта и предсказанную цену в датафрейм\n"
   ]
  },
  {
   "cell_type": "code",
   "execution_count": 27,
   "id": "a2ac9918",
   "metadata": {},
   "outputs": [],
   "source": [
    "predictions = pd.DataFrame({\n",
    "    'Id': X_new.index,\n",
    "    'Price': y_pred_new\n",
    "})"
   ]
  },
  {
   "cell_type": "code",
   "execution_count": 28,
   "id": "e85c1ab8",
   "metadata": {},
   "outputs": [
    {
     "data": {
      "text/html": [
       "<div>\n",
       "<style scoped>\n",
       "    .dataframe tbody tr th:only-of-type {\n",
       "        vertical-align: middle;\n",
       "    }\n",
       "\n",
       "    .dataframe tbody tr th {\n",
       "        vertical-align: top;\n",
       "    }\n",
       "\n",
       "    .dataframe thead th {\n",
       "        text-align: right;\n",
       "    }\n",
       "</style>\n",
       "<table border=\"1\" class=\"dataframe\">\n",
       "  <thead>\n",
       "    <tr style=\"text-align: right;\">\n",
       "      <th></th>\n",
       "      <th>Id</th>\n",
       "      <th>Price</th>\n",
       "    </tr>\n",
       "  </thead>\n",
       "  <tbody>\n",
       "    <tr>\n",
       "      <th>0</th>\n",
       "      <td>4567</td>\n",
       "      <td>156872.291111</td>\n",
       "    </tr>\n",
       "    <tr>\n",
       "      <th>1</th>\n",
       "      <td>5925</td>\n",
       "      <td>111278.186395</td>\n",
       "    </tr>\n",
       "    <tr>\n",
       "      <th>2</th>\n",
       "      <td>960</td>\n",
       "      <td>138378.182629</td>\n",
       "    </tr>\n",
       "    <tr>\n",
       "      <th>3</th>\n",
       "      <td>3848</td>\n",
       "      <td>128449.367029</td>\n",
       "    </tr>\n",
       "    <tr>\n",
       "      <th>4</th>\n",
       "      <td>746</td>\n",
       "      <td>226421.378848</td>\n",
       "    </tr>\n",
       "  </tbody>\n",
       "</table>\n",
       "</div>"
      ],
      "text/plain": [
       "     Id          Price\n",
       "0  4567  156872.291111\n",
       "1  5925  111278.186395\n",
       "2   960  138378.182629\n",
       "3  3848  128449.367029\n",
       "4   746  226421.378848"
      ]
     },
     "execution_count": 28,
     "metadata": {},
     "output_type": "execute_result"
    }
   ],
   "source": [
    "predictions.head()"
   ]
  },
  {
   "cell_type": "markdown",
   "id": "ab291124",
   "metadata": {},
   "source": [
    "сохраним предсказания в csv файл"
   ]
  },
  {
   "cell_type": "code",
   "execution_count": 29,
   "id": "39e08b15",
   "metadata": {},
   "outputs": [],
   "source": [
    "predictions.to_csv('LibPyCP_predictions.csv', sep=',', index=False, encoding='utf-8')"
   ]
  }
 ],
 "metadata": {
  "kernelspec": {
   "display_name": "Python 3",
   "language": "python",
   "name": "python3"
  },
  "language_info": {
   "codemirror_mode": {
    "name": "ipython",
    "version": 3
   },
   "file_extension": ".py",
   "mimetype": "text/x-python",
   "name": "python",
   "nbconvert_exporter": "python",
   "pygments_lexer": "ipython3",
   "version": "3.8.8"
  }
 },
 "nbformat": 4,
 "nbformat_minor": 5
}
