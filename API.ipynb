{
 "cells": [
  {
   "cell_type": "code",
   "execution_count": 12,
   "id": "3c02dd1a",
   "metadata": {},
   "outputs": [],
   "source": [
    "import requests"
   ]
  },
  {
   "cell_type": "code",
   "execution_count": 13,
   "id": "ef5cc3b0",
   "metadata": {},
   "outputs": [],
   "source": [
    "appid = ' 6029c4839f40448b97a163312221604 '"
   ]
  },
  {
   "cell_type": "code",
   "execution_count": 14,
   "id": "4548cce2",
   "metadata": {},
   "outputs": [],
   "source": [
    "url = 'https://samples.openweathermap.org/data/2.5/weather'"
   ]
  },
  {
   "cell_type": "code",
   "execution_count": 15,
   "id": "f9dbf89d",
   "metadata": {},
   "outputs": [],
   "source": [
    "req = requests.get(f'{url}?q=Yekaterinburg,uk&appid={appid}')"
   ]
  },
  {
   "cell_type": "code",
   "execution_count": 16,
   "id": "3b44e664",
   "metadata": {
    "scrolled": true
   },
   "outputs": [
    {
     "name": "stdout",
     "output_type": "stream",
     "text": [
      "{'coord': {'lon': -0.13, 'lat': 51.51}, 'weather': [{'id': 300, 'main': 'Drizzle', 'description': 'light intensity drizzle', 'icon': '09d'}], 'base': 'stations', 'main': {'temp': 280.32, 'pressure': 1012, 'humidity': 81, 'temp_min': 279.15, 'temp_max': 281.15}, 'visibility': 10000, 'wind': {'speed': 4.1, 'deg': 80}, 'clouds': {'all': 90}, 'dt': 1485789600, 'sys': {'type': 1, 'id': 5091, 'message': 0.0103, 'country': 'GB', 'sunrise': 1485762037, 'sunset': 1485794875}, 'id': 2643743, 'name': 'London', 'cod': 200}\n"
     ]
    }
   ],
   "source": [
    "print(req.json())"
   ]
  },
  {
   "cell_type": "code",
   "execution_count": 17,
   "id": "22333063",
   "metadata": {},
   "outputs": [
    {
     "data": {
      "text/plain": [
       "'https://samples.openweathermap.org/data/2.5/weather?q=Yekaterinburg,uk&appid=%206029c4839f40448b97a163312221604%20'"
      ]
     },
     "execution_count": 17,
     "metadata": {},
     "output_type": "execute_result"
    }
   ],
   "source": [
    "req.url"
   ]
  },
  {
   "cell_type": "code",
   "execution_count": 18,
   "id": "4371f0d3",
   "metadata": {},
   "outputs": [],
   "source": [
    "params = { 'q': 'Yekaterinburg,uk', 'appid': '6029c4839f40448b97a163312221604' }"
   ]
  },
  {
   "cell_type": "code",
   "execution_count": 19,
   "id": "b4f5d077",
   "metadata": {},
   "outputs": [],
   "source": [
    "url = 'https://samples.openweathermap.org/data/2.5/weather'"
   ]
  },
  {
   "cell_type": "code",
   "execution_count": 20,
   "id": "2712db0a",
   "metadata": {},
   "outputs": [],
   "source": [
    "r = requests.get(url=url, params=params)"
   ]
  },
  {
   "cell_type": "code",
   "execution_count": 21,
   "id": "87cfa5e0",
   "metadata": {},
   "outputs": [
    {
     "name": "stdout",
     "output_type": "stream",
     "text": [
      "200\n"
     ]
    }
   ],
   "source": [
    "print(r.status_code)"
   ]
  }
 ],
 "metadata": {
  "kernelspec": {
   "display_name": "Python 3",
   "language": "python",
   "name": "python3"
  },
  "language_info": {
   "codemirror_mode": {
    "name": "ipython",
    "version": 3
   },
   "file_extension": ".py",
   "mimetype": "text/x-python",
   "name": "python",
   "nbconvert_exporter": "python",
   "pygments_lexer": "ipython3",
   "version": "3.8.8"
  }
 },
 "nbformat": 4,
 "nbformat_minor": 5
}
