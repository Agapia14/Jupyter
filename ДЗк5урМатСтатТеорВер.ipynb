{
 "cells": [
  {
   "cell_type": "markdown",
   "id": "4460f992",
   "metadata": {},
   "source": [
    "Известно, что генеральная совокупность распределена нормально со средним квадратическим отклонением, равным 16.Найти доверительный интервал для оценки математического ожидания с надежностью 0.95,если выборочная средняя M = 80, а объем выборки n = 256."
   ]
  },
  {
   "cell_type": "code",
   "execution_count": 1,
   "id": "2f4192b9",
   "metadata": {},
   "outputs": [
    {
     "name": "stdout",
     "output_type": "stream",
     "text": [
      "Requirement already satisfied: scipy in c:\\users\\user\\anaconda3\\lib\\site-packages (1.6.2)\n",
      "Requirement already satisfied: numpy<1.23.0,>=1.16.5 in c:\\users\\user\\anaconda3\\lib\\site-packages (from scipy) (1.20.1)\n",
      "Note: you may need to restart the kernel to use updated packages.\n"
     ]
    }
   ],
   "source": [
    "pip install scipy"
   ]
  },
  {
   "cell_type": "code",
   "execution_count": 2,
   "id": "f91d9485",
   "metadata": {},
   "outputs": [
    {
     "name": "stdout",
     "output_type": "stream",
     "text": [
      "Доверительный интервал [78.04003601545995;81.95996398454005]\n"
     ]
    }
   ],
   "source": [
    "import scipy.stats as sps\n",
    "import math\n",
    "\n",
    "s_0 = 16\n",
    "p = 0.95\n",
    "M = 80\n",
    "n = 256\n",
    "\n",
    "a = 1 - p\n",
    "T_1 = M - (sps.norm.ppf(p + a/2))*s_0/math.sqrt(256)\n",
    "T_2 = M + (sps.norm.ppf(p + a/2))*s_0/math.sqrt(256)\n",
    "\n",
    "print(f'Доверительный интервал [{T_1};{T_2}]')"
   ]
  },
  {
   "cell_type": "markdown",
   "id": "0ce7c65d",
   "metadata": {},
   "source": [
    "Продавец утверждает, что средний вес пачки печенья составляет 200 г. Из партии извлечена выборка из 10 пачек. Вес каждой пачки составляет: 202, 203, 199, 197, 195, 201, 200, 204, 194, 190. Известно, что их веса распределены нормально. Верно ли утверждение продавца, если учитывать, что доверительная вероятность равна 99%?"
   ]
  },
  {
   "cell_type": "code",
   "execution_count": 4,
   "id": "31dcc7d3",
   "metadata": {},
   "outputs": [],
   "source": [
    "import numpy as np"
   ]
  },
  {
   "cell_type": "code",
   "execution_count": 5,
   "id": "7bbd0969",
   "metadata": {},
   "outputs": [
    {
     "name": "stdout",
     "output_type": "stream",
     "text": [
      "T_t1 = -3.25, T_t2 = 3.25,T_p = -1.0651074037450896\n",
      "Утверждение продовца верно при альфа = 0.01\n"
     ]
    }
   ],
   "source": [
    "masses = [202, 203, 199, 197, 195, 201, 200, 204, 194, 190]\n",
    "M_0 = 200\n",
    "a = 0.01\n",
    "M_1 = np.mean(masses)\n",
    "n = 10\n",
    "\n",
    "T_p = (M_1 - M_0)/(np.std(masses, ddof = 1)/math.sqrt(n))\n",
    "# v = 9 и альфа = 0.005 из талбицы \n",
    "T_t1 = - 3.25\n",
    "T_t2 = 3.25\n",
    "print(f'T_t1 = {T_t1}, T_t2 = {T_t2},T_p = {T_p}')\n",
    "print('Утверждение продовца верно при альфа = 0.01')"
   ]
  }
 ],
 "metadata": {
  "kernelspec": {
   "display_name": "Python 3",
   "language": "python",
   "name": "python3"
  },
  "language_info": {
   "codemirror_mode": {
    "name": "ipython",
    "version": 3
   },
   "file_extension": ".py",
   "mimetype": "text/x-python",
   "name": "python",
   "nbconvert_exporter": "python",
   "pygments_lexer": "ipython3",
   "version": "3.8.8"
  }
 },
 "nbformat": 4,
 "nbformat_minor": 5
}
