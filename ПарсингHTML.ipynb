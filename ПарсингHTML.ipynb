{
 "cells": [
  {
   "cell_type": "code",
   "execution_count": 1,
   "id": "a41eead6",
   "metadata": {},
   "outputs": [],
   "source": [
    "from bs4 import BeautifulSoup as bs\n",
    "import requests\n",
    "from pprint import pprint\n",
    "import time"
   ]
  },
  {
   "cell_type": "code",
   "execution_count": 2,
   "id": "c9798734",
   "metadata": {},
   "outputs": [],
   "source": [
    "headers = {'User-agent': 'Mozilla/5.0 (Windows NT 10.0; Win64; x64)'}"
   ]
  },
  {
   "cell_type": "code",
   "execution_count": 3,
   "id": "f5e059c5",
   "metadata": {},
   "outputs": [],
   "source": [
    "def hh(main_link, search_str, n_str):\n",
    "    #n_str - кол-во просматриваемых страниц\n",
    "    html = requests.get(main_link+'/search/vacancy?clusters=true&enable_snippets=true&text='+search_str+'&showClusters=true',headers=headers).text\n",
    "    parsed_html = bs(html,'lxml')"
   ]
  },
  {
   "cell_type": "code",
   "execution_count": null,
   "id": "860daf37",
   "metadata": {},
   "outputs": [],
   "source": [
    "jobs = []\n",
    "    for i in range(n_str):\n",
    "        jobs_block = parsed_html.find('div',{'class':'vacancy-serp'})\n",
    "        jobs_list = jobs_block.findChildren(recursive=False)\n",
    "        for job in jobs_list:\n",
    "            job_data={}\n",
    "            req=job.find('span',{'class':'g-user-content'})\n",
    "            if req!=None:\n",
    "                main_info = req.findChild()\n",
    "                job_name = main_info.getText()\n",
    "                job_link = main_info['href']\n",
    "                salary = job.find('div',{'class':'vacancy-serp-item__compensation'})\n",
    "                if not salary:\n",
    "                    salary_min=0\n",
    "                    salary_max=0\n",
    "                else:\n",
    "                    salary=salary.getText().replace(u'\\xa0', u' ')\n",
    "                    salaries=salary.split('-')\n",
    "                    salary_min=salaries[0]\n",
    "                    if len(salaries)>1:\n",
    "                        salary_max=salaries[1]\n",
    "                    else:\n",
    "                        salary_max=''\n",
    "                job_data['name'] = job_name\n",
    "                job_data['salary_min'] = salary_min\n",
    "                job_data['salary_max'] = salary_max\n",
    "                job_data['link'] = job_link\n",
    "                job_data['site'] = main_link\n",
    "                jobs.append(job_data)"
   ]
  },
  {
   "cell_type": "code",
   "execution_count": null,
   "id": "5187cd9c",
   "metadata": {},
   "outputs": [],
   "source": [
    "time.sleep(1)\n",
    "        next_btn_block=parsed_html.find('a',{'class':'bloko-button HH-Pager-Controls-Next HH-Pager-Control'})\n",
    "        next_btn_link=next_btn_block['href']\n",
    "        html = requests.get(main_link+next_btn_link,headers=headers).text\n",
    "        parsed_html = bs(html,'lxml')\n",
    "\n",
    "    pprint(jobs)"
   ]
  },
  {
   "cell_type": "code",
   "execution_count": null,
   "id": "4cf1d02a",
   "metadata": {},
   "outputs": [],
   "source": [
    "def superjob(main_link, search_str, n_str):\n",
    "    #n_str - кол-во просматриваемых страниц\n",
    "    html = requests.get(main_link+'/vacancy/search/?keywords='+search_str+'&geo%5Bc%5D%5B0%5D=1',headers=headers).text\n",
    "    parsed_html = bs(html,'lxml')\n",
    "\n",
    "    jobs = []\n",
    "    for i in range(n_str):\n",
    "        jobs_block = parsed_html.find('div',{'class':'_1ID8B'})\n",
    "        jobs_list = jobs_block.findChildren(recursive=True)\n",
    "        for job in jobs_list:\n",
    "            job_data={}\n",
    "            req=job.find('div',{'class':'_3syPg _1_bQo _2FJA4'})\n",
    "            if req!=None:\n",
    "                main_info = req.findChild()\n",
    "                try:\n",
    "                    job_link = main_info['href']\n",
    "                except:\n",
    "                    job_link = ''\n",
    "                job_name = main_info.getText()\n",
    "                salary = job.find('span',{'class':'_3mfro _2Wp8I f-test-text-company-item-salary PlM3e _2JVkc _2VHxz'})\n",
    "                if not salary:\n",
    "                    salary_min=0\n",
    "                    salary_max=0\n",
    "                else:\n",
    "                    salary=salary.getText().replace(u'\\xa0', u' ')\n",
    "                    salaries=salary.split('-')\n",
    "                    salary_min=salaries[0]\n",
    "                    if len(salaries)>1:\n",
    "                        salary_max=salaries[1]\n",
    "                    else:\n",
    "                        salary_max=''\n",
    "                job_data['name'] = job_name\n",
    "                job_data['salary_min'] = salary_min\n",
    "                job_data['salary_max'] = salary_max\n",
    "                job_data['link'] = job_link\n",
    "                job_data['site'] = main_link\n",
    "                jobs.append(job_data)"
   ]
  },
  {
   "cell_type": "code",
   "execution_count": null,
   "id": "42c2e5f3",
   "metadata": {},
   "outputs": [],
   "source": [
    " time.sleep(1)\n",
    "        next_btn_block=parsed_html.find('a',{'rel':'next'})\n",
    "        next_btn_link=next_btn_block['href']\n",
    "        html = requests.get(main_link+next_btn_link,headers=headers).text\n",
    "        parsed_html = bs(html,'lxml')\n"
   ]
  },
  {
   "cell_type": "code",
   "execution_count": null,
   "id": "4a302d28",
   "metadata": {},
   "outputs": [],
   "source": [
    "print(jobs)\n"
   ]
  }
 ],
 "metadata": {
  "kernelspec": {
   "display_name": "Python 3",
   "language": "python",
   "name": "python3"
  },
  "language_info": {
   "codemirror_mode": {
    "name": "ipython",
    "version": 3
   },
   "file_extension": ".py",
   "mimetype": "text/x-python",
   "name": "python",
   "nbconvert_exporter": "python",
   "pygments_lexer": "ipython3",
   "version": "3.8.8"
  }
 },
 "nbformat": 4,
 "nbformat_minor": 5
}
