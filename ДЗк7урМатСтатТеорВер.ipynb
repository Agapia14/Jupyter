{
 "cells": [
  {
   "cell_type": "markdown",
   "id": "129b0e37",
   "metadata": {},
   "source": [
    "Дана матрица объект-признак\n",
    "\n",
    "X = [[ 1.22401313,  2.30868478,  3.03636353,  2.69287214],\n",
    "     [-0.18757272,  1.30337355,  5.12093014,  3.46363202],\n",
    "     [-0.81094525,  1.82463398,  5.79686488,  1.86159445],\n",
    "     [ 0.75129018,  2.67392052,  3.65529809,  1.66746094],\n",
    "     [ 0.00972362,  1.97367255,  2.50594319,  1.69755173],\n",
    "     [-0.62972637,  0.77750764,  2.84124027,  4.54410559],\n",
    "     [ 2.29536229,  1.81206697,  1.95026215,  1.51874636],\n",
    "     [ 0.0920418 ,  2.26971361,  7.47708735,  2.61081203],\n",
    "     [ 2.39252799,  3.17563985,  3.61420599,  5.10773362],\n",
    "     [ 0.54983815,  2.87988651,  1.65752765,  1.59635987]]\n",
    "и значения целевой переменной\n",
    "\n",
    "y = [ 9.26193358,  9.700363  ,  8.67214805,  8.74796974,  6.18689108,\n",
    "      7.53312713,  7.57643777, 12.44965478, 14.29010746,  6.68361218]\n",
    "Подберите два признака (из четырёх) так, чтобы уровень линейной зависимости целевой переменной от значений этих признаков был максимальным. Другими словами, модель линейной регрессии на этих признаках должна давать наилучший результат. В качестве ответа запишите значение коэффициента детерминации для модели на этих признаках."
   ]
  },
  {
   "cell_type": "code",
   "execution_count": 10,
   "id": "0ea1b119",
   "metadata": {},
   "outputs": [],
   "source": [
    "import pandas as pd\n",
    "import numpy as np\n",
    "import seaborn as sns\n",
    "import matplotlib.pyplot as plt\n",
    "from sklearn.linear_model import LinearRegression\n",
    "from sklearn.metrics import r2_score\n",
    "from itertools import product\n",
    "from scipy import stats\n",
    "\n",
    "def noReflections(n, k, current=None, idx=0, symmetric=True):\n",
    "    # n: number of distinct elements\n",
    "    # k: sequences length\n",
    "    # current: sequence being generated\n",
    "    # idx: current generated index\n",
    "    # symmetric: true if the chosen elements up to now are symmetric\n",
    "    assert n >= 0 and k >= 0\n",
    "    if n == 0 or k == 0:\n",
    "        return\n",
    "    if idx == 0:\n",
    "        current = k * [0]\n",
    "    if idx < k // 2:\n",
    "        # Choose the value for current position (idx) and symmetric (idx2)\n",
    "        idx2 = k - idx - 1\n",
    "        for i in range(n):\n",
    "            # Value for current position\n",
    "            current[idx] = i\n",
    "            # If all previously selected values were symmetric,\n",
    "            # the symmetric position must have a value equal or greater \n",
    "            # than the current; otherwise it can take any value.\n",
    "            first = i if symmetric else 0\n",
    "            for j in range(first, n):\n",
    "                # Value for symmetric position\n",
    "                current[idx2] = j\n",
    "                # Recursive call\n",
    "                # Only keep symmetric flag if previously selected values\n",
    "                # and the ones selected now are symmetric.\n",
    "                yield from noReflections(n, k, current, idx + 1, symmetric and (i == j))\n",
    "    elif idx == k // 2 and (k % 2 == 1):\n",
    "        # In middle position of odd-length sequence\n",
    "        # Make one sequence with each possible value\n",
    "        for i in range(n):\n",
    "            current[idx] = i\n",
    "            yield tuple(current)\n",
    "    else:\n",
    "        # Even-length sequence completed\n",
    "        yield tuple(current)"
   ]
  },
  {
   "cell_type": "code",
   "execution_count": 11,
   "id": "e7508db2",
   "metadata": {},
   "outputs": [
    {
     "name": "stdout",
     "output_type": "stream",
     "text": [
      "[[1.         1.         0.12367649]\n",
      " [1.         2.         0.18113595]\n",
      " [1.         3.         0.76342462]\n",
      " [1.         4.         0.45329668]\n",
      " [2.         2.         0.1598867 ]\n",
      " [2.         3.         0.54794827]\n",
      " [2.         4.         0.60620558]\n",
      " [3.         3.         0.3394664 ]\n",
      " [3.         4.         0.62244199]\n",
      " [4.         4.         0.36350864]]\n",
      "\n",
      "\n",
      "\n",
      "[X1,X3] - Y, Gives the best R2 score - 0.7634246238793152\n",
      "\n",
      "\n",
      " \n"
     ]
    },
    {
     "data": {
      "image/png": "[encoded data removed]",
      "text/plain": [
       "<Figure size 432x288 with 2 Axes>"
      ]
     },
     "metadata": {
      "needs_background": "light"
     },
     "output_type": "display_data"
    }
   ],
   "source": [
    "\n",
    "X = np.array([[ 1.22401313,  2.30868478,  3.03636353,  2.69287214],\n",
    "     [-0.18757272,  1.30337355,  5.12093014,  3.46363202],\n",
    "     [-0.81094525,  1.82463398,  5.79686488,  1.86159445],\n",
    "     [ 0.75129018,  2.67392052,  3.65529809,  1.66746094],\n",
    "     [ 0.00972362,  1.97367255,  2.50594319,  1.69755173],\n",
    "     [-0.62972637,  0.77750764,  2.84124027,  4.54410559],\n",
    "     [ 2.29536229,  1.81206697,  1.95026215,  1.51874636],\n",
    "     [ 0.0920418 ,  2.26971361,  7.47708735,  2.61081203],\n",
    "     [ 2.39252799,  3.17563985,  3.61420599,  5.10773362],\n",
    "     [ 0.54983815,  2.87988651,  1.65752765,  1.59635987]])\n",
    "\n",
    "y = np.array([ 9.26193358,  9.700363  ,  8.67214805,  8.74796974,  6.18689108,\n",
    "      7.53312713,  7.57643777, 12.44965478, 14.29010746,  6.68361218])\n",
    "df = pd.DataFrame(X)\n",
    "df[\"y\"] = y\n",
    "df.columns = [\"x1\",\"x2\",\"x3\",\"x4\",\"y\"]\n",
    "sns.heatmap(df.corr())\n",
    "\n",
    "pairs = list(noReflections(4, 2))\n",
    "output= []\n",
    "for a,b in pairs:\n",
    "    lr = LinearRegression(fit_intercept=True).fit(X[:,[a,b]], y)\n",
    "    lr_pred = lr.predict(X[:,[a,b]])\n",
    "    output.append([a+1,b+1,r2_score(y,lr_pred)])\n",
    "\n",
    "print(np.array(output))\n",
    "\n",
    "print(f\"\\n\\n\\n[X1,X3] - Y, Gives the best R2 score - {np.array(output)[:,2].max()}\\n\\n\\n \")"
   ]
  },
  {
   "cell_type": "markdown",
   "id": "ca76afba",
   "metadata": {},
   "source": [
    "Является ли значимым уравнение регрессии, полученное в предыдущей задаче? В качестве ответа запишите 1, если является, и 0 иначе."
   ]
  },
  {
   "cell_type": "code",
   "execution_count": 12,
   "id": "6bbf888f",
   "metadata": {},
   "outputs": [
    {
     "data": {
      "text/plain": [
       "(0.0, 0.5)"
      ]
     },
     "execution_count": 12,
     "metadata": {},
     "output_type": "execute_result"
    },
    {
     "data": {
      "image/png": "[encoded data removed]",
      "text/plain": [
       "<Figure size 432x288 with 1 Axes>"
      ]
     },
     "metadata": {
      "needs_background": "light"
     },
     "output_type": "display_data"
    }
   ],
   "source": [
    "R1 = np.array(output)[:,2].max()\n",
    "n = X.shape[0]\n",
    "m = 1\n",
    "\n",
    "k1 = m\n",
    "k2 = n - m - 1\n",
    "\n",
    "alpha = 0.05\n",
    "\n",
    "t = stats.f.ppf(1 - alpha, k1, k2)\n",
    "\n",
    "ox = np.linspace(0, 6, 500)\n",
    "oy = stats.f.pdf(ox, k1, k2)\n",
    "\n",
    "ox_right = np.linspace(t, 6, 100)\n",
    "oy_right = stats.f.pdf(ox_right, k1, k2)\n",
    "\n",
    "plt.plot(ox, oy)\n",
    "plt.fill_between(ox_right, oy_right, alpha=0.5)\n",
    "\n",
    "plt.ylim(0, 0.5)"
   ]
  },
  {
   "cell_type": "code",
   "execution_count": 13,
   "id": "b0448246",
   "metadata": {},
   "outputs": [
    {
     "name": "stdout",
     "output_type": "stream",
     "text": [
      "'F' (25.82) value is higher than 't' (5.32) value our H0 is false.\n",
      " ANSWER = 1\n"
     ]
    }
   ],
   "source": [
    "F = (R1 / k1) / ((1 - R1) / k2)\n",
    "\n",
    "print(f\"'F' ({F:.2f}) value is higher than 't' ({t:.2f}) value our H0 is false.\\n ANSWER = 1\")"
   ]
  },
  {
   "cell_type": "markdown",
   "id": "c7212f35",
   "metadata": {},
   "source": [
    "Для проведения A/B-тестирования сайта интернет-магазина были получены следующие данные: страница A была посещена 2509 раз, из них 77 закончились совершением покупки, страница B была посещена 1465 раз, 60 из них закончились совершением покупки. Является ли значимым отличие конверсии на страницах A и B? В качестве ответа запишите 1, если является, и 0 иначе.\n",
    "\n",
    "Подсказка. Реализуйте двухвыборочный t-тест. В качестве выборок здесь можно взять наборы меток совершения покупки (0 или 1) каждым посетителем.\n",
    "\n",
    "Требуется проверить гипотезу о том, что математические ожидания двух соответствующих распределений равны, т.е.\n",
    "H0:M(D1)=M(D2)"
   ]
  },
  {
   "cell_type": "code",
   "execution_count": 14,
   "id": "3579465b",
   "metadata": {},
   "outputs": [
    {
     "data": {
      "text/plain": [
       "(0.17250951379621338, 0.19825513126725994)"
      ]
     },
     "execution_count": 14,
     "metadata": {},
     "output_type": "execute_result"
    }
   ],
   "source": [
    "x_A = [1 for i in range(77)]\n",
    "x_A.extend([0 for i in range(2509-77)])\n",
    "x_A = np.array(x_A)\n",
    "n_A = x_A.shape[0]\n",
    "\n",
    "x_B = [1 for i in range(60)]\n",
    "x_B.extend([0 for i in range(1465-60)])\n",
    "x_B = np.array(x_B)\n",
    "n_B = x_B.shape[0]\n",
    "\n",
    "sigma_A = x_A.std(ddof = 1)\n",
    "sigma_B = x_B.std(ddof = 1)\n",
    "sigma_A, sigma_B"
   ]
  },
  {
   "cell_type": "code",
   "execution_count": 15,
   "id": "d2f37b1f",
   "metadata": {},
   "outputs": [
    {
     "data": {
      "text/plain": [
       "0.006220171278295827"
      ]
     },
     "execution_count": 15,
     "metadata": {},
     "output_type": "execute_result"
    }
   ],
   "source": [
    "def sample_avg(sigma, n):\n",
    "  return sigma**2 / n\n",
    "\n",
    "sample_avg_A = sample_avg(sigma_A, n_A)\n",
    "sample_avg_B = sample_avg(sigma_B, n_B)\n",
    "sigma_delta = np.math.sqrt(sample_avg_A + sample_avg_B)\n",
    "sigma_delta"
   ]
  },
  {
   "cell_type": "code",
   "execution_count": 16,
   "id": "f7ae5c7a",
   "metadata": {},
   "outputs": [
    {
     "data": {
      "text/plain": [
       "-1.6504551408398205"
      ]
     },
     "execution_count": 16,
     "metadata": {},
     "output_type": "execute_result"
    }
   ],
   "source": [
    "t = (x_A.mean() - x_B.mean()) / sigma_delta\n",
    "t"
   ]
  },
  {
   "cell_type": "code",
   "execution_count": 17,
   "id": "29b612d2",
   "metadata": {},
   "outputs": [
    {
     "data": {
      "text/plain": [
       "2732.8025644352124"
      ]
     },
     "execution_count": 17,
     "metadata": {},
     "output_type": "execute_result"
    }
   ],
   "source": [
    "df = (sigma_delta**4) / (sample_avg_A**2/(n_A - 1) + sample_avg_B**2/(n_B - 1))\n",
    "df"
   ]
  },
  {
   "cell_type": "code",
   "execution_count": 18,
   "id": "620539a5",
   "metadata": {},
   "outputs": [
    {
     "data": {
      "text/plain": [
       "(-1.9608324352746576, 1.9608324352746571)"
      ]
     },
     "execution_count": 18,
     "metadata": {},
     "output_type": "execute_result"
    }
   ],
   "source": [
    "alpha = 0.05\n",
    "\n",
    "t1 = stats.t.ppf(alpha / 2, df=df)\n",
    "t2 = stats.t.ppf(1 - alpha / 2, df=df)\n",
    "t1, t2"
   ]
  },
  {
   "cell_type": "code",
   "execution_count": 19,
   "id": "56262286",
   "metadata": {},
   "outputs": [
    {
     "data": {
      "text/plain": [
       "Ttest_indResult(statistic=-1.6504551408398205, pvalue=0.09896479217925898)"
      ]
     },
     "execution_count": 19,
     "metadata": {},
     "output_type": "execute_result"
    }
   ],
   "source": [
    "stats.ttest_ind(x_A, x_B, equal_var=False)"
   ]
  },
  {
   "cell_type": "code",
   "execution_count": 20,
   "id": "bc85678e",
   "metadata": {},
   "outputs": [
    {
     "name": "stdout",
     "output_type": "stream",
     "text": [
      "ANSWER - 0\n"
     ]
    }
   ],
   "source": [
    "print(\"ANSWER - 0\")"
   ]
  }
 ],
 "metadata": {
  "kernelspec": {
   "display_name": "Python 3",
   "language": "python",
   "name": "python3"
  },
  "language_info": {
   "codemirror_mode": {
    "name": "ipython",
    "version": 3
   },
   "file_extension": ".py",
   "mimetype": "text/x-python",
   "name": "python",
   "nbconvert_exporter": "python",
   "pygments_lexer": "ipython3",
   "version": "3.8.8"
  }
 },
 "nbformat": 4,
 "nbformat_minor": 5
}
