{
 "cells": [
  {
   "cell_type": "markdown",
   "id": "23463a3a",
   "metadata": {},
   "source": [
    "Задача 1\n",
    "Имеется колода в 52 карты. Найти число возможностей вытянуть из неё 4 карты так, чтобы среди них был хотя бы один туз.\n",
    "\n"
   ]
  },
  {
   "cell_type": "code",
   "execution_count": 2,
   "id": "f8a826c2",
   "metadata": {},
   "outputs": [
    {
     "name": "stdout",
     "output_type": "stream",
     "text": [
      "Requirement already satisfied: numpy in c:\\users\\user\\anaconda3\\lib\\site-packages (1.20.1)\n",
      "Note: you may need to restart the kernel to use updated packages.\n"
     ]
    }
   ],
   "source": [
    "pip install numpy"
   ]
  },
  {
   "cell_type": "code",
   "execution_count": 3,
   "id": "9f7923f9",
   "metadata": {},
   "outputs": [],
   "source": [
    "import numpy as np\n",
    "from math import factorial"
   ]
  },
  {
   "cell_type": "markdown",
   "id": "3a29e731",
   "metadata": {},
   "source": [
    "вероятность, что окажется хотя бы один туз \n",
    "общее число комбинаций"
   ]
  },
  {
   "cell_type": "code",
   "execution_count": 6,
   "id": "8adda220",
   "metadata": {},
   "outputs": [
    {
     "name": "stdout",
     "output_type": "stream",
     "text": [
      "270725.0\n"
     ]
    }
   ],
   "source": [
    "number_of_combinations = factorial(number_of_cards) / (factorial(tacked_cards)*factorial(number_of_cards - tacked_cards))\n",
    "print(number_of_combinations)"
   ]
  },
  {
   "cell_type": "markdown",
   "id": "a29f1906",
   "metadata": {},
   "source": [
    "благоприятствующие событие (среди карт нет туза)"
   ]
  },
  {
   "cell_type": "code",
   "execution_count": 7,
   "id": "36141cb4",
   "metadata": {},
   "outputs": [
    {
     "name": "stdout",
     "output_type": "stream",
     "text": [
      "194580.0\n"
     ]
    }
   ],
   "source": [
    "number_of_combinations_favor = factorial(number_of_cards - 4) / ((factorial(tacked_cards) * factorial((number_of_cards -4) - tacked_cards)))\n",
    "print(number_of_combinations_favor)"
   ]
  },
  {
   "cell_type": "markdown",
   "id": "b34a4e0a",
   "metadata": {},
   "source": [
    "вероятность противоположного события"
   ]
  },
  {
   "cell_type": "code",
   "execution_count": 8,
   "id": "d199e56a",
   "metadata": {},
   "outputs": [
    {
     "name": "stdout",
     "output_type": "stream",
     "text": [
      "0.7187367254594146\n"
     ]
    }
   ],
   "source": [
    "p_dif = number_of_combinations_favor/number_of_combinations\n",
    "\n",
    "print(p_dif)"
   ]
  },
  {
   "cell_type": "markdown",
   "id": "31eabb7e",
   "metadata": {},
   "source": [
    "вероятность, что появится один туз"
   ]
  },
  {
   "cell_type": "code",
   "execution_count": 9,
   "id": "82fd00cf",
   "metadata": {},
   "outputs": [
    {
     "name": "stdout",
     "output_type": "stream",
     "text": [
      "0.2812632745405854\n"
     ]
    }
   ],
   "source": [
    "p = 1 - p_dif\n",
    "\n",
    "print (p)"
   ]
  },
  {
   "cell_type": "markdown",
   "id": "298ddd25",
   "metadata": {},
   "source": [
    "Задачи 2 и 3\n",
    "Из 60 вопросов, входящих в экзаменационные билеты, студент знает 50. Случайным образом студент вытягивает 3 вопроса. Какова вероятность, что все выбранные вопросы знакомы студенту? Какова вероятность, что два из трёх вопросов знакомы студенту?\n"
   ]
  },
  {
   "cell_type": "markdown",
   "id": "192d7d42",
   "metadata": {},
   "source": [
    "Общее количество сочетаний по 3 из 60:"
   ]
  },
  {
   "cell_type": "code",
   "execution_count": 10,
   "id": "2f61d3c2",
   "metadata": {},
   "outputs": [],
   "source": [
    "A = factorial(60)/(factorial(57) * factorial(3))"
   ]
  },
  {
   "cell_type": "markdown",
   "id": "d1a00963",
   "metadata": {},
   "source": [
    "Из них количество сочетаний с теми вопросами, которые он знает:"
   ]
  },
  {
   "cell_type": "code",
   "execution_count": 11,
   "id": "960699a9",
   "metadata": {},
   "outputs": [],
   "source": [
    "An = factorial(50)/(factorial(47) * factorial(3))"
   ]
  },
  {
   "cell_type": "code",
   "execution_count": 13,
   "id": "a8b16032",
   "metadata": {},
   "outputs": [
    {
     "name": "stdout",
     "output_type": "stream",
     "text": [
      "Вероятность того, что студент вытянет три известных ему вопроса: 0.5727644652250146\n"
     ]
    }
   ],
   "source": [
    "print(f'Вероятность того, что студент вытянет три известных ему вопроса: {An/A}')"
   ]
  },
  {
   "cell_type": "markdown",
   "id": "d388782c",
   "metadata": {},
   "source": [
    "Различные сочетания известных билетов и неизвестного можно получить, перемножив сочетания для известных и неизвестного билетов:"
   ]
  },
  {
   "cell_type": "code",
   "execution_count": 14,
   "id": "e129ef83",
   "metadata": {},
   "outputs": [
    {
     "name": "stdout",
     "output_type": "stream",
     "text": [
      "Вероятность того, что студент вытянет только два известных ему вопроса: 0.35797779076563413\n"
     ]
    }
   ],
   "source": [
    "A = factorial(60)/(factorial(57) * factorial(3))\n",
    "An = factorial(50)/(factorial(50-2) * factorial(2))\n",
    "Au = factorial(10)/(factorial(10-1) * factorial(1))\n",
    "print(f'Вероятность того, что студент вытянет только два известных ему вопроса: {(An*Au)/A}')"
   ]
  },
  {
   "cell_type": "markdown",
   "id": "fb6fcc8a",
   "metadata": {},
   "source": [
    "Задача 4\n",
    "Допустим, имеется некоторая очень редкая болезнь (поражает 0.1% населения). Вы приходите к врачу, вам делают тест на эту болезнь, и тест оказывается положительным. Врач говорит вам, что этот тест верно выявляет 99% больных этой болезнью и всего лишь в 1% случаев даёт ложный положительный ответ.\n",
    "Вопрос: какова вероятность, что вы действительно больны ей?\n",
    "Подсказка: используйте формулу Байеса с раскрытием знаменателя с помощью формулы полной вероятности."
   ]
  },
  {
   "attachments": {},
   "cell_type": "markdown",
   "id": "308cb0cb",
   "metadata": {},
   "source": [
    "Допускаяем A - вероятность положительного теста на эту болезнь, B - вероятность заболеть этой болезнью\n"
   ]
  },
  {
   "cell_type": "markdown",
   "id": "91699cd4",
   "metadata": {},
   "source": [
    "Полная вероятность для A:\n"
   ]
  },
  {
   "cell_type": "code",
   "execution_count": 15,
   "id": "6dbd175f",
   "metadata": {},
   "outputs": [
    {
     "data": {
      "text/plain": [
       "0.01098"
      ]
     },
     "execution_count": 15,
     "metadata": {},
     "output_type": "execute_result"
    }
   ],
   "source": [
    "0.99*0.001+0.01*(1-0.001)"
   ]
  },
  {
   "cell_type": "markdown",
   "id": "67ae9b14",
   "metadata": {},
   "source": [
    "Вероятность\n"
   ]
  },
  {
   "cell_type": "code",
   "execution_count": 16,
   "id": "1ddf64d2",
   "metadata": {
    "scrolled": true
   },
   "outputs": [
    {
     "name": "stdout",
     "output_type": "stream",
     "text": [
      "Вероятность быть больным при положительном результате теста: 0.09016393442622951\n"
     ]
    }
   ],
   "source": [
    "print(f'Вероятность быть больным при положительном результате теста: {0.99*0.001/(0.01098)}')"
   ]
  }
 ],
 "metadata": {
  "kernelspec": {
   "display_name": "Python 3",
   "language": "python",
   "name": "python3"
  },
  "language_info": {
   "codemirror_mode": {
    "name": "ipython",
    "version": 3
   },
   "file_extension": ".py",
   "mimetype": "text/x-python",
   "name": "python",
   "nbconvert_exporter": "python",
   "pygments_lexer": "ipython3",
   "version": "3.8.8"
  }
 },
 "nbformat": 4,
 "nbformat_minor": 5
}
