{
 "cells": [
  {
   "cell_type": "code",
   "execution_count": 1,
   "id": "128d12cd",
   "metadata": {},
   "outputs": [],
   "source": [
    "import numpy as np"
   ]
  },
  {
   "cell_type": "markdown",
   "id": "a99dd91b",
   "metadata": {},
   "source": [
    "1.Решить систему уравнений методом Гаусса:\n",
    "{x1+x2−x3−2x4=0,2x1+x2−x3+x4=−2,x1+x2−3x3+x4=4.\n",
    "Запишем систему в виде расширенной матрицы.\n",
    "(11−1−221−1111−31|0−24).\n",
    "Умножим 1 строку на -2 и сложим со 2 строкой.\n",
    "Умножим 1 строку на -1 и сложим с 3 строкой.\n",
    "(11−1−20−11500−23|0−24).\n",
    "Разделим каждую строку матрицы на соответствующий ведущий элемент: 1 строку на 1, 2 строку на -2, 3 строку на -2.\n",
    "(11−1−201−1−5002−3/2|02−2).\n",
    "Выразим x1,x2,x3 относительно остальных переменных.\n",
    "x1=−x2+x3+2x4\n",
    "x2=2+x3+5x4\n",
    "x3=−2+3/2x4\n",
    "Решение:\n",
    "x1=−2−3x4\n",
    "x2=13/2x4\n",
    "x3=−2+3/2x4\n",
    "x4 - произвольное действительное число\n",
    "Частное решение:\n",
    "x1=−2\n",
    "x2=0\n",
    "x3=−2\n",
    "x4=0\n"
   ]
  },
  {
   "cell_type": "markdown",
   "id": "12fcff6f",
   "metadata": {},
   "source": [
    "2. Проверить на совместность и выяснить, сколько решений будет иметь система линейных уравнений:\n",
    "а) ⎧3x1−x2+x3=4,2x1−5x2−3x3=−17,x1+x2−x3=0;\n",
    "б) ⎧2x1−4x2+6x3=1,x1−2x2+3x3=−2,3x1−6x2+9x3=5;\n",
    "в) {x1+2x2+5x3=4,3x1+x2−8x3=−2.\n"
   ]
  },
  {
   "cell_type": "markdown",
   "id": "8bd284c7",
   "metadata": {},
   "source": [
    "Теорема\n",
    "Необходимым и достаточным условием совместности системы из m уравнений с n неизвестными является равенство между собой рангов матрицы коэффициентов A и расширенной матрицы A~\n",
    "rankA=rankA~.\n",
    "Причем:\n",
    "1) если rankA=rankA~=n, где n — число неизвестных, то система определена, т. е. имеет единственное решение;\n",
    "2) если rankA=rankA~<n, то система имеет бесконечное количество решений;\n",
    "3) если rankA<rankA~, то система несовместна.\n"
   ]
  },
  {
   "cell_type": "code",
   "execution_count": 2,
   "id": "f9f94257",
   "metadata": {},
   "outputs": [
    {
     "name": "stdout",
     "output_type": "stream",
     "text": [
      "A:\n",
      "[[ 3 -1  1]\n",
      " [ 2 -5 -3]\n",
      " [ 1  1 -1]]\n",
      "\n",
      "A_ext:\n",
      "[[  3  -1   1   4]\n",
      " [  2  -5  -3 -17]\n",
      " [  1   1  -1   0]]\n",
      "\n",
      "rank(A): 3\n",
      "\n",
      "rank(A_ext): 3\n",
      "\n",
      "# of vars: 3\n",
      "\n",
      "Система имеет единственное решение.\n"
     ]
    }
   ],
   "source": [
    "A = np.array([[3, -1, 1], [2, -5, -3], [1, 1, -1]])\n",
    "b = np.array([4, -17, 0])\n",
    "A_ext = np.column_stack([A, b])\n",
    "\n",
    "rank_A = np.linalg.matrix_rank(A)\n",
    "rank_A_ext = np.linalg.matrix_rank(A_ext)\n",
    "n = len(A[0])\n",
    "\n",
    "print(f'A:\\n{A}\\n')\n",
    "print(f'A_ext:\\n{A_ext}\\n')\n",
    "\n",
    "print(f'rank(A): {rank_A}\\n')\n",
    "print(f'rank(A_ext): {rank_A_ext}\\n')\n",
    "print(f'# of vars: {n}\\n')\n",
    "\n",
    "if rank_A == rank_A_ext == n:\n",
    "    print(f'Система имеет единственное решение.')\n",
    "elif rank_A == rank_A_ext < n:\n",
    "    print(f'Система имеет бесконечное кол-во решений.')\n",
    "elif rank_A < rank_A_ext:\n",
    "    print(f'Система несовместна.')"
   ]
  },
  {
   "cell_type": "code",
   "execution_count": 3,
   "id": "9bf93b73",
   "metadata": {},
   "outputs": [
    {
     "name": "stdout",
     "output_type": "stream",
     "text": [
      "A:\n",
      "[[ 3 -4  6]\n",
      " [ 1 -2  3]\n",
      " [ 3 -6  9]]\n",
      "\n",
      "A_ext:\n",
      "[[ 3 -4  6  1]\n",
      " [ 1 -2  3 -2]\n",
      " [ 3 -6  9  5]]\n",
      "\n",
      "rank(A): 2\n",
      "\n",
      "rank(A_ext): 3\n",
      "\n",
      "# of vars: 3\n",
      "\n",
      "Система несовместна.\n"
     ]
    }
   ],
   "source": [
    "A = np.array([[3, -4, 6], [1, -2, 3], [3, -6, 9]])\n",
    "b = np.array([1, -2, 5])\n",
    "A_ext = np.column_stack([A, b])\n",
    "\n",
    "rank_A = np.linalg.matrix_rank(A)\n",
    "rank_A_ext = np.linalg.matrix_rank(A_ext)\n",
    "n = len(A[0])\n",
    "\n",
    "print(f'A:\\n{A}\\n')\n",
    "print(f'A_ext:\\n{A_ext}\\n')\n",
    "\n",
    "print(f'rank(A): {rank_A}\\n')\n",
    "print(f'rank(A_ext): {rank_A_ext}\\n')\n",
    "print(f'# of vars: {n}\\n')\n",
    "\n",
    "if rank_A == rank_A_ext == n:\n",
    "    print(f'Система имеет единственное решение.')\n",
    "elif rank_A == rank_A_ext < n:\n",
    "    print(f'Система имеет бесконечное кол-во решений.')\n",
    "elif rank_A < rank_A_ext:\n",
    "    print(f'Система несовместна.')"
   ]
  },
  {
   "cell_type": "code",
   "execution_count": 4,
   "id": "daae6f0c",
   "metadata": {},
   "outputs": [
    {
     "name": "stdout",
     "output_type": "stream",
     "text": [
      "A:\n",
      "[[ 1  2  5]\n",
      " [ 3  1 -8]]\n",
      "\n",
      "A_ext:\n",
      "[[ 1  2  5  4]\n",
      " [ 3  1 -8 -2]]\n",
      "\n",
      "rank(A): 2\n",
      "\n",
      "rank(A_ext): 2\n",
      "\n",
      "# of vars: 3\n",
      "\n",
      "Система имеет бесконечное кол-во решений.\n"
     ]
    }
   ],
   "source": [
    "A = np.array([[1, 2, 5], [3, 1, -8]])\n",
    "b = np.array([4, -2])\n",
    "A_ext = np.column_stack([A, b])\n",
    "\n",
    "rank_A = np.linalg.matrix_rank(A)\n",
    "rank_A_ext = np.linalg.matrix_rank(A_ext)\n",
    "n = len(A[0])\n",
    "\n",
    "print(f'A:\\n{A}\\n')\n",
    "print(f'A_ext:\\n{A_ext}\\n')\n",
    "\n",
    "print(f'rank(A): {rank_A}\\n')\n",
    "print(f'rank(A_ext): {rank_A_ext}\\n')\n",
    "print(f'# of vars: {n}\\n')\n",
    "\n",
    "if rank_A == rank_A_ext == n:\n",
    "    print(f'Система имеет единственное решение.')\n",
    "elif rank_A == rank_A_ext < n:\n",
    "    print(f'Система имеет бесконечное кол-во решений.')\n",
    "elif rank_A < rank_A_ext:\n",
    "    print(f'Система несовместна.')"
   ]
  },
  {
   "cell_type": "markdown",
   "id": "6a0b1103",
   "metadata": {},
   "source": [
    "3. Проверить на совместность и выяснить, сколько решений будет иметь система линейных уравнений, заданная расширенной матрицей"
   ]
  },
  {
   "cell_type": "code",
   "execution_count": 5,
   "id": "013fee93",
   "metadata": {},
   "outputs": [
    {
     "name": "stdout",
     "output_type": "stream",
     "text": [
      "A:\n",
      "[[ 1  3 -2  4]\n",
      " [ 0  5  0  1]\n",
      " [ 0  0  3  0]\n",
      " [ 0  0  0  2]]\n",
      "\n",
      "A_ext:\n",
      "[[ 1  3 -2  4  3]\n",
      " [ 0  5  0  1  2]\n",
      " [ 0  0  3  0  4]\n",
      " [ 0  0  0  2  1]]\n",
      "\n",
      "rank(A): 4\n",
      "\n",
      "rank(A_ext): 4\n",
      "\n",
      "# of vars: 4\n",
      "\n",
      "Система имеет единственное решение.\n"
     ]
    }
   ],
   "source": [
    "A = np.array([[1, 3, -2, 4], [0, 5, 0, 1], [0, 0, 3, 0], [0, 0, 0, 2]])\n",
    "b = np.array([3, 2, 4, 1])\n",
    "A_ext = np.column_stack([A, b])\n",
    "\n",
    "rank_A = np.linalg.matrix_rank(A)\n",
    "rank_A_ext = np.linalg.matrix_rank(A_ext)\n",
    "n = len(A[0])\n",
    "\n",
    "print(f'A:\\n{A}\\n')\n",
    "print(f'A_ext:\\n{A_ext}\\n')\n",
    "\n",
    "print(f'rank(A): {rank_A}\\n')\n",
    "print(f'rank(A_ext): {rank_A_ext}\\n')\n",
    "print(f'# of vars: {n}\\n')\n",
    "\n",
    "if rank_A == rank_A_ext == n:\n",
    "    print(f'Система имеет единственное решение.')\n",
    "elif rank_A == rank_A_ext < n:\n",
    "    print(f'Система имеет бесконечное кол-во решений.')\n",
    "elif rank_A < rank_A_ext:\n",
    "    print(f'Система несовместна.')"
   ]
  },
  {
   "cell_type": "markdown",
   "id": "6d8ca079",
   "metadata": {},
   "source": [
    "4. Дана система линейных уравнений, заданная расширенной матрицей\n",
    "A~=(123456789|abc).\n",
    "Найти соотношение между параметрами a, b и c, при которых система является несовместной.\n",
    "Запишем систему в виде расширенной матрицы.\n",
    "(123 456789|abc).\n",
    "1 строку умножим на 2 и вычтем и 2 строки.\n",
    "1 строку умножим на 3 и вычтем и 3 строки.\n",
    "(123 210420|ab−2ac−3a).\n",
    "2 строку умножим на 2 и вычтем из 3 строки.\n",
    "(123 210000|ab−2ac−3a−2b).\n",
    "Если c - 3a - 2b != 0, то система несовместна.\n"
   ]
  },
  {
   "cell_type": "code",
   "execution_count": 6,
   "id": "f983fbeb",
   "metadata": {},
   "outputs": [],
   "source": [
    "import numpy as np\n",
    "import scipy.linalg"
   ]
  },
  {
   "cell_type": "markdown",
   "id": "0546d188",
   "metadata": {},
   "source": [
    "1. Решить систему уравнений методом Крамера:\n",
    "а) {x1−2x2=1; 3x1−4x2=7\n",
    "б) ⎩2x1−x2+5x3=10; x1+x2−3x3=−2; 2x1+4x2+x3=1\n"
   ]
  },
  {
   "cell_type": "code",
   "execution_count": 7,
   "id": "5168b32f",
   "metadata": {},
   "outputs": [
    {
     "name": "stdout",
     "output_type": "stream",
     "text": [
      "A:\n",
      "[[ 1 -2]\n",
      " [ 3 -4]]\n",
      "\n",
      "b:\n",
      "[1 7]\n",
      "\n",
      "det(A): 2.0000000000000004\n",
      "\n",
      "Определитель матрицы квадратной системы не равен 0, система совместна и имеет единственное решение.\n",
      "\n",
      "A1:\n",
      "[[ 1 -2]\n",
      " [ 7 -4]]\n",
      "\n",
      "det(A1): 9.999999999999998\n",
      "\n",
      "A2:\n",
      "[[1 1]\n",
      " [3 7]]\n",
      "\n",
      "det(A2): 4.0\n",
      "\n",
      "x1 = 4.999999999999998\n",
      "x2 = 1.9999999999999996\n"
     ]
    }
   ],
   "source": [
    "# а)\n",
    "\n",
    "A = np.array([[1, -2], [3, -4]])\n",
    "b = np.array([1, 7])\n",
    "\n",
    "det_A = np.linalg.det(A)\n",
    "\n",
    "print(f'A:\\n{A}\\n')\n",
    "print(f'b:\\n{b}\\n')\n",
    "\n",
    "print(f'det(A): {det_A}\\n')\n",
    "\n",
    "if det_A != 0:\n",
    "    print(f'Определитель матрицы квадратной системы не равен 0, система совместна и имеет единственное решение.\\n')\n",
    "\n",
    "A1 = np.column_stack([b, A[:, 1]])\n",
    "det_A1 = np.linalg.det(A1)\n",
    "\n",
    "print(f'A1:\\n{A1}\\n')\n",
    "print(f'det(A1): {det_A1}\\n')\n",
    "\n",
    "A2 = np.column_stack([A[:, 0], b])\n",
    "det_A2 = np.linalg.det(A2)\n",
    "\n",
    "print(f'A2:\\n{A2}\\n')\n",
    "print(f'det(A2): {det_A2}\\n')\n",
    "\n",
    "print(f'x1 = {det_A1 / det_A}')\n",
    "print(f'x2 = {det_A2 / det_A}')"
   ]
  },
  {
   "cell_type": "code",
   "execution_count": 8,
   "id": "5d0a14dd",
   "metadata": {},
   "outputs": [
    {
     "name": "stdout",
     "output_type": "stream",
     "text": [
      "A:\n",
      "[[ 2 -1  5]\n",
      " [ 1  1 -3]\n",
      " [ 2  4  1]]\n",
      "\n",
      "b:\n",
      "[10 -2  1]\n",
      "\n",
      "det(A): 42.99999999999998\n",
      "\n",
      "Определитель матрицы квадратной системы не равен 0, система совместна и имеет единственное решение.\n",
      "\n",
      "A1:\n",
      "[[10 -1  5]\n",
      " [-2  1 -3]\n",
      " [ 1  4  1]]\n",
      "\n",
      "det(A1): 86.00000000000004\n",
      "\n",
      "A2:\n",
      "[[ 2 10  5]\n",
      " [ 1 -2 -3]\n",
      " [ 2  1  1]]\n",
      "\n",
      "det(A2): -43.000000000000014\n",
      "\n",
      "A3:\n",
      "[[ 2 -1 10]\n",
      " [ 1  1 -2]\n",
      " [ 2  4  1]]\n",
      "\n",
      "det(A3): 42.99999999999998\n",
      "\n",
      "x1 = 2.0000000000000018\n",
      "x2 = -1.0000000000000009\n",
      "x3 = 1.0\n"
     ]
    }
   ],
   "source": [
    "# б)\n",
    "\n",
    "A = np.array([[2, -1, 5], [1, 1, -3], [2, 4, 1]])\n",
    "b = np.array([10, -2, 1])\n",
    "\n",
    "det_A = np.linalg.det(A)\n",
    "\n",
    "print(f'A:\\n{A}\\n')\n",
    "print(f'b:\\n{b}\\n')\n",
    "\n",
    "print(f'det(A): {det_A}\\n')\n",
    "\n",
    "if det_A != 0:\n",
    "    print(f'Определитель матрицы квадратной системы не равен 0, система совместна и имеет единственное решение.\\n')\n",
    "\n",
    "A1 = np.column_stack([b, A[:, 1:]])\n",
    "det_A1 = np.linalg.det(A1)\n",
    "\n",
    "print(f'A1:\\n{A1}\\n')\n",
    "print(f'det(A1): {det_A1}\\n')\n",
    "\n",
    "A2 = np.column_stack([A[:, 0], b, A[:, 2]])\n",
    "det_A2 = np.linalg.det(A2)\n",
    "\n",
    "print(f'A2:\\n{A2}\\n')\n",
    "print(f'det(A2): {det_A2}\\n')\n",
    "\n",
    "A3 = np.column_stack([A[:, 0:2], b])\n",
    "det_A3 = np.linalg.det(A3)\n",
    "\n",
    "print(f'A3:\\n{A3}\\n')\n",
    "print(f'det(A3): {det_A3}\\n')\n",
    "\n",
    "print(f'x1 = {det_A1 / det_A}')\n",
    "print(f'x2 = {det_A2 / det_A}')\n",
    "print(f'x3 = {det_A3 / det_A}')"
   ]
  },
  {
   "cell_type": "markdown",
   "id": "ac58126f",
   "metadata": {},
   "source": [
    "2. Найти L-матрицу LU-разложения для матрицы коэффициентов:"
   ]
  },
  {
   "cell_type": "code",
   "execution_count": 9,
   "id": "cb2fa65e",
   "metadata": {},
   "outputs": [
    {
     "name": "stdout",
     "output_type": "stream",
     "text": [
      "A:\n",
      "[[ 1  2  4]\n",
      " [ 2  9 12]\n",
      " [ 3 26 30]]\n",
      "\n",
      "L:\n",
      "[[1 0 0]\n",
      " [2 1 0]\n",
      " [3 4 1]]\n",
      "\n",
      "U:\n",
      "[[1 2 4]\n",
      " [0 5 4]\n",
      " [0 0 2]]\n",
      "\n",
      "LU:\n",
      "[[ 1  2  4]\n",
      " [ 2  9 12]\n",
      " [ 3 26 30]]\n",
      "\n"
     ]
    }
   ],
   "source": [
    "A = np.array([[1, 2, 4], [2, 9, 12], [3, 26, 30]])\n",
    "U = np.array([[1, 2, 4], [0, 5, 4], [0, 0, 2]])\n",
    "L = np.array([[1, 0, 0], [2, 1, 0], [3, 4, 1]])\n",
    "\n",
    "LU = np.dot(L, U)\n",
    "\n",
    "print(f'A:\\n{A}\\n')\n",
    "print(f'L:\\n{L}\\n')\n",
    "print(f'U:\\n{U}\\n')\n",
    "print(f'LU:\\n{LU}\\n')"
   ]
  },
  {
   "cell_type": "code",
   "execution_count": 10,
   "id": "8ac624cc",
   "metadata": {},
   "outputs": [
    {
     "name": "stdout",
     "output_type": "stream",
     "text": [
      "A:\n",
      "[[ 1  1  2  4]\n",
      " [ 2  5  8  9]\n",
      " [ 3 18 29 18]\n",
      " [ 4 22 53 33]]\n",
      "\n",
      "L:\n",
      "[[1 0 0 0]\n",
      " [2 1 0 0]\n",
      " [3 5 1 0]\n",
      " [4 6 7 1]]\n",
      "\n",
      "U:\n",
      "[[1 1 2 4]\n",
      " [0 3 4 1]\n",
      " [0 0 3 1]\n",
      " [0 0 0 4]]\n",
      "\n",
      "LU:\n",
      "[[ 1  1  2  4]\n",
      " [ 2  5  8  9]\n",
      " [ 3 18 29 18]\n",
      " [ 4 22 53 33]]\n",
      "\n"
     ]
    }
   ],
   "source": [
    "A = np.array([[1, 1, 2, 4], [2, 5, 8, 9], [3, 18, 29, 18], [4, 22, 53, 33]])\n",
    "U = np.array([[1, 1, 2, 4], [0, 3, 4, 1], [0, 0, 3, 1], [0, 0, 0, 4]])\n",
    "L = np.array([[1, 0, 0, 0], [2, 1, 0, 0], [3, 5, 1, 0], [4, 6, 7, 1]])\n",
    "\n",
    "LU = np.dot(L, U)\n",
    "\n",
    "print(f'A:\\n{A}\\n')\n",
    "print(f'L:\\n{L}\\n')\n",
    "print(f'U:\\n{U}\\n')\n",
    "print(f'LU:\\n{LU}\\n')"
   ]
  },
  {
   "cell_type": "markdown",
   "id": "bbbc1728",
   "metadata": {},
   "source": [
    "3. Решить систему линейных уравнений методом LU-разложения\n",
    "⎩2x1+x2+3x3=111x1+7x2+5x3=−69x1+8x2+4x3=−5\n"
   ]
  },
  {
   "cell_type": "code",
   "execution_count": 11,
   "id": "e744b7af",
   "metadata": {},
   "outputs": [
    {
     "name": "stdout",
     "output_type": "stream",
     "text": [
      "A:\n",
      "[[ 2  1  3]\n",
      " [11  7  5]\n",
      " [ 9  8  4]]\n",
      "\n",
      "b:\n",
      "[ 1 -6 -5]\n",
      "\n",
      "x:\n",
      "[-1.00000000e+00  2.44249065e-16  1.00000000e+00]\n",
      "\n",
      "Ax:\n",
      "[ 1. -6. -5.]\n",
      "\n",
      "Ax - b:\n",
      "[0. 0. 0.]\n",
      "\n"
     ]
    }
   ],
   "source": [
    "A = np.array([[2, 1, 3], [11, 7, 5], [9, 8, 4]])\n",
    "b = np.array([1, -6, -5])\n",
    "\n",
    "lu, piv = scipy.linalg.lu_factor(A)\n",
    "x = scipy.linalg.lu_solve((lu, piv), b)\n",
    "\n",
    "print(f'A:\\n{A}\\n')\n",
    "print(f'b:\\n{b}\\n')\n",
    "print(f'x:\\n{x}\\n')\n",
    "print(f'Ax:\\n{A @ x}\\n')\n",
    "print(f'Ax - b:\\n{A @ x - b}\\n')"
   ]
  },
  {
   "cell_type": "markdown",
   "id": "cbc2578d",
   "metadata": {},
   "source": [
    "4. Решить систему линейных уравнений методом Холецкого\n",
    "⎩81x1−45x2+45x3=531−45x1+50x2−15x3=−46045x1−15x2+38x3=193\n"
   ]
  },
  {
   "cell_type": "code",
   "execution_count": 12,
   "id": "46759c77",
   "metadata": {},
   "outputs": [
    {
     "name": "stdout",
     "output_type": "stream",
     "text": [
      "A:\n",
      "[[ 81 -45  45]\n",
      " [-45  50 -15]\n",
      " [ 45 -15  38]]\n",
      "\n",
      "b:\n",
      "[ 531 -460  193]\n",
      "\n",
      "x:\n",
      "[ 6. -5. -4.]\n",
      "\n",
      "Ax:\n",
      "[ 531. -460.  193.]\n",
      "\n",
      "Ax - b:\n",
      "[0. 0. 0.]\n",
      "\n"
     ]
    }
   ],
   "source": [
    "A = np.array([[81, -45, 45], [-45, 50, -15], [45, -15, 38]])\n",
    "b = np.array([531, -460, 193])\n",
    "\n",
    "K = scipy.linalg.cho_factor(A)\n",
    "x = scipy.linalg.cho_solve(K, b)\n",
    "\n",
    "print(f'A:\\n{A}\\n')\n",
    "print(f'b:\\n{b}\\n')\n",
    "print(f'x:\\n{x}\\n')\n",
    "print(f'Ax:\\n{A @ x}\\n')\n",
    "print(f'Ax - b:\\n{A @ x - b}\\n')"
   ]
  }
 ],
 "metadata": {
  "kernelspec": {
   "display_name": "Python 3",
   "language": "python",
   "name": "python3"
  },
  "language_info": {
   "codemirror_mode": {
    "name": "ipython",
    "version": 3
   },
   "file_extension": ".py",
   "mimetype": "text/x-python",
   "name": "python",
   "nbconvert_exporter": "python",
   "pygments_lexer": "ipython3",
   "version": "3.8.8"
  }
 },
 "nbformat": 4,
 "nbformat_minor": 5
}
