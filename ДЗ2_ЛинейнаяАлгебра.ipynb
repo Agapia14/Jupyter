{
 "cells": [
  {
   "cell_type": "markdown",
   "id": "bf0e0697",
   "metadata": {},
   "source": [
    "1. Установить, какие произведения матриц AB и BA определены, и найти размерности полученных матриц:\n",
    "а) A — матрица 4×2, B — матрица 4×2;\n",
    "б) A — матрица 2×5, B — матрица 5×3;\n",
    "в) A — матрица 8×3, B — матрица 3×8;\n",
    "г) A — квадратная матрица 4×4, B — квадратная матрица 4×4.\n"
   ]
  },
  {
   "cell_type": "markdown",
   "id": "8ca0b94c",
   "metadata": {},
   "source": [
    "Вариант a:\n",
    "A∗B = 4×2 и 4×2\n",
    "B∗A = 4×2 и 4×2\n",
    "Произведения не определены\n"
   ]
  },
  {
   "cell_type": "markdown",
   "id": "db92b422",
   "metadata": {},
   "source": [
    "Вариант б:\n",
    "A∗B = 2×5 и 5×3, произведение определено, размерность полученной матрицы 2×3\n",
    "B∗A = 5×3 и 2×5, произведение не определено\n"
   ]
  },
  {
   "cell_type": "markdown",
   "id": "fb1bb0cb",
   "metadata": {},
   "source": [
    "Вариант в:\n",
    "A∗B = 8×3 и 3×8, произведение определено, размерность полученной матрицы 8×8\n",
    "B∗A = 3×8 и 8×3, произведение определено, размерность полученной матрицы 3*3\n"
   ]
  },
  {
   "cell_type": "markdown",
   "id": "8ecf44f4",
   "metadata": {},
   "source": [
    "Вариант г:\n",
    "A∗B, B∗A - оба произведения определены, размерность полученной матрицы 4*4\n"
   ]
  },
  {
   "cell_type": "code",
   "execution_count": 1,
   "id": "0b46a2c6",
   "metadata": {},
   "outputs": [],
   "source": [
    "import numpy as np"
   ]
  },
  {
   "cell_type": "code",
   "execution_count": 2,
   "id": "1bdae0fd",
   "metadata": {},
   "outputs": [],
   "source": [
    "def generate_matrix(n, m, min_value=0, max_value=9):\n",
    "    try:\n",
    "        return np.random.randint(min_value, max_value+1, (n, m))\n",
    "    except Exception as e:\n",
    "        return e\n",
    "\n",
    "def check(A, B):\n",
    "    try:\n",
    "        if len(A[0]) == len(B):\n",
    "            return True\n",
    "        else:\n",
    "            return False\n",
    "    except Exception as e:\n",
    "        print(f'Exception: {e}')\n",
    "        return False\n",
    "    "
   ]
  },
  {
   "cell_type": "code",
   "execution_count": 3,
   "id": "47e97e2d",
   "metadata": {},
   "outputs": [
    {
     "name": "stdout",
     "output_type": "stream",
     "text": [
      "A:\n",
      "[[6 6]\n",
      " [2 5]\n",
      " [3 4]\n",
      " [0 3]]\n",
      "\n",
      "B:\n",
      "[[0 6]\n",
      " [3 6]\n",
      " [6 6]\n",
      " [0 1]]\n",
      "\n",
      "Произведение матриц A x B не определено.\n",
      "\n",
      "Произведение матриц A x B не определено.\n",
      "\n"
     ]
    }
   ],
   "source": [
    "# а)\n",
    "\n",
    "A = generate_matrix(4, 2)\n",
    "B = generate_matrix(4, 2)\n",
    "\n",
    "print(f'A:\\n{A}\\n')\n",
    "print(f'B:\\n{B}\\n')\n",
    "\n",
    "if check(A, B):\n",
    "    print(f'A x B:\\n{np.dot(A, B)}\\n')\n",
    "else:\n",
    "    print('Произведение матриц A x B не определено.\\n')\n",
    "    \n",
    "if check(B, A):\n",
    "    print(f'B x A:\\n{np.dot(B, A)}\\n')\n",
    "else:\n",
    "    print('Произведение матриц A x B не определено.\\n')"
   ]
  },
  {
   "cell_type": "code",
   "execution_count": 4,
   "id": "bb4b095f",
   "metadata": {},
   "outputs": [
    {
     "name": "stdout",
     "output_type": "stream",
     "text": [
      "A:\n",
      "[[8 3 9 9 3]\n",
      " [2 8 7 7 0]]\n",
      "\n",
      "B:\n",
      "[[5 4 8]\n",
      " [7 6 3]\n",
      " [1 4 1]\n",
      " [3 1 4]\n",
      " [0 9 2]]\n",
      "\n",
      "A x B:\n",
      "[[ 97 122 124]\n",
      " [ 94  91  75]]\n",
      "\n",
      "Произведение матриц A x B не определено.\n",
      "\n"
     ]
    }
   ],
   "source": [
    "# б)\n",
    "\n",
    "A = generate_matrix(2, 5)\n",
    "B = generate_matrix(5, 3)\n",
    "\n",
    "print(f'A:\\n{A}\\n')\n",
    "print(f'B:\\n{B}\\n')\n",
    "\n",
    "if check(A, B):\n",
    "    print(f'A x B:\\n{np.dot(A, B)}\\n')\n",
    "else:\n",
    "    print('Произведение матриц A x B не определено.\\n')\n",
    "    \n",
    "if check(B, A):\n",
    "    print(f'B x A:\\n{np.dot(B, A)}\\n')\n",
    "else:\n",
    "    print('Произведение матриц A x B не определено.\\n')\n",
    "    "
   ]
  },
  {
   "cell_type": "code",
   "execution_count": 5,
   "id": "862718ce",
   "metadata": {},
   "outputs": [
    {
     "name": "stdout",
     "output_type": "stream",
     "text": [
      "A:\n",
      "[[0 9 7]\n",
      " [2 7 0]\n",
      " [6 1 7]\n",
      " [9 2 1]\n",
      " [7 4 3]\n",
      " [6 7 0]\n",
      " [6 4 6]\n",
      " [4 8 6]]\n",
      "\n",
      "B:\n",
      "[[8 9 0 9 4 1 6 7]\n",
      " [0 7 7 9 2 1 5 5]\n",
      " [8 9 0 2 0 0 2 3]]\n",
      "\n",
      "A x B:\n",
      "[[ 56 126  63  95  18   9  59  66]\n",
      " [ 16  67  49  81  22   9  47  49]\n",
      " [104 124   7  77  26   7  55  68]\n",
      " [ 80 104  14 101  40  11  66  76]\n",
      " [ 80 118  28 105  36  11  68  78]\n",
      " [ 48 103  49 117  38  13  71  77]\n",
      " [ 96 136  28 102  32  10  68  80]\n",
      " [ 80 146  56 120  32  12  76  86]]\n",
      "\n",
      "B x A:\n",
      "[[197 256 155]\n",
      " [207 149 124]\n",
      " [ 60 171  88]]\n",
      "\n"
     ]
    }
   ],
   "source": [
    "# в)\n",
    "\n",
    "A = generate_matrix(8, 3)\n",
    "B = generate_matrix(3, 8)\n",
    "\n",
    "print(f'A:\\n{A}\\n')\n",
    "print(f'B:\\n{B}\\n')\n",
    "\n",
    "if check(A, B):\n",
    "    print(f'A x B:\\n{np.dot(A, B)}\\n')\n",
    "else:\n",
    "    print('Произведение матриц A x B не определено.\\n')\n",
    "    \n",
    "if check(B, A):\n",
    "    print(f'B x A:\\n{np.dot(B, A)}\\n')\n",
    "else:\n",
    "    print('Произведение матриц A x B не определено.\\n')\n",
    "    "
   ]
  },
  {
   "cell_type": "code",
   "execution_count": 6,
   "id": "4c984a25",
   "metadata": {
    "scrolled": true
   },
   "outputs": [
    {
     "name": "stdout",
     "output_type": "stream",
     "text": [
      "A:\n",
      "[[2 2 4 0]\n",
      " [9 3 8 9]\n",
      " [0 3 0 2]\n",
      " [8 3 4 5]]\n",
      "\n",
      "B:\n",
      "[[9 8 0 5]\n",
      " [9 7 9 0]\n",
      " [0 4 5 9]\n",
      " [9 9 5 6]]\n",
      "\n",
      "A x B:\n",
      "[[ 36  46  38  46]\n",
      " [189 206 112 171]\n",
      " [ 45  39  37  12]\n",
      " [144 146  72 106]]\n",
      "\n",
      "B x A:\n",
      "[[130  57 120  97]\n",
      " [ 81  66  92  81]\n",
      " [108  54  68  91]\n",
      " [147  78 132 121]]\n",
      "\n"
     ]
    }
   ],
   "source": [
    "# г)\n",
    "\n",
    "A = generate_matrix(4, 4)\n",
    "B = generate_matrix(4, 4)\n",
    "\n",
    "print(f'A:\\n{A}\\n')\n",
    "print(f'B:\\n{B}\\n')\n",
    "\n",
    "if check(A, B):\n",
    "    print(f'A x B:\\n{np.dot(A, B)}\\n')\n",
    "else:\n",
    "    print('Произведение матриц A x B не определено.\\n')\n",
    "    \n",
    "if check(B, A):\n",
    "    print(f'B x A:\\n{np.dot(B, A)}\\n')\n",
    "else:\n",
    "    print('Произведение матриц A x B не определено.\\n')\n",
    "    "
   ]
  },
  {
   "attachments": {},
   "cell_type": "markdown",
   "id": "34590ac1",
   "metadata": {},
   "source": [
    "2. Найти сумму и произведение матриц А=(1/3;-2/0)  и В (4/0;-1/5)"
   ]
  },
  {
   "cell_type": "code",
   "execution_count": 7,
   "id": "1904aefc",
   "metadata": {},
   "outputs": [
    {
     "name": "stdout",
     "output_type": "stream",
     "text": [
      "A:\n",
      "[[ 1 -2]\n",
      " [ 3  0]]\n",
      "\n",
      "B:\n",
      "[[ 4 -1]\n",
      " [ 0  5]]\n",
      "\n",
      "A + B:\n",
      "[[ 5 -3]\n",
      " [ 3  5]]\n",
      "\n",
      "A x B:\n",
      "[[  4 -11]\n",
      " [ 12  -3]]\n",
      "\n",
      "B x A:\n",
      "[[ 1 -8]\n",
      " [15  0]]\n",
      "\n"
     ]
    }
   ],
   "source": [
    "A = np.array([[1, -2], [3, 0]])\n",
    "B = np.array([[4, -1], [0, 5]])\n",
    "\n",
    "print(f'A:\\n{A}\\n')\n",
    "print(f'B:\\n{B}\\n')\n",
    "\n",
    "print(f'A + B:\\n{A + B}\\n')\n",
    "print(f'A x B:\\n{np.dot(A, B)}\\n')\n",
    "print(f'B x A:\\n{np.dot(B, A)}\\n')"
   ]
  },
  {
   "cell_type": "markdown",
   "id": "a5cc41c1",
   "metadata": {},
   "source": [
    "3. Из закономерностей сложения и умножения матриц на число можно сделать вывод, что матрицы одного размера образуют линейное пространство. Вычислить линейную комбинацию 3А-2В+4С для матриц А=(1/3;7/-6), В=(0/2;5/-1), С=(2/1;-4/1)"
   ]
  },
  {
   "cell_type": "code",
   "execution_count": 8,
   "id": "c587c523",
   "metadata": {},
   "outputs": [
    {
     "name": "stdout",
     "output_type": "stream",
     "text": [
      "A:\n",
      "[[ 1  7]\n",
      " [ 3 -6]]\n",
      "\n",
      "B:\n",
      "[[ 0  5]\n",
      " [ 2 -1]]\n",
      "\n",
      "C:\n",
      "[[ 2 -4]\n",
      " [ 1  1]]\n",
      "\n",
      "3A - 2B + 4C:\n",
      "[[ 11  -5]\n",
      " [  9 -12]]\n",
      "\n"
     ]
    }
   ],
   "source": [
    "A = np.array([[1, 7], [3, -6]])\n",
    "B = np.array([[0, 5], [2, -1]])\n",
    "C = np.array([[2, -4], [1, 1]])\n",
    "\n",
    "print(f'A:\\n{A}\\n')\n",
    "print(f'B:\\n{B}\\n')\n",
    "print(f'C:\\n{C}\\n')\n",
    "\n",
    "print(f'3A - 2B + 4C:\\n{3 * A - 2 * B + 4 * C}\\n')"
   ]
  },
  {
   "cell_type": "markdown",
   "id": "67d9d262",
   "metadata": {},
   "source": [
    "4. Дана матрица А=(4/5/2;1/-2/3). Вычислить АА*Т и А*Т А"
   ]
  },
  {
   "cell_type": "code",
   "execution_count": 9,
   "id": "05124269",
   "metadata": {},
   "outputs": [
    {
     "name": "stdout",
     "output_type": "stream",
     "text": [
      "A:\n",
      "[[ 4  1]\n",
      " [ 5 -2]\n",
      " [ 2  3]]\n",
      "\n",
      "A.T:\n",
      "[[ 4  5  2]\n",
      " [ 1 -2  3]]\n",
      "\n",
      "A x A.T:\n",
      "[[17 18 11]\n",
      " [18 29  4]\n",
      " [11  4 13]]\n",
      "\n",
      "A.T x A:\n",
      "[[45  0]\n",
      " [ 0 14]]\n",
      "\n"
     ]
    }
   ],
   "source": [
    "A = np.array([[4, 1], [5, -2], [2, 3]])\n",
    "\n",
    "print(f'A:\\n{A}\\n')\n",
    "print(f'A.T:\\n{A.T}\\n')\n",
    "\n",
    "print(f'A x A.T:\\n{np.dot(A, A.T)}\\n')\n",
    "print(f'A.T x A:\\n{np.dot(A.T, A)}\\n')"
   ]
  },
  {
   "cell_type": "code",
   "execution_count": 10,
   "id": "d637d94c",
   "metadata": {},
   "outputs": [],
   "source": [
    "import numpy as np\n",
    "import math\n",
    "import copy"
   ]
  },
  {
   "cell_type": "code",
   "execution_count": 11,
   "id": "c30d0277",
   "metadata": {},
   "outputs": [],
   "source": [
    "def matrix_determinant_2x2_3x3(A):\n",
    "    try:\n",
    "        if len(A) == len(A[0]):\n",
    "            if len(A) == 2:\n",
    "                det = A[0][0] * A[1][1] - A[0][1] * A[1][0]\n",
    "                return det\n",
    "            elif len(A) == 3:\n",
    "                det = (\n",
    "                    A[0][0] * A[1][1] * A[2][2] +\n",
    "                    A[0][1] * A[1][2] * A[2][0] +\n",
    "                    A[0][2] * A[1][0] * A[2][1] -\n",
    "                    A[0][2] * A[1][1] * A[2][0] -\n",
    "                    A[0][1] * A[1][0] * A[2][2] -\n",
    "                    A[0][0] * A[1][2] * A[2][1]\n",
    "                )\n",
    "                return det\n",
    "            else:\n",
    "                return 'Only 2x2 or 3x3 matricies'\n",
    "        else:\n",
    "            return 'Determinant is not defined'\n",
    "    except Exception as e:\n",
    "        return e\n",
    "    "
   ]
  },
  {
   "cell_type": "markdown",
   "id": "6d28a075",
   "metadata": {},
   "source": [
    "1. Вычислить определитель: а) |sinx -cosx/cosx sinx|; б) |4/0/0;2/5/0; 3/1/9|; в) |1/4/7; 2/5/8; 3/6/9|"
   ]
  },
  {
   "cell_type": "code",
   "execution_count": 12,
   "id": "cc4d63d7",
   "metadata": {},
   "outputs": [
    {
     "name": "stdout",
     "output_type": "stream",
     "text": [
      "A:\n",
      "[[ 0.70710678 -0.70710678]\n",
      " [ 0.70710678  0.70710678]]\n",
      "\n",
      "Trial(det(A)): 1.0000000000000002\n",
      "\n",
      "Check(det(A)): 1.0\n",
      "\n"
     ]
    }
   ],
   "source": [
    "# а)\n",
    "\n",
    "x = math.pi / 4\n",
    "\n",
    "A = np.array([[math.sin(x), -math.cos(x)], [math.cos(x), math.sin(x)]])\n",
    "\n",
    "print(f'A:\\n{A}\\n')\n",
    "\n",
    "print(f'Trial(det(A)): {matrix_determinant_2x2_3x3(A)}\\n')\n",
    "\n",
    "print(f'Check(det(A)): {np.linalg.det(A)}\\n')"
   ]
  },
  {
   "cell_type": "code",
   "execution_count": 13,
   "id": "d545fb19",
   "metadata": {},
   "outputs": [
    {
     "name": "stdout",
     "output_type": "stream",
     "text": [
      "A:\n",
      "[[4 2 3]\n",
      " [0 5 1]\n",
      " [0 0 9]]\n",
      "\n",
      "Trial(det(A)): 180\n",
      "\n",
      "Check(det(A)): 180.0\n",
      "\n"
     ]
    }
   ],
   "source": [
    "# б)\n",
    "\n",
    "A = np.array([[4, 2, 3], [0, 5, 1], [0, 0, 9]])\n",
    "\n",
    "print(f'A:\\n{A}\\n')\n",
    "\n",
    "print(f'Trial(det(A)): {matrix_determinant_2x2_3x3(A)}\\n')\n",
    "\n",
    "print(f'Check(det(A)): {np.linalg.det(A)}\\n')"
   ]
  },
  {
   "cell_type": "code",
   "execution_count": 14,
   "id": "9c776b1c",
   "metadata": {},
   "outputs": [
    {
     "name": "stdout",
     "output_type": "stream",
     "text": [
      "A:\n",
      "[[1 2 3]\n",
      " [4 5 6]\n",
      " [7 8 9]]\n",
      "\n",
      "Trial(det(A)): 0\n",
      "\n",
      "Check(det(A)): -9.51619735392994e-16\n",
      "\n"
     ]
    }
   ],
   "source": [
    "# в)\n",
    "\n",
    "A = np.array([[1, 2, 3], [4, 5, 6], [7, 8, 9]])\n",
    "\n",
    "print(f'A:\\n{A}\\n')\n",
    "\n",
    "print(f'Trial(det(A)): {matrix_determinant_2x2_3x3(A)}\\n')\n",
    "\n",
    "print(f'Check(det(A)): {np.linalg.det(A)}\\n')"
   ]
  },
  {
   "cell_type": "markdown",
   "id": "a282fa32",
   "metadata": {},
   "source": [
    "2. Определитель матрицы A равен 4. Найти:\n",
    "а) det(A2);\n",
    "б) det(AT);\n",
    "в) det(2A).\n"
   ]
  },
  {
   "cell_type": "markdown",
   "id": "f1822152",
   "metadata": {},
   "source": [
    "Вариант а:\n",
    "det(A2)=det(AA)=det(A)∗det(a)=4∗4=16\n",
    "Вариант б:\n",
    "det(AT)=det(A)=4\n",
    "Вариант в:\n",
    "det(2A)=det(A)∗2n=4∗2n, n - кол-во строк в матрице\n"
   ]
  },
  {
   "cell_type": "code",
   "execution_count": 15,
   "id": "6f882600",
   "metadata": {},
   "outputs": [
    {
     "name": "stdout",
     "output_type": "stream",
     "text": [
      "A:\n",
      "[[ 1 -2]\n",
      " [ 1  2]]\n",
      "\n",
      "det(A): 4.0\n",
      "\n"
     ]
    }
   ],
   "source": [
    "A = np.array([[1, -2], [1, 2]])\n",
    "\n",
    "print(f'A:\\n{A}\\n')\n",
    "print(f'det(A): {np.linalg.det(A)}\\n')"
   ]
  },
  {
   "cell_type": "code",
   "execution_count": 16,
   "id": "6d98348c",
   "metadata": {},
   "outputs": [
    {
     "name": "stdout",
     "output_type": "stream",
     "text": [
      "A:\n",
      "[[ 1 -2]\n",
      " [ 1  2]]\n",
      "\n",
      "det(A): 4.0\n",
      "\n",
      "A^2:\n",
      "[[-1 -6]\n",
      " [ 3  2]]\n",
      "\n",
      "det(A^2): 16.000000000000007\n",
      "\n"
     ]
    }
   ],
   "source": [
    "print(f'A:\\n{A}\\n')\n",
    "print(f'det(A): {np.linalg.det(A)}\\n')\n",
    "print(f'A^2:\\n{np.dot(A, A)}\\n')\n",
    "print(f'det(A^2): {np.linalg.det(np.dot(A, A))}\\n')"
   ]
  },
  {
   "cell_type": "code",
   "execution_count": 17,
   "id": "0bef1a34",
   "metadata": {},
   "outputs": [
    {
     "name": "stdout",
     "output_type": "stream",
     "text": [
      "A:\n",
      "[[ 1 -2]\n",
      " [ 1  2]]\n",
      "\n",
      "det(A): 4.0\n",
      "\n",
      "A:\n",
      "[[ 1  1]\n",
      " [-2  2]]\n",
      "\n",
      "det(A.T): 4.0\n",
      "\n"
     ]
    }
   ],
   "source": [
    "print(f'A:\\n{A}\\n')\n",
    "print(f'det(A): {np.linalg.det(A)}\\n')\n",
    "print(f'A:\\n{A.T}\\n')\n",
    "print(f'det(A.T): {np.linalg.det(A.T)}\\n')"
   ]
  },
  {
   "cell_type": "code",
   "execution_count": 18,
   "id": "9ee5f35a",
   "metadata": {},
   "outputs": [
    {
     "name": "stdout",
     "output_type": "stream",
     "text": [
      "A:\n",
      "[[ 1 -2]\n",
      " [ 1  2]]\n",
      "\n",
      "det(A): 4.0\n",
      "\n",
      "2A:\n",
      "[[ 2 -4]\n",
      " [ 2  4]]\n",
      "\n",
      "det(2A): 16\n",
      "\n",
      "det(2A): 15.999999999999998\n",
      "\n"
     ]
    }
   ],
   "source": [
    "print(f'A:\\n{A}\\n')\n",
    "print(f'det(A): {np.linalg.det(A)}\\n')\n",
    "print(f'2A:\\n{np.dot(2, A)}\\n')\n",
    "print(f'det(2A): {2**(A.shape[0] + 2)}\\n')\n",
    "print(f'det(2A): {np.linalg.det(2 * A)}\\n')"
   ]
  },
  {
   "cell_type": "markdown",
   "id": "bd4664b8",
   "metadata": {},
   "source": [
    "3. Доказать, что матрица (-2/4/-3;7/-14/7; -3/6/13) вырожденная\n",
    "\n",
    "1) Если det(A)=0, то матрица A вырождена.\n",
    "2) Если, как минимум, две строки матрицы A линейно зависимы, то матрица A вырождена.\n"
   ]
  },
  {
   "cell_type": "code",
   "execution_count": 19,
   "id": "7750b915",
   "metadata": {},
   "outputs": [
    {
     "name": "stdout",
     "output_type": "stream",
     "text": [
      "A:\n",
      "[[ -2   7  -3]\n",
      " [  4 -14   6]\n",
      " [ -3   7  13]]\n",
      "\n"
     ]
    }
   ],
   "source": [
    "A = np.array([[-2, 7, -3], [4, -14, 6], [-3, 7, 13]])\n",
    "\n",
    "print(f'A:\\n{A}\\n')"
   ]
  },
  {
   "cell_type": "code",
   "execution_count": 20,
   "id": "ac3dabc4",
   "metadata": {},
   "outputs": [
    {
     "name": "stdout",
     "output_type": "stream",
     "text": [
      "A:\n",
      "[[ -2   7  -3]\n",
      " [  4 -14   6]\n",
      " [ -3   7  13]]\n",
      "\n",
      "det(A): 0.0\n",
      "\n"
     ]
    }
   ],
   "source": [
    "# 1)\n",
    "\n",
    "print(f'A:\\n{A}\\n')\n",
    "print(f'det(A): {np.linalg.det( A)}\\n')"
   ]
  },
  {
   "cell_type": "code",
   "execution_count": 21,
   "id": "7b78a59f",
   "metadata": {},
   "outputs": [
    {
     "name": "stdout",
     "output_type": "stream",
     "text": [
      "A:\n",
      "[[ -2   7  -3]\n",
      " [  4 -14   6]\n",
      " [ -3   7  13]]\n",
      "\n",
      "Умножим первую строку матрицы A на -2:\n",
      "-2[-2  7 -3] = [  4 -14   6]\n",
      "\n",
      "В результате умножения получаем вторую строку матрицы A:\n",
      "[  4 -14   6] = [  4 -14   6]\n",
      "Вторая строка матрицы A является линейной комбинацией первой строки матрицы A.\n",
      "Первая и вторая строки матрицы A линейнозависимы.\n"
     ]
    }
   ],
   "source": [
    "# 2)\n",
    "\n",
    "print(f'A:\\n{A}\\n')\n",
    "print(f'Умножим первую строку матрицы A на -2:')\n",
    "print(f'-2{A[0]} = {A[1]}\\n')\n",
    "print(f'В результате умножения получаем вторую строку матрицы A:')\n",
    "print(f'{-2 * A[0]} = {A[1]}')\n",
    "print(f'Вторая строка матрицы A является линейной комбинацией первой строки матрицы A.')\n",
    "print(f'Первая и вторая строки матрицы A линейнозависимы.')"
   ]
  },
  {
   "cell_type": "markdown",
   "id": "27f4f4de",
   "metadata": {},
   "source": [
    "4. Найти ранг матрицы:\n",
    "а) (1/1/2;2/1/3;3/1/4)\n",
    "б) (0/0/0/2;0/0/0/3;2/2/4/5;1/2/3/6)\n",
    " \n",
    "Определение\n",
    "Строчным рангом матрицы называется максимальное число линейно независимых строк этой матрицы.\n",
    "Столбцовым рангом матрицы называется максимальное число линейно независимых столбцов этой матрицы.\n",
    "Теорема\n",
    "Строчный ранг матрицы всегда совпадает с столбцовым и равен максимальному размеру ее невырожденного минора.\n"
   ]
  },
  {
   "cell_type": "code",
   "execution_count": 22,
   "id": "50621e4a",
   "metadata": {},
   "outputs": [
    {
     "name": "stdout",
     "output_type": "stream",
     "text": [
      "A:\n",
      "[[1 2 3]\n",
      " [1 1 1]\n",
      " [2 3 4]]\n",
      "\n"
     ]
    }
   ],
   "source": [
    "# а)\n",
    "\n",
    "A = np.array([[1, 2, 3], [1, 1, 1], [2, 3, 4]])\n",
    "\n",
    "print(f'A:\\n{A}\\n')"
   ]
  },
  {
   "cell_type": "code",
   "execution_count": 23,
   "id": "fc4d3624",
   "metadata": {},
   "outputs": [
    {
     "name": "stdout",
     "output_type": "stream",
     "text": [
      "A:\n",
      "[[1 2 3]\n",
      " [1 1 1]\n",
      " [2 3 4]]\n",
      "\n",
      "Сложим первую и вторую строки матрицы A:\n",
      "[1 2 3] + [1 1 1] = [2 3 4]\n",
      "\n",
      "В результате сложения получаем третью строку матрицы A:\n",
      "[2 3 4]\n",
      "\n",
      "Третья строка матрицы A является линейной комбинацией первой и второй строк матрицы A.\n",
      "rank(A): 2\n",
      "\n"
     ]
    }
   ],
   "source": [
    "print(f'A:\\n{A}\\n')\n",
    "print(f'Сложим первую и вторую строки матрицы A:')\n",
    "print(f'{A[0]} + {A[1]} = {A[0] + A[1]}\\n')\n",
    "print(f'В результате сложения получаем третью строку матрицы A:')\n",
    "print(f'{A[2]}\\n')\n",
    "print(f'Третья строка матрицы A является линейной комбинацией первой и второй строк матрицы A.')\n",
    "print(f'rank(A): 2\\n')"
   ]
  },
  {
   "cell_type": "code",
   "execution_count": 24,
   "id": "72809781",
   "metadata": {},
   "outputs": [
    {
     "name": "stdout",
     "output_type": "stream",
     "text": [
      "A:\n",
      "[[1 2 3]\n",
      " [1 1 1]\n",
      " [2 3 4]]\n",
      "\n",
      "rank(A): 2\n",
      "\n"
     ]
    }
   ],
   "source": [
    "print(f'A:\\n{A}\\n')\n",
    "print(f'rank(A): {np.linalg.matrix_rank(A)}\\n')"
   ]
  },
  {
   "cell_type": "code",
   "execution_count": 25,
   "id": "1432fc36",
   "metadata": {},
   "outputs": [
    {
     "name": "stdout",
     "output_type": "stream",
     "text": [
      "A:\n",
      "[[0 0 2 1]\n",
      " [0 0 2 2]\n",
      " [0 0 4 3]\n",
      " [2 3 5 6]]\n",
      "\n"
     ]
    }
   ],
   "source": [
    "# б)\n",
    "\n",
    "A = np.array([[0, 0, 2, 1], [0, 0, 2, 2], [0, 0, 4, 3], [2, 3, 5, 6]])\n",
    "\n",
    "print(f'A:\\n{A}\\n')"
   ]
  },
  {
   "cell_type": "code",
   "execution_count": 26,
   "id": "87d68142",
   "metadata": {},
   "outputs": [
    {
     "name": "stdout",
     "output_type": "stream",
     "text": [
      "A:\n",
      "[[0 0 2 1]\n",
      " [0 0 2 2]\n",
      " [0 0 4 3]\n",
      " [2 3 5 6]]\n",
      "\n",
      "Вычтем из третьей строки вторую строку A:\n",
      "[0 0 4 3] - [0 0 2 2] = [0 0 2 1]\n",
      "\n",
      "В результате вычитания получаем первую строку матрицы A:\n",
      "[0 0 2 1]\n",
      "\n",
      "Первая строка матрицы A является линейной комбинацией втрой и третьей строк матрицы A.\n",
      "rank(A): 3\n",
      "\n"
     ]
    }
   ],
   "source": [
    "print(f'A:\\n{A}\\n')\n",
    "print(f'Вычтем из третьей строки вторую строку A:')\n",
    "print(f'{A[2]} - {A[1]} = {A[2] - A[1]}\\n')\n",
    "print(f'В результате вычитания получаем первую строку матрицы A:')\n",
    "print(f'{A[0]}\\n')\n",
    "print(f'Первая строка матрицы A является линейной комбинацией втрой и третьей строк матрицы A.')\n",
    "print(f'rank(A): 3\\n')"
   ]
  },
  {
   "cell_type": "code",
   "execution_count": 27,
   "id": "ed688570",
   "metadata": {},
   "outputs": [
    {
     "name": "stdout",
     "output_type": "stream",
     "text": [
      "A:\n",
      "[[0 0 2 1]\n",
      " [0 0 2 2]\n",
      " [0 0 4 3]\n",
      " [2 3 5 6]]\n",
      "\n",
      "rank(A): 3\n",
      "\n"
     ]
    }
   ],
   "source": [
    "print(f'A:\\n{A}\\n')\n",
    "print(f'rank(A): {np.linalg.matrix_rank(A)}\\n')"
   ]
  }
 ],
 "metadata": {
  "kernelspec": {
   "display_name": "Python 3",
   "language": "python",
   "name": "python3"
  },
  "language_info": {
   "codemirror_mode": {
    "name": "ipython",
    "version": 3
   },
   "file_extension": ".py",
   "mimetype": "text/x-python",
   "name": "python",
   "nbconvert_exporter": "python",
   "pygments_lexer": "ipython3",
   "version": "3.8.8"
  }
 },
 "nbformat": 4,
 "nbformat_minor": 5
}
